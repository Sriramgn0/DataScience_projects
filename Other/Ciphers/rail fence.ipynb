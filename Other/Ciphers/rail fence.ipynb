{
 "cells": [
  {
   "cell_type": "markdown",
   "metadata": {},
   "source": [
    "### Rail Fence Transposition"
   ]
  },
  {
   "cell_type": "code",
   "execution_count": 41,
   "metadata": {},
   "outputs": [],
   "source": [
    "message = \"THY SECRET IS THY PRISONER; IF THOU LET IT GO, THOU ART A PRISONER TO IT\""
   ]
  },
  {
   "cell_type": "markdown",
   "metadata": {},
   "source": [
    "### 2 line transposition"
   ]
  },
  {
   "cell_type": "code",
   "execution_count": 42,
   "metadata": {},
   "outputs": [],
   "source": [
    "def transposition_cipher(x):\n",
    "    x = str(x)\n",
    "    import re\n",
    "    x_cleaned = re.sub(r'\\W+', '', x)\n",
    "    xr = x_cleaned.replace(\" \", \"\")\n",
    "    xa = xr[::2]\n",
    "    xb = xr[1::2]\n",
    "    print(\"plaintext: \" + x)\n",
    "    print(\"cipher:\")\n",
    "    print(\"\")\n",
    "    print(\" \".join(xa))\n",
    "    print(\" \" +\" \".join(xb))\n",
    "    print(\"\")\n",
    "    print(\"encoded plaintext:\")\n",
    "    print(\"\")\n",
    "    print(xa+xb)\n",
    "    \n",
    "    "
   ]
  },
  {
   "cell_type": "code",
   "execution_count": 43,
   "metadata": {},
   "outputs": [
    {
     "name": "stdout",
     "output_type": "stream",
     "text": "plaintext: THY SECRET IS THY PRISONER; IF THOU LET IT GO, THOU ART A PRISONER TO IT\ncipher:\n\nT Y E R T S H P I O E I T O L T T O H U R A R S N R O T\n H S C E I T Y R S N R F H U E I G T O A T P I O E T I\n\nencoded plaintext:\n\nTYERTSHPIOEITOLTTOHURARSNROTHSCEITYRSNRFHUEIGTOATPIOETI\n"
    }
   ],
   "source": [
    "transposition_cipher(message)"
   ]
  },
  {
   "cell_type": "markdown",
   "metadata": {},
   "source": [
    "### 3 line transposition"
   ]
  },
  {
   "cell_type": "code",
   "execution_count": 44,
   "metadata": {},
   "outputs": [],
   "source": [
    "def transposition_cipher(x):\n",
    "    x = str(x)\n",
    "    import re\n",
    "    x_cleaned = re.sub(r'\\W+', '', x)\n",
    "    xr = x_cleaned.replace(\" \", \"\")\n",
    "    xa = xr[::3]\n",
    "    xb = xr[1::3]\n",
    "    xc = xr[2::3]\n",
    "    print(\"plaintext: \" + x)\n",
    "    print(\"cipher:\")\n",
    "    print(\"\")\n",
    "    print(\" \".join(xa))\n",
    "    print(\" \" +\" \".join(xb))\n",
    "    print(\"  \"+\" \".join(xc))\n",
    "    print(\"\")\n",
    "    print(\"encoded plaintext:\")\n",
    "    print(\"\")\n",
    "    print(xa+xb+xc)"
   ]
  },
  {
   "cell_type": "code",
   "execution_count": 46,
   "metadata": {},
   "outputs": [
    {
     "name": "stdout",
     "output_type": "stream",
     "text": "plaintext: THY SECRET IS THY PRISONER; IF THOU LET IT GO, THOU ART A PRISONER TO IT\ncipher:\n\nT S R I H R O R T U T G H A A I N T T\n H E E S Y I N I H L I O O R P S E O\n  Y C T T P S E F O E T T U T R O R I\n\nencoded plaintext:\n\nTSRIHRORTUTGHAAINTTHEESYINIHLIOORPSEOYCTTPSEFOETTUTRORI\n"
    }
   ],
   "source": [
    "transposition_cipher(message)"
   ]
  },
  {
   "cell_type": "markdown",
   "metadata": {},
   "source": [
    "### x line transposition"
   ]
  },
  {
   "cell_type": "code",
   "execution_count": 47,
   "metadata": {},
   "outputs": [],
   "source": [
    "def transposition_cipher(x,y):\n",
    "    x = str(x)\n",
    "    y = int(y)\n",
    "    import re\n",
    "    x_cleaned = re.sub(r'\\W+', '', x)\n",
    "    xr = x_cleaned.replace(\" \", \"\")\n",
    "    xr = xr.upper()\n",
    "    \n",
    "    output = []\n",
    "    My_list = [*range(0, y, 1)] \n",
    "    \n",
    "\n",
    "    for i in My_list:\n",
    "        output.append(xr[i::y])\n",
    "    print(\"plaintext: \" + x)\n",
    "    print(\"cipher:\")\n",
    "    print(\"\")\n",
    "    for idx,i in enumerate(output):\n",
    "        print(idx*' ' + \" \".join(output[idx]))\n",
    "    \n",
    "    print(\"\")\n",
    "    print(\"encoded plaintext:\")\n",
    "    print(\"\")\n",
    "    print(''.join(output))"
   ]
  },
  {
   "cell_type": "code",
   "execution_count": 84,
   "metadata": {},
   "outputs": [
    {
     "name": "stdout",
     "output_type": "stream",
     "text": "plaintext: THY SECRET IS THY PRISONER; IF THOU LET IT GO, THOU ART A PRISONER TO IT\ncipher:\n\nT Y E R T S H P I O E I T O L T T O H U R A R S N R O T\n H S C E I T Y R S N R F H U E I G T O A T P I O E T I\n\nencoded plaintext:\n\nTYERTSHPIOEITOLTTOHURARSNROTHSCEITYRSNRFHUEIGTOATPIOETI\n"
    }
   ],
   "source": [
    "#test\n",
    "transposition_cipher(message,2)"
   ]
  },
  {
   "cell_type": "markdown",
   "metadata": {},
   "source": [
    "### cipher decrypter\n",
    "    \n",
    "    "
   ]
  },
  {
   "cell_type": "code",
   "execution_count": 88,
   "metadata": {},
   "outputs": [],
   "source": [
    "def transposition_decrypter(x):\n",
    "    hidden_text = str(x)\n",
    "    import re\n",
    "    x_cleaned = re.sub(r'\\W+', '', hidden_text)\n",
    "    hidden_text = x_cleaned.replace(\" \", \"\")\n",
    "    hidden_text = hidden_text.upper()\n",
    "   \n",
    "    if len(hidden_text) % 2 == True:\n",
    "        midpoint = int(len(hidden_text) / 2)\n",
    "\n",
    "    else:\n",
    "        hidden_text = hidden_text + \" \"\n",
    "        midpoint = int(len(hidden_text) / 2)\n",
    "\n",
    "    plaintext = \"\"\n",
    "\n",
    "    for i in range(0, midpoint-1):\n",
    "        plaintext = plaintext + hidden_text[i] + hidden_text[i + midpoint]\n",
    "    \n",
    "    print(plaintext)"
   ]
  },
  {
   "cell_type": "code",
   "execution_count": 89,
   "metadata": {},
   "outputs": [
    {
     "name": "stdout",
     "output_type": "stream",
     "text": "TTYHESRCTESIHTPYIROSENIRTFOHLUTETIOGHTUORAATRPSINORE\n"
    }
   ],
   "source": [
    "transposition_decrypter('TYERTSHPIOEITOLTTOHURARSNROTHSCEITYRSNRFHUEIGTOATPIOETI')\n",
    "\n",
    "    "
   ]
  },
  {
   "cell_type": "code",
   "execution_count": 127,
   "metadata": {},
   "outputs": [],
   "source": [
    "#second attempt\n",
    "def transposition_decrypter(x,y):\n",
    "    import numpy as np\n",
    "    import pandas as pd\n",
    "    import re\n",
    "\n",
    "\n",
    "    hidden_text = str(x)\n",
    "    x_cleaned = re.sub(r'\\W+', '', hidden_text)\n",
    "    hidden_text = x_cleaned.replace(\" \", \"\")\n",
    "    hidden_text = hidden_text.upper()\n",
    "    n = 2*(y-1)\n",
    "    for i in hidden_text:\n",
    "        for m in y:\n",
    "        print(hidden_text[::n])\n",
    "\n"
   ]
  },
  {
   "cell_type": "code",
   "execution_count": null,
   "metadata": {},
   "outputs": [],
   "source": [
    "for i in hidden_text:\n",
    "    for idx,n in enumerate(hidden_text):\n",
    "        init_row = n\n",
    "    for idx,m in enumerate(hidden_text):\n",
    "        init_col = \n",
    "    \n",
    "    df.iloc[init_row,init_col] = i\n",
    "    init_row = init_row + 1\n",
    "    init_row\n",
    "\n",
    "\n",
    "m = 1,0\n",
    "e = 2,1\n",
    "s = 3,2\n",
    "s = 4,1\n",
    "a = 5,0\n",
    "g = 6,1\n",
    "e = 7,2"
   ]
  },
  {
   "cell_type": "code",
   "execution_count": 128,
   "metadata": {},
   "outputs": [
    {
     "name": "stdout",
     "output_type": "stream",
     "text": "MESSAGE\n     0    1    2    3    4    5    6\n0    E  NaN  NaN  NaN  NaN  NaN  NaN\n1  NaN    E  NaN  NaN  NaN  NaN  NaN\n2  NaN  NaN    E  NaN  NaN  NaN  NaN\n"
    }
   ],
   "source": [
    "transposition_decrypter('message',3)\n"
   ]
  },
  {
   "cell_type": "code",
   "execution_count": null,
   "metadata": {},
   "outputs": [],
   "source": []
  },
  {
   "cell_type": "code",
   "execution_count": 133,
   "metadata": {},
   "outputs": [
    {
     "name": "stdout",
     "output_type": "stream",
     "text": "0\n1\n2\n3\n4\n5\n6\n7\n8\n9\n"
    }
   ],
   "source": [
    "t = 10\n",
    "for i in range(0,t):\n",
    "    print(i)"
   ]
  },
  {
   "cell_type": "code",
   "execution_count": null,
   "metadata": {},
   "outputs": [],
   "source": []
  },
  {
   "cell_type": "code",
   "execution_count": null,
   "metadata": {},
   "outputs": [],
   "source": []
  },
  {
   "cell_type": "code",
   "execution_count": null,
   "metadata": {},
   "outputs": [],
   "source": []
  },
  {
   "cell_type": "code",
   "execution_count": null,
   "metadata": {},
   "outputs": [],
   "source": []
  },
  {
   "cell_type": "code",
   "execution_count": null,
   "metadata": {},
   "outputs": [],
   "source": []
  },
  {
   "cell_type": "code",
   "execution_count": null,
   "metadata": {},
   "outputs": [],
   "source": []
  },
  {
   "cell_type": "code",
   "execution_count": null,
   "metadata": {},
   "outputs": [],
   "source": []
  }
 ],
 "metadata": {
  "kernelspec": {
   "display_name": "Python 3",
   "language": "python",
   "name": "python3"
  },
  "language_info": {
   "codemirror_mode": {
    "name": "ipython",
    "version": 3
   },
   "file_extension": ".py",
   "mimetype": "text/x-python",
   "name": "python",
   "nbconvert_exporter": "python",
   "pygments_lexer": "ipython3",
   "version": "3.7.5"
  }
 },
 "nbformat": 4,
 "nbformat_minor": 2
}