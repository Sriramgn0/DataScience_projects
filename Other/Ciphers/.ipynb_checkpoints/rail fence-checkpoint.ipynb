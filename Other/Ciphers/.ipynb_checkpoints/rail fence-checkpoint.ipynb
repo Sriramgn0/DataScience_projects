{
 "cells": [
  {
   "cell_type": "markdown",
   "metadata": {},
   "source": [
    "### Rail Fence Transposition"
   ]
  },
  {
   "cell_type": "code",
   "execution_count": 227,
   "metadata": {},
   "outputs": [],
   "source": [
    "message = \"THY SECRET IS THY PRISONER; IF THOU LET IT GO, THOU ART A PRISONER TO IT\""
   ]
  },
  {
   "cell_type": "markdown",
   "metadata": {},
   "source": [
    "### 2 line transposition"
   ]
  },
  {
   "cell_type": "code",
   "execution_count": 9,
   "metadata": {},
   "outputs": [],
   "source": [
    "def transposition_cipher(x):\n",
    "    x = str(x)\n",
    "    import re\n",
    "    x_cleaned = re.sub(r'\\W+', '', x)\n",
    "    xr = x_cleaned.replace(\" \", \"\")\n",
    "    xa = xr[::2]\n",
    "    xb = xr[1::2]\n",
    "    print(\"plaintext: \" + x)\n",
    "    print(\"cipher:\")\n",
    "    print(\"\")\n",
    "    print(\" \".join(xa))\n",
    "    print(\" \" +\" \".join(xb))\n",
    "    print(\"\")\n",
    "    print(\"encoded plaintext:\")\n",
    "    print(\"\")\n",
    "    print(xa+xb)\n",
    "    \n",
    "    "
   ]
  },
  {
   "cell_type": "code",
   "execution_count": 10,
   "metadata": {},
   "outputs": [
    {
     "name": "stdout",
     "output_type": "stream",
     "text": [
      "plaintext: THY SECRET IS THY PRISONER; IF THOU LET IT GO, THOU ART A PRISONER TO IT\n",
      "cipher:\n",
      "\n",
      "T Y E R T S H P I O E I T O L T T O H U R A R S N R O T\n",
      " H S C E I T Y R S N R F H U E I G T O A T P I O E T I\n",
      "\n",
      "encoded plaintext:\n",
      "\n",
      "TYERTSHPIOEITOLTTOHURARSNROTHSCEITYRSNRFHUEIGTOATPIOETI\n"
     ]
    }
   ],
   "source": [
    "transposition_cipher(message)"
   ]
  },
  {
   "cell_type": "markdown",
   "metadata": {},
   "source": [
    "### 3 line transposition"
   ]
  },
  {
   "cell_type": "code",
   "execution_count": 11,
   "metadata": {},
   "outputs": [],
   "source": [
    "def transposition_cipher(x):\n",
    "    x = str(x)\n",
    "    import re\n",
    "    x_cleaned = re.sub(r'\\W+', '', x)\n",
    "    xr = x_cleaned.replace(\" \", \"\")\n",
    "    xa = xr[::3]\n",
    "    xb = xr[1::3]\n",
    "    xc = xr[2::3]\n",
    "    print(\"plaintext: \" + x)\n",
    "    print(\"cipher:\")\n",
    "    print(\"\")\n",
    "    print(\" \".join(xa))\n",
    "    print(\" \" +\" \".join(xb))\n",
    "    print(\"  \"+\" \".join(xc))\n",
    "    print(\"\")\n",
    "    print(\"encoded plaintext:\")\n",
    "    print(\"\")\n",
    "    print(xa+xb+xc)"
   ]
  },
  {
   "cell_type": "code",
   "execution_count": 12,
   "metadata": {},
   "outputs": [
    {
     "name": "stdout",
     "output_type": "stream",
     "text": [
      "plaintext: THY SECRET IS THY PRISONER; IF THOU LET IT GO, THOU ART A PRISONER TO IT\n",
      "cipher:\n",
      "\n",
      "T S R I H R O R T U T G H A A I N T T\n",
      " H E E S Y I N I H L I O O R P S E O\n",
      "  Y C T T P S E F O E T T U T R O R I\n",
      "\n",
      "encoded plaintext:\n",
      "\n",
      "TSRIHRORTUTGHAAINTTHEESYINIHLIOORPSEOYCTTPSEFOETTUTRORI\n"
     ]
    }
   ],
   "source": [
    "transposition_cipher(message)"
   ]
  },
  {
   "cell_type": "markdown",
   "metadata": {},
   "source": [
    "### x line transposition"
   ]
  },
  {
   "cell_type": "code",
   "execution_count": 331,
   "metadata": {},
   "outputs": [],
   "source": [
    "def transposition_cipher(x,y):\n",
    "    x = str(x)\n",
    "    y = int(y)\n",
    "    import re\n",
    "    x_cleaned = re.sub(r'\\W+', '', x)\n",
    "    xr = x_cleaned.replace(\" \", \"\")\n",
    "    \n",
    "    output = []\n",
    "    My_list = [*range(0, y, 1)] \n",
    "    \n",
    "\n",
    "    for i in My_list:\n",
    "        output.append(xr[i::y])\n",
    "    print(\"plaintext: \" + x)\n",
    "    print(\"cipher:\")\n",
    "    print(\"\")\n",
    "    for idx,i in enumerate(output):\n",
    "        print(idx*' ' + \" \".join(output[idx]))\n",
    "    \n",
    "    print(\"\")\n",
    "    print(\"encoded plaintext:\")\n",
    "    print(\"\")\n",
    "    print(''.join(output))"
   ]
  },
  {
   "cell_type": "code",
   "execution_count": 332,
   "metadata": {},
   "outputs": [
    {
     "name": "stdout",
     "output_type": "stream",
     "text": [
      "plaintext: THY SECRET IS THY PRISONER; IF THOU LET IT GO, THOU ART A PRISONER TO IT\n",
      "cipher:\n",
      "\n",
      "T C S R E H T T R I R\n",
      " H R T I R O I H T S T\n",
      "  Y E H S I U T O A O O\n",
      "   S T Y O F L G U P N I\n",
      "    E I P N T E O A R E T\n",
      "\n",
      "encoded plaintext:\n",
      "\n",
      "TCSREHTTRIRHRTIROIHTSTYEHSIUTOAOOSTYOFLGUPNIEIPNTEOARET\n"
     ]
    }
   ],
   "source": [
    "#test\n",
    "transposition_cipher(message,5)"
   ]
  },
  {
   "cell_type": "markdown",
   "metadata": {},
   "source": [
    "### cipher decrypter\n",
    "    \n",
    "    "
   ]
  },
  {
   "cell_type": "code",
   "execution_count": null,
   "metadata": {},
   "outputs": [],
   "source": []
  },
  {
   "cell_type": "code",
   "execution_count": null,
   "metadata": {},
   "outputs": [],
   "source": [
    "\n",
    "\n",
    "    "
   ]
  },
  {
   "cell_type": "code",
   "execution_count": null,
   "metadata": {},
   "outputs": [],
   "source": []
  },
  {
   "cell_type": "code",
   "execution_count": null,
   "metadata": {},
   "outputs": [],
   "source": []
  },
  {
   "cell_type": "code",
   "execution_count": null,
   "metadata": {},
   "outputs": [],
   "source": []
  },
  {
   "cell_type": "code",
   "execution_count": null,
   "metadata": {},
   "outputs": [],
   "source": []
  },
  {
   "cell_type": "code",
   "execution_count": null,
   "metadata": {},
   "outputs": [],
   "source": []
  },
  {
   "cell_type": "code",
   "execution_count": null,
   "metadata": {},
   "outputs": [],
   "source": [
    "\n"
   ]
  },
  {
   "cell_type": "code",
   "execution_count": null,
   "metadata": {},
   "outputs": [],
   "source": []
  },
  {
   "cell_type": "code",
   "execution_count": null,
   "metadata": {},
   "outputs": [],
   "source": []
  },
  {
   "cell_type": "code",
   "execution_count": null,
   "metadata": {},
   "outputs": [],
   "source": []
  },
  {
   "cell_type": "code",
   "execution_count": null,
   "metadata": {},
   "outputs": [],
   "source": []
  },
  {
   "cell_type": "code",
   "execution_count": null,
   "metadata": {},
   "outputs": [],
   "source": []
  },
  {
   "cell_type": "code",
   "execution_count": null,
   "metadata": {},
   "outputs": [],
   "source": []
  },
  {
   "cell_type": "code",
   "execution_count": null,
   "metadata": {},
   "outputs": [],
   "source": []
  },
  {
   "cell_type": "code",
   "execution_count": null,
   "metadata": {},
   "outputs": [],
   "source": []
  },
  {
   "cell_type": "code",
   "execution_count": null,
   "metadata": {},
   "outputs": [],
   "source": []
  }
 ],
 "metadata": {
  "kernelspec": {
   "display_name": "Python 3",
   "language": "python",
   "name": "python3"
  },
  "language_info": {
   "codemirror_mode": {
    "name": "ipython",
    "version": 3
   },
   "file_extension": ".py",
   "mimetype": "text/x-python",
   "name": "python",
   "nbconvert_exporter": "python",
   "pygments_lexer": "ipython3",
   "version": "3.7.5"
  }
 },
 "nbformat": 4,
 "nbformat_minor": 2
}
