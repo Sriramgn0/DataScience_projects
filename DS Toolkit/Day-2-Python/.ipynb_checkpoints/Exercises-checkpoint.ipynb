{
 "cells": [
  {
   "cell_type": "code",
   "execution_count": 5,
   "metadata": {},
   "outputs": [
    {
     "name": "stdout",
     "output_type": "stream",
     "text": [
      "John Smith is a pretty cool guy.\n"
     ]
    }
   ],
   "source": [
    "\"\"\"\n",
    "Variables, Strings, and Numbers\n",
    "Choose a person you look up to. Store their first and last names in separate variables.\n",
    "Use concatenation to make a sentence about this person, and store that sentence in a variable.\n",
    "Print the sentence.\n",
    "\n",
    "\"\"\"\n",
    "\n",
    "first = 'John'\n",
    "last = 'Smith'\n",
    "\n",
    "print(first + \" \" + last + \" is a pretty cool guy.\")"
   ]
  },
  {
   "cell_type": "code",
   "execution_count": 9,
   "metadata": {},
   "outputs": [
    {
     "name": "stdout",
     "output_type": "stream",
     "text": [
      "python is a great language for data science\n",
      "c and c+ are 2 langauges i have not used\n",
      "java is one of the most popular programming langues\n"
     ]
    }
   ],
   "source": [
    "'''\n",
    "First Neat List\n",
    "\n",
    "Store the values ‘python’, ‘c’, and ‘java’ in a list. Print a statement about each of these values, using their position in the list.\n",
    "Your statement could simply be, “A nice programming language is value”.\n",
    "\n",
    "'''\n",
    "\n",
    "list = ['python', 'c', 'java']\n",
    "print(list[0] + \" is a great language for data science\")\n",
    "print(list[1] + \" and \" + list[1]+'+' + \" are 2 langauges i have not used\")\n",
    "print(list[2] + \" is one of the most popular programming langues\")"
   ]
  },
  {
   "cell_type": "code",
   "execution_count": 22,
   "metadata": {},
   "outputs": [
    {
     "name": "stdout",
     "output_type": "stream",
     "text": [
      "yes it is a career\n",
      "dancer\n",
      "programmer\n",
      "mechanic\n",
      "truck driver\n",
      "dentist\n",
      "chef\n",
      "['chef', 'dancer', 'dentist', 'mechanic', 'programmer', 'truck driver']\n",
      "['dancer', 'programmer', 'mechanic', 'truck driver', 'dentist', 'chef']\n",
      "['truck driver', 'programmer', 'mechanic', 'dentist', 'dancer', 'chef']\n"
     ]
    }
   ],
   "source": [
    "\"\"\"\n",
    "Working List\n",
    "\n",
    "Make a list that includes four careers, such as ‘programmer’ and ‘truck driver’.\n",
    "\n",
    "Use the list.index() method to find the index of one career in your list.\n",
    "Use the in function to show that this career is in your list.\n",
    "Use the append() method to add a new career to your list.\n",
    "Use the insert() method to add a new career at the beginning of the list.\n",
    "Use a loop to show all the careers in your list:\n",
    "Print the list in alphabetical order.\n",
    "\n",
    "Print the list in its original order.\n",
    "\n",
    "Print the list in reverse alphabetical order.\n",
    "\n",
    "\"\"\"\n",
    "\n",
    "careers = ['programmer', 'mechanic', 'truck driver', 'dentist']\n",
    "careers.index('mechanic') \n",
    "if 'mechanic' in careers:\n",
    "    print(\"yes it is a career\")\n",
    "else:\n",
    "    print(\"not in the list\")\n",
    "    \n",
    "careers.append('chef') \n",
    "careers.insert(0, 'dancer')\n",
    "for i in careers: print(i)\n",
    "print(sorted(careers)) #remember that 'sort' changes orginal list whereas 'sorted' does not\n",
    "print(careers)\n",
    "print(sorted(careers, reverse = True))\n",
    "        "
   ]
  },
  {
   "cell_type": "code",
   "execution_count": 31,
   "metadata": {},
   "outputs": [
    {
     "name": "stdout",
     "output_type": "stream",
     "text": [
      "abc\n",
      "def\n",
      "ghij\n"
     ]
    }
   ],
   "source": [
    "\"\"\"\n",
    "Alphabet Slices\n",
    "\n",
    "Store the first ten letters of the alphabet in a list.\n",
    "Use a slice to print out the first three letters of the alphabet.\n",
    "Use a slice to print out any three letters from the middle of your list.\n",
    "Use a slice to print out the letters from any point in the middle of your list, to the end.\n",
    "\"\"\"\n",
    "import string\n",
    "alpha = string.ascii_lowercase[0:10]\n",
    "print(alpha[0:3])\n",
    "print(alpha[3:6])\n",
    "print(alpha[6:])"
   ]
  },
  {
   "cell_type": "code",
   "execution_count": 45,
   "metadata": {},
   "outputs": [
    {
     "name": "stdout",
     "output_type": "stream",
     "text": [
      "[10, 20, 30, 40, 50, 60, 70, 80, 90, 100]\n"
     ]
    }
   ],
   "source": [
    "\"\"\"\n",
    "Multiples of Ten\n",
    "\n",
    "Make a list of the first ten multiples of ten (10, 20, 30… 90, 100). \n",
    "There are a number of ways to do this, but try to do it using a list comprehension. Print out your list.\n",
    "\n",
    "\"\"\"\n",
    "\n",
    "list1 = []\n",
    "for i in range(10,101):\n",
    "    if i%10==0:\n",
    "        list1.append(i)\n",
    "\n",
    "print(list1)\n",
    "    \n",
    "        \n",
    "        "
   ]
  },
  {
   "cell_type": "code",
   "execution_count": 184,
   "metadata": {},
   "outputs": [
    {
     "name": "stdout",
     "output_type": "stream",
     "text": [
      "The lowest possible score is 1\n",
      "The highest possible score is 10\n",
      "The judge can give a gymnast 1 point\n",
      "The judge can give a gymnast 2 points\n",
      "The judge can give a gymnast 3 points\n",
      "The judge can give a gymnast 4 points\n",
      "The judge can give a gymnast 5 points\n",
      "The judge can give a gymnast 6 points\n",
      "The judge can give a gymnast 7 points\n",
      "The judge can give a gymnast 8 points\n",
      "The judge can give a gymnast 9 points\n",
      "The judge can give a gymnast 10 points\n"
     ]
    }
   ],
   "source": [
    "\"\"\"\n",
    "Tuples\n",
    "\n",
    "Gymnast Scores\n",
    "\n",
    "A gymnast can earn a score between 1 and 10 from each judge; nothing lower, nothing higher. \n",
    "All scores are integer values; there are no decimal scores from a single judge.\n",
    "Store the possible scores a gymnast can earn from one judge in a tuple.\n",
    "Print out the sentence, “The lowest possible score is __, and the highest possible score is __.” \n",
    "Use the values from your tuple.\n",
    "Print out a series of sentences, “A judge can give a gymnast _ points.”\n",
    "rewrite your string using %s and %d instead of concatenation (if not already done)\n",
    "Bonus\n",
    "Can you use a for loop and have correct grammar for the first sentence “A judge can give a gymnast 1 point s “?\n",
    "\n",
    "\"\"\"\n",
    "scores = (1,2,3,4,5,6,7,8,9,10)\n",
    "print(\"The lowest possible score is\", scores[0])  \n",
    "print(\"The highest possible score is\", scores[-1])\n",
    "\n",
    "for score in scores:\n",
    "    if score == 1:\n",
    "        print(\"%s %d %s\" % (\"The judge can give a gymnast\", score, \"point\"))\n",
    "    else:\n",
    "        print(\"%s %d %s\" % (\"The judge can give a gymnast\", score, \"points\"))\n",
    "\n",
    "\n"
   ]
  },
  {
   "cell_type": "code",
   "execution_count": 186,
   "metadata": {},
   "outputs": [
    {
     "name": "stdout",
     "output_type": "stream",
     "text": [
      "1970-01-01 01:01:14\n",
      "00 hour 01 minutes 14 seconds\n"
     ]
    }
   ],
   "source": [
    "\"\"\"\n",
    "Unix Timestamps\n",
    "\n",
    "Print the difference between two UNIX Timestamps as human-readable time\n",
    "Copy a timestamp from the Unix Timestamp Website.\n",
    "\n",
    "\"\"\"\n",
    "\n",
    "time1 = 1573570629\n",
    "time2 = 1573570703\n",
    "time3= abs(time1 - time2)\n",
    "from datetime import datetime\n",
    "human_time = datetime.fromtimestamp(time3)\n",
    "print(human_time)\n",
    "\n",
    "#alternative method\n",
    "import time\n",
    "\n",
    "duration = abs(time1 - time2)\n",
    "\n",
    "print(\n",
    "    (\"%H hour %M minutes %S seconds\", time.gmtime(duration)))\n"
   ]
  },
  {
   "cell_type": "code",
   "execution_count": 189,
   "metadata": {},
   "outputs": [
    {
     "name": "stdout",
     "output_type": "stream",
     "text": [
      "['how', 'can', 'you', 'listen', 'if', 'you', 'are', 'not', 'silent?']\n"
     ]
    }
   ],
   "source": [
    "\"\"\"\n",
    "Anagrams\n",
    "\n",
    "Print all words in a string that are anagram of each other: “How can you listen if you are not silent?”\n",
    "\n",
    "\"\"\"\n",
    "\n",
    "def anagram_finder(x):\n",
    "    words = x.lower().split()\n",
    "    print(words) \n",
    "    for i in words:\n",
    "            for y in words:\n",
    "                if sorted(i) == sorted(y) and y != i:\n",
    "                    print(i + \" is an anagram of \" + y)\n",
    "\n",
    "                    \n",
    "                           \n",
    "    \n",
    "anagram_finder('How can you listen if you are not silent?')\n",
    "            \n"
   ]
  },
  {
   "cell_type": "code",
   "execution_count": 179,
   "metadata": {
    "scrolled": true
   },
   "outputs": [
    {
     "name": "stdout",
     "output_type": "stream",
     "text": [
      "The word <is> was found inside <island>\n"
     ]
    }
   ],
   "source": [
    "\"\"\"\n",
    "For any string, print which words appear within which other words\n",
    "\n",
    "\"\"\"\n",
    "def checker(x):\n",
    "    words = x.split()\n",
    "    for i in words:\n",
    "        for y in words:\n",
    "            if i in y and i != y and len(i) != 1:\n",
    "                print(\"The word <\" + i + \"> was found inside <\" + y +\">\")\n",
    "                \n",
    "            \n",
    "checker('There is a palm tree on the island')\n",
    "\n",
    "    "
   ]
  },
  {
   "cell_type": "code",
   "execution_count": null,
   "metadata": {},
   "outputs": [],
   "source": []
  },
  {
   "cell_type": "code",
   "execution_count": null,
   "metadata": {},
   "outputs": [],
   "source": []
  },
  {
   "cell_type": "code",
   "execution_count": null,
   "metadata": {},
   "outputs": [],
   "source": []
  },
  {
   "cell_type": "code",
   "execution_count": null,
   "metadata": {},
   "outputs": [],
   "source": [
    "\n"
   ]
  },
  {
   "cell_type": "code",
   "execution_count": null,
   "metadata": {},
   "outputs": [],
   "source": []
  }
 ],
 "metadata": {
  "kernelspec": {
   "display_name": "Python 3",
   "language": "python",
   "name": "python3"
  },
  "language_info": {
   "codemirror_mode": {
    "name": "ipython",
    "version": 3
   },
   "file_extension": ".py",
   "mimetype": "text/x-python",
   "name": "python",
   "nbconvert_exporter": "python",
   "pygments_lexer": "ipython3",
   "version": "3.7.3"
  }
 },
 "nbformat": 4,
 "nbformat_minor": 2
}
