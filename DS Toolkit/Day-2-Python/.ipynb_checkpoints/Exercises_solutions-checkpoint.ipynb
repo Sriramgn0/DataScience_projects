{
 "cells": [
  {
   "cell_type": "markdown",
   "metadata": {},
   "source": [
    "# Exercises Python - Day 2"
   ]
  },
  {
   "cell_type": "markdown",
   "metadata": {},
   "source": [
    "![alt text](https://media.giphy.com/media/eH9sawQbajAQM/200.gif)"
   ]
  },
  {
   "cell_type": "markdown",
   "metadata": {},
   "source": [
    "### Main Menu\n",
    "<a id='Q0'></a>\n",
    "<a href='#Q1'>First Neat List </a><br />\n",
    "<a href='#Q2'>Working List</a><br />\n",
    "<a href='#Q3'>Alphabet Slices</a><br />\n",
    "<a href='#Q4'>Multiples of Ten</a><br />\n",
    "<a href='#Q5'>Tuples, Gymnast Scores</a><br />\n",
    "<a href='#Q6'>Unix Timestamps</a><br />\n",
    "<a href='#Q7'>Strings Count</a><br />\n",
    "<a href='#Q8'>Anagrams</a><br />\n",
    "<a href='#Q9'>Email Validation</a><br />\n",
    "<a href='#Q10'>Password Validation</a><br />\n",
    "<a href='#Q11'>Create Your Own Game</a><br />\n",
    "<a href='#Q12'>Bonus Solutions</a><br />"
   ]
  },
  {
   "cell_type": "markdown",
   "metadata": {},
   "source": [
    "<a href='#Q0'><div style=\"text-align: right\"> MENU </div></a><br />\n",
    "<a id='Q1'></a>\n",
    "#### Exe 1 - First Neat List"
   ]
  },
  {
   "cell_type": "code",
   "execution_count": 18,
   "metadata": {},
   "outputs": [
    {
     "name": "stdout",
     "output_type": "stream",
     "text": [
      "Jaco Pastorius was a famous Jazz bassist who died in 1987. He played a fretless 1962 Fender Jazz Bass and popularized the instrument in Jazz.\n"
     ]
    }
   ],
   "source": [
    "# Choose a person you look up to. Store their first and last names in separate Variables.\n",
    "\n",
    "first_name = \"Jaco\"\n",
    "last_name = \"Pastorius\"\n",
    "\n",
    "print(first_name, last_name,\n",
    "      \"was a famous Jazz bassist who died in 1987. He played a fretless 1962 Fender Jazz Bass and popularized the \"\n",
    "      \"instrument in Jazz.\")\n"
   ]
  },
  {
   "cell_type": "code",
   "execution_count": 19,
   "metadata": {},
   "outputs": [
    {
     "name": "stdout",
     "output_type": "stream",
     "text": [
      "We will be using python a lot\n",
      "The language c is the grandfather of the other two languages\n",
      "java is very popular for business applications but strictly enforces Object-Oriented Programming\n"
     ]
    }
   ],
   "source": [
    "# Store some values in a list and print a statement with each entry based on their position inside the list\n",
    "\n",
    "programming_languages = ['python', 'c', 'java']\n",
    "\n",
    "print(\"We will be using\", programming_languages[0], \"a lot\")\n",
    "print(\"The language\", programming_languages[1], \"is the grandfather of the other two languages\")\n",
    "print(programming_languages[2],\n",
    "      \"is very popular for business applications but strictly enforces Object-Oriented Programming\")\n"
   ]
  },
  {
   "cell_type": "markdown",
   "metadata": {},
   "source": [
    "<a href='#Q0'><div style=\"text-align: right\"> MENU </div></a><br />\n",
    "<a id='Q2'></a>\n",
    "#### Exe 2 - Working List"
   ]
  },
  {
   "cell_type": "code",
   "execution_count": 11,
   "metadata": {},
   "outputs": [],
   "source": [
    "#Make a list that includes four careers\n",
    "\n",
    "careers = ['alchemist', 'sorcerer', 'economist', 'hobbler']"
   ]
  },
  {
   "cell_type": "code",
   "execution_count": 12,
   "metadata": {},
   "outputs": [
    {
     "name": "stdout",
     "output_type": "stream",
     "text": [
      "2\n"
     ]
    }
   ],
   "source": [
    "# Use list.index() to find the index of one career in the list\n",
    "\n",
    "print(careers.index('economist'))"
   ]
  },
  {
   "cell_type": "code",
   "execution_count": 13,
   "metadata": {},
   "outputs": [
    {
     "name": "stdout",
     "output_type": "stream",
     "text": [
      "['alchemist', 'sorcerer', 'economist', 'hobbler', 'first mate']\n"
     ]
    }
   ],
   "source": [
    "# Use append() to add a new career to the list\n",
    "\n",
    "careers.append('first mate')\n",
    "print(careers)"
   ]
  },
  {
   "cell_type": "code",
   "execution_count": 14,
   "metadata": {},
   "outputs": [
    {
     "name": "stdout",
     "output_type": "stream",
     "text": [
      "['chef', 'alchemist', 'sorcerer', 'economist', 'hobbler', 'first mate']\n"
     ]
    }
   ],
   "source": [
    "# Use insert() to add a new career to the beginning of the list\n",
    "\n",
    "careers.insert(0, 'chef')\n",
    "print(careers)"
   ]
  },
  {
   "cell_type": "code",
   "execution_count": 15,
   "metadata": {},
   "outputs": [
    {
     "name": "stdout",
     "output_type": "stream",
     "text": [
      "alchemist\n",
      "chef\n",
      "economist\n",
      "first mate\n",
      "hobbler\n",
      "sorcerer\n"
     ]
    }
   ],
   "source": [
    "# Loop through the list and print careers in alphabetical order\n",
    "\n",
    "for career in sorted(careers):\n",
    "    print(career)"
   ]
  },
  {
   "cell_type": "code",
   "execution_count": 16,
   "metadata": {},
   "outputs": [
    {
     "name": "stdout",
     "output_type": "stream",
     "text": [
      "chef\n",
      "alchemist\n",
      "sorcerer\n",
      "economist\n",
      "hobbler\n",
      "first mate\n"
     ]
    }
   ],
   "source": [
    "# Loop through the list and print careers in original order\n",
    "\n",
    "for career in careers:\n",
    "    print(career)"
   ]
  },
  {
   "cell_type": "code",
   "execution_count": 17,
   "metadata": {},
   "outputs": [
    {
     "name": "stdout",
     "output_type": "stream",
     "text": [
      "first mate\n",
      "hobbler\n",
      "economist\n",
      "sorcerer\n",
      "alchemist\n",
      "chef\n"
     ]
    }
   ],
   "source": [
    "# Loop through the list and print careers in reverse order\n",
    "\n",
    "careers.reverse()\n",
    "for career in careers:\n",
    "    print(career)"
   ]
  },
  {
   "cell_type": "markdown",
   "metadata": {},
   "source": [
    "<a href='#Q0'><div style=\"text-align: right\"> MENU </div></a><br />\n",
    "<a id='Q3'></a>\n",
    "#### Exe 3 - Alphabet Slices"
   ]
  },
  {
   "cell_type": "code",
   "execution_count": 20,
   "metadata": {},
   "outputs": [],
   "source": [
    "# Store first ten letters of alphabet in a list\n",
    "\n",
    "alphabet = ['a', 'b', 'c', 'd', 'e', 'f', 'g', 'h', 'i', 'j']"
   ]
  },
  {
   "cell_type": "code",
   "execution_count": 21,
   "metadata": {},
   "outputs": [
    {
     "name": "stdout",
     "output_type": "stream",
     "text": [
      "['a', 'b', 'c']\n"
     ]
    }
   ],
   "source": [
    "# Print first three letters of the alphabet with a slice\n",
    "\n",
    "print(alphabet[:3])"
   ]
  },
  {
   "cell_type": "code",
   "execution_count": 22,
   "metadata": {},
   "outputs": [
    {
     "name": "stdout",
     "output_type": "stream",
     "text": [
      "['d', 'e', 'f']\n"
     ]
    }
   ],
   "source": [
    "# Print three letters in the middle of the list with a slice\n",
    "\n",
    "print(alphabet[3:6])"
   ]
  },
  {
   "cell_type": "code",
   "execution_count": 23,
   "metadata": {},
   "outputs": [
    {
     "name": "stdout",
     "output_type": "stream",
     "text": [
      "['f', 'g', 'h', 'i', 'j']\n"
     ]
    }
   ],
   "source": [
    "# Print letters from any point in the list until the end\n",
    "\n",
    "print(alphabet[5:])"
   ]
  },
  {
   "cell_type": "code",
   "execution_count": null,
   "metadata": {},
   "outputs": [],
   "source": []
  },
  {
   "cell_type": "markdown",
   "metadata": {},
   "source": [
    "<a href='#Q0'><div style=\"text-align: right\"> MENU </div></a><br />\n",
    "<a id='Q4'></a>\n",
    "#### Exe 4 - Multiples of Ten"
   ]
  },
  {
   "cell_type": "code",
   "execution_count": 24,
   "metadata": {},
   "outputs": [
    {
     "name": "stdout",
     "output_type": "stream",
     "text": [
      "[10, 20, 30, 40, 50, 60, 70, 80, 90, 100]\n"
     ]
    }
   ],
   "source": [
    "# Make a list with the first ten multiples of then with list comprehension\n",
    "\n",
    "list_of_tens = [x * 10 for x in range(1, 11)]\n",
    "print(list_of_tens)"
   ]
  },
  {
   "cell_type": "code",
   "execution_count": null,
   "metadata": {},
   "outputs": [],
   "source": []
  },
  {
   "cell_type": "markdown",
   "metadata": {},
   "source": [
    "<a href='#Q0'><div style=\"text-align: right\"> MENU </div></a><br />\n",
    "<a id='Q5'></a>\n",
    "#### Exe 5 - Tuples, Gymnast Scores"
   ]
  },
  {
   "cell_type": "code",
   "execution_count": 25,
   "metadata": {},
   "outputs": [],
   "source": [
    "# Store the possible scores a gymnast can earn from one judge in a tuple\n",
    "\n",
    "scores = (1, 2, 3, 4, 5, 6, 7, 8, 9, 10)"
   ]
  },
  {
   "cell_type": "code",
   "execution_count": 26,
   "metadata": {},
   "outputs": [
    {
     "name": "stdout",
     "output_type": "stream",
     "text": [
      "The lowest possible score is 1\n",
      "The highest possible score is 10\n"
     ]
    }
   ],
   "source": [
    "# Print the lowest and highest possible score in a sentence\n",
    "\n",
    "print(\"The lowest possible score is\", scores[0])\n",
    "print(\"The highest possible score is\", scores[-1])"
   ]
  },
  {
   "cell_type": "code",
   "execution_count": 27,
   "metadata": {},
   "outputs": [
    {
     "name": "stdout",
     "output_type": "stream",
     "text": [
      "The judge can give a gymnast 1 point\n",
      "The judge can give a gymnast 2 points\n",
      "The judge can give a gymnast 3 points\n",
      "The judge can give a gymnast 4 points\n",
      "The judge can give a gymnast 5 points\n",
      "The judge can give a gymnast 6 points\n",
      "The judge can give a gymnast 7 points\n",
      "The judge can give a gymnast 8 points\n",
      "The judge can give a gymnast 9 points\n",
      "The judge can give a gymnast 10 points\n"
     ]
    }
   ],
   "source": [
    "# Print out a series of sentences, use python's string formatting and make sure it is grammatically correct\n",
    "\n",
    "\n",
    "for score in scores:\n",
    "    if score == 1:\n",
    "        print(\"%s %d %s\" % (\"The judge can give a gymnast\", score, \"point\"))\n",
    "    else:\n",
    "        print(\"%s %d %s\" % (\"The judge can give a gymnast\", score, \"points\"))"
   ]
  },
  {
   "cell_type": "markdown",
   "metadata": {},
   "source": [
    "<a href='#Q0'><div style=\"text-align: right\"> MENU </div></a><br />\n",
    "<a id='Q6'></a>\n",
    "#### Exe 6 - Unix Timestamps"
   ]
  },
  {
   "cell_type": "code",
   "execution_count": 28,
   "metadata": {},
   "outputs": [
    {
     "name": "stdout",
     "output_type": "stream",
     "text": [
      "01 hour 28 minutes 00 seconds\n"
     ]
    }
   ],
   "source": [
    "#Print the difference between two UNIX Timestamps as human-readable time\n",
    "\n",
    "import time\n",
    "\n",
    "time1 = 1493565412\n",
    "time2 = 1493560132\n",
    "\n",
    "duration = time1 - time2\n",
    "\n",
    "print(time.strftime(\"%H hour %M minutes %S seconds\", time.gmtime(duration)))\n"
   ]
  },
  {
   "cell_type": "code",
   "execution_count": null,
   "metadata": {},
   "outputs": [],
   "source": []
  },
  {
   "cell_type": "markdown",
   "metadata": {},
   "source": [
    "<a href='#Q0'><div style=\"text-align: right\"> MENU </div></a><br />\n",
    "<a id='Q7'></a>\n",
    "##### Exe 7 - Strings Cont"
   ]
  },
  {
   "cell_type": "code",
   "execution_count": 29,
   "metadata": {},
   "outputs": [
    {
     "name": "stdout",
     "output_type": "stream",
     "text": [
      "the is in there\n",
      "a is in palm\n",
      "is is in island\n",
      "a is in island\n"
     ]
    }
   ],
   "source": [
    "#For any string, print which words appear within which other words\n",
    "\n",
    "string = \"There is a palm tree on the island \"\n",
    "words = string.lower().split()\n",
    "\n",
    "for word in words:\n",
    "    for sub_word in words:\n",
    "        if sub_word in word and sub_word != word:\n",
    "            print(str(sub_word) + \" is in \" + str(word))\n",
    "        else:\n",
    "            continue\n",
    "            "
   ]
  },
  {
   "cell_type": "code",
   "execution_count": null,
   "metadata": {},
   "outputs": [],
   "source": []
  },
  {
   "cell_type": "markdown",
   "metadata": {},
   "source": [
    "<a href='#Q0'><div style=\"text-align: right\"> MENU </div></a><br />\n",
    "<a id='Q8'></a>\n",
    "#### Exe 8 - Anagrams"
   ]
  },
  {
   "cell_type": "code",
   "execution_count": 30,
   "metadata": {},
   "outputs": [
    {
     "name": "stdout",
     "output_type": "stream",
     "text": [
      "silent is an anagram of listen\n",
      "listen is an anagram of silent\n",
      "['silent', 'siletn', 'silnet', 'silnte', 'silten', 'siltne', 'sielnt', 'sieltn', 'sienlt', 'sientl', 'sietln', 'sietnl', 'sinlet', 'sinlte', 'sinelt', 'sinetl', 'sintle', 'sintel', 'sitlen', 'sitlne', 'siteln', 'sitenl', 'sitnle', 'sitnel', 'slient', 'slietn', 'slinet', 'slinte', 'sliten', 'slitne', 'sleint', 'sleitn', 'slenit', 'slenti', 'sletin', 'sletni', 'slniet', 'slnite', 'slneit', 'slneti', 'slntie', 'slntei', 'sltien', 'sltine', 'sltein', 'slteni', 'sltnie', 'sltnei', 'seilnt', 'seiltn', 'seinlt', 'seintl', 'seitln', 'seitnl', 'selint', 'selitn', 'selnit', 'selnti', 'seltin', 'seltni', 'senilt', 'senitl', 'senlit', 'senlti', 'sentil', 'sentli', 'setiln', 'setinl', 'setlin', 'setlni', 'setnil', 'setnli', 'snilet', 'snilte', 'snielt', 'snietl', 'snitle', 'snitel', 'snliet', 'snlite', 'snleit', 'snleti', 'snltie', 'snltei', 'sneilt', 'sneitl', 'snelit', 'snelti', 'snetil', 'snetli', 'sntile', 'sntiel', 'sntlie', 'sntlei', 'snteil', 'snteli', 'stilen', 'stilne', 'stieln', 'stienl', 'stinle', 'stinel', 'stlien', 'stline', 'stlein', 'stleni', 'stlnie', 'stlnei', 'steiln', 'steinl', 'stelin', 'stelni', 'stenil', 'stenli', 'stnile', 'stniel', 'stnlie', 'stnlei', 'stneil', 'stneli', 'islent', 'isletn', 'islnet', 'islnte', 'islten', 'isltne', 'iselnt', 'iseltn', 'isenlt', 'isentl', 'isetln', 'isetnl', 'isnlet', 'isnlte', 'isnelt', 'isnetl', 'isntle', 'isntel', 'istlen', 'istlne', 'isteln', 'istenl', 'istnle', 'istnel', 'ilsent', 'ilsetn', 'ilsnet', 'ilsnte', 'ilsten', 'ilstne', 'ilesnt', 'ilestn', 'ilenst', 'ilents', 'iletsn', 'iletns', 'ilnset', 'ilnste', 'ilnest', 'ilnets', 'ilntse', 'ilntes', 'iltsen', 'iltsne', 'iltesn', 'iltens', 'iltnse', 'iltnes', 'ieslnt', 'iesltn', 'iesnlt', 'iesntl', 'iestln', 'iestnl', 'ielsnt', 'ielstn', 'ielnst', 'ielnts', 'ieltsn', 'ieltns', 'ienslt', 'ienstl', 'ienlst', 'ienlts', 'ientsl', 'ientls', 'ietsln', 'ietsnl', 'ietlsn', 'ietlns', 'ietnsl', 'ietnls', 'inslet', 'inslte', 'inselt', 'insetl', 'instle', 'instel', 'inlset', 'inlste', 'inlest', 'inlets', 'inltse', 'inltes', 'ineslt', 'inestl', 'inelst', 'inelts', 'inetsl', 'inetls', 'intsle', 'intsel', 'intlse', 'intles', 'intesl', 'intels', 'itslen', 'itslne', 'itseln', 'itsenl', 'itsnle', 'itsnel', 'itlsen', 'itlsne', 'itlesn', 'itlens', 'itlnse', 'itlnes', 'itesln', 'itesnl', 'itelsn', 'itelns', 'itensl', 'itenls', 'itnsle', 'itnsel', 'itnlse', 'itnles', 'itnesl', 'itnels', 'lsient', 'lsietn', 'lsinet', 'lsinte', 'lsiten', 'lsitne', 'lseint', 'lseitn', 'lsenit', 'lsenti', 'lsetin', 'lsetni', 'lsniet', 'lsnite', 'lsneit', 'lsneti', 'lsntie', 'lsntei', 'lstien', 'lstine', 'lstein', 'lsteni', 'lstnie', 'lstnei', 'lisent', 'lisetn', 'lisnet', 'lisnte', 'listen', 'listne', 'liesnt', 'liestn', 'lienst', 'lients', 'lietsn', 'lietns', 'linset', 'linste', 'linest', 'linets', 'lintse', 'lintes', 'litsen', 'litsne', 'litesn', 'litens', 'litnse', 'litnes', 'lesint', 'lesitn', 'lesnit', 'lesnti', 'lestin', 'lestni', 'leisnt', 'leistn', 'leinst', 'leints', 'leitsn', 'leitns', 'lensit', 'lensti', 'lenist', 'lenits', 'lentsi', 'lentis', 'letsin', 'letsni', 'letisn', 'letins', 'letnsi', 'letnis', 'lnsiet', 'lnsite', 'lnseit', 'lnseti', 'lnstie', 'lnstei', 'lniset', 'lniste', 'lniest', 'lniets', 'lnitse', 'lnites', 'lnesit', 'lnesti', 'lneist', 'lneits', 'lnetsi', 'lnetis', 'lntsie', 'lntsei', 'lntise', 'lnties', 'lntesi', 'lnteis', 'ltsien', 'ltsine', 'ltsein', 'ltseni', 'ltsnie', 'ltsnei', 'ltisen', 'ltisne', 'ltiesn', 'ltiens', 'ltinse', 'ltines', 'ltesin', 'ltesni', 'lteisn', 'lteins', 'ltensi', 'ltenis', 'ltnsie', 'ltnsei', 'ltnise', 'ltnies', 'ltnesi', 'ltneis', 'esilnt', 'esiltn', 'esinlt', 'esintl', 'esitln', 'esitnl', 'eslint', 'eslitn', 'eslnit', 'eslnti', 'esltin', 'esltni', 'esnilt', 'esnitl', 'esnlit', 'esnlti', 'esntil', 'esntli', 'estiln', 'estinl', 'estlin', 'estlni', 'estnil', 'estnli', 'eislnt', 'eisltn', 'eisnlt', 'eisntl', 'eistln', 'eistnl', 'eilsnt', 'eilstn', 'eilnst', 'eilnts', 'eiltsn', 'eiltns', 'einslt', 'einstl', 'einlst', 'einlts', 'eintsl', 'eintls', 'eitsln', 'eitsnl', 'eitlsn', 'eitlns', 'eitnsl', 'eitnls', 'elsint', 'elsitn', 'elsnit', 'elsnti', 'elstin', 'elstni', 'elisnt', 'elistn', 'elinst', 'elints', 'elitsn', 'elitns', 'elnsit', 'elnsti', 'elnist', 'elnits', 'elntsi', 'elntis', 'eltsin', 'eltsni', 'eltisn', 'eltins', 'eltnsi', 'eltnis', 'ensilt', 'ensitl', 'enslit', 'enslti', 'enstil', 'enstli', 'enislt', 'enistl', 'enilst', 'enilts', 'enitsl', 'enitls', 'enlsit', 'enlsti', 'enlist', 'enlits', 'enltsi', 'enltis', 'entsil', 'entsli', 'entisl', 'entils', 'entlsi', 'entlis', 'etsiln', 'etsinl', 'etslin', 'etslni', 'etsnil', 'etsnli', 'etisln', 'etisnl', 'etilsn', 'etilns', 'etinsl', 'etinls', 'etlsin', 'etlsni', 'etlisn', 'etlins', 'etlnsi', 'etlnis', 'etnsil', 'etnsli', 'etnisl', 'etnils', 'etnlsi', 'etnlis', 'nsilet', 'nsilte', 'nsielt', 'nsietl', 'nsitle', 'nsitel', 'nsliet', 'nslite', 'nsleit', 'nsleti', 'nsltie', 'nsltei', 'nseilt', 'nseitl', 'nselit', 'nselti', 'nsetil', 'nsetli', 'nstile', 'nstiel', 'nstlie', 'nstlei', 'nsteil', 'nsteli', 'nislet', 'nislte', 'niselt', 'nisetl', 'nistle', 'nistel', 'nilset', 'nilste', 'nilest', 'nilets', 'niltse', 'niltes', 'nieslt', 'niestl', 'nielst', 'nielts', 'nietsl', 'nietls', 'nitsle', 'nitsel', 'nitlse', 'nitles', 'nitesl', 'nitels', 'nlsiet', 'nlsite', 'nlseit', 'nlseti', 'nlstie', 'nlstei', 'nliset', 'nliste', 'nliest', 'nliets', 'nlitse', 'nlites', 'nlesit', 'nlesti', 'nleist', 'nleits', 'nletsi', 'nletis', 'nltsie', 'nltsei', 'nltise', 'nlties', 'nltesi', 'nlteis', 'nesilt', 'nesitl', 'neslit', 'neslti', 'nestil', 'nestli', 'neislt', 'neistl', 'neilst', 'neilts', 'neitsl', 'neitls', 'nelsit', 'nelsti', 'nelist', 'nelits', 'neltsi', 'neltis', 'netsil', 'netsli', 'netisl', 'netils', 'netlsi', 'netlis', 'ntsile', 'ntsiel', 'ntslie', 'ntslei', 'ntseil', 'ntseli', 'ntisle', 'ntisel', 'ntilse', 'ntiles', 'ntiesl', 'ntiels', 'ntlsie', 'ntlsei', 'ntlise', 'ntlies', 'ntlesi', 'ntleis', 'ntesil', 'ntesli', 'nteisl', 'nteils', 'ntelsi', 'ntelis', 'tsilen', 'tsilne', 'tsieln', 'tsienl', 'tsinle', 'tsinel', 'tslien', 'tsline', 'tslein', 'tsleni', 'tslnie', 'tslnei', 'tseiln', 'tseinl', 'tselin', 'tselni', 'tsenil', 'tsenli', 'tsnile', 'tsniel', 'tsnlie', 'tsnlei', 'tsneil', 'tsneli', 'tislen', 'tislne', 'tiseln', 'tisenl', 'tisnle', 'tisnel', 'tilsen', 'tilsne', 'tilesn', 'tilens', 'tilnse', 'tilnes', 'tiesln', 'tiesnl', 'tielsn', 'tielns', 'tiensl', 'tienls', 'tinsle', 'tinsel', 'tinlse', 'tinles', 'tinesl', 'tinels', 'tlsien', 'tlsine', 'tlsein', 'tlseni', 'tlsnie', 'tlsnei', 'tlisen', 'tlisne', 'tliesn', 'tliens', 'tlinse', 'tlines', 'tlesin', 'tlesni', 'tleisn', 'tleins', 'tlensi', 'tlenis', 'tlnsie', 'tlnsei', 'tlnise', 'tlnies', 'tlnesi', 'tlneis', 'tesiln', 'tesinl', 'teslin', 'teslni', 'tesnil', 'tesnli', 'teisln', 'teisnl', 'teilsn', 'teilns', 'teinsl', 'teinls', 'telsin', 'telsni', 'telisn', 'telins', 'telnsi', 'telnis', 'tensil', 'tensli', 'tenisl', 'tenils', 'tenlsi', 'tenlis', 'tnsile', 'tnsiel', 'tnslie', 'tnslei', 'tnseil', 'tnseli', 'tnisle', 'tnisel', 'tnilse', 'tniles', 'tniesl', 'tniels', 'tnlsie', 'tnlsei', 'tnlise', 'tnlies', 'tnlesi', 'tnleis', 'tnesil', 'tnesli', 'tneisl', 'tneils', 'tnelsi', 'tnelis']\n"
     ]
    }
   ],
   "source": [
    "#Print all words in a string that are anagram of each other: “How can you listen if you are not silent?”\n",
    "\n",
    "string = \"How can you listen if you are not silent?\"\n",
    "words = string.replace(\"?\", \"\").lower().split()\n",
    "\n",
    "for word in words:\n",
    "    for sub_word in words:\n",
    "        if sorted(sub_word) == sorted(word) and word != sub_word:\n",
    "            print(str(sub_word) + \" is an anagram of \" + str(word))\n",
    "\n",
    "# Bonus: how do we get all existing anagrams of a given word?\n",
    "\n",
    "import itertools\n",
    "\n",
    "\n",
    "def all_anagrams(word):\n",
    "    tup_list = list(itertools.permutations(list(word)))\n",
    "    str_list = [''.join((tup)) for tup in tup_list]\n",
    "    return str_list\n",
    "\n",
    "\n",
    "print(all_anagrams(word))"
   ]
  },
  {
   "cell_type": "code",
   "execution_count": null,
   "metadata": {},
   "outputs": [],
   "source": []
  },
  {
   "cell_type": "markdown",
   "metadata": {},
   "source": [
    "<a href='#Q0'><div style=\"text-align: right\"> MENU </div></a><br />\n",
    "<a id='Q9'></a>\n",
    "#### Exe 9 - Functions E-mail Validation"
   ]
  },
  {
   "cell_type": "code",
   "execution_count": 18,
   "metadata": {},
   "outputs": [
    {
     "name": "stdin",
     "output_type": "stream",
     "text": [
      "Please enter an e-mail address:  kl.op@kl=op.com\n"
     ]
    },
    {
     "name": "stdout",
     "output_type": "stream",
     "text": [
      "valid email address\n"
     ]
    }
   ],
   "source": [
    "#Write an email validating function, returning True or False depending on whether an email address is correctly formatted (e.g. nicolas@propulsion-academy.com works, not nicolas@test). No input should lead to an exception.\n",
    "\n",
    "import re\n",
    "\n",
    "email_address = input(\"Please enter an e-mail address: \")\n",
    "\n",
    "# check if @ present:\n",
    "if '@' in email_address:\n",
    "\n",
    "    # check if content before @:\n",
    "    if len(email_address.rsplit('@')[0]) > 0:\n",
    "\n",
    "        # check if no special characters directly after the other:\n",
    "        if re.search('[^a-zA-Z\\d][^a-zA-Z\\d]+', email_address):\n",
    "            print(\"no valid email address\")\n",
    "        else:\n",
    "            email_end = re.split('[.]', email_address)[-1:]\n",
    "            if len(email_end[0]) >= 2 and len(email_end[0]) < 4:\n",
    "                print(\"valid email address\")\n",
    "            else:\n",
    "                print(\"no valid email address\")\n",
    "    else:\n",
    "        print(\"no valid email address\")\n",
    "else:\n",
    "    print(\"no valid email address\")"
   ]
  },
  {
   "cell_type": "code",
   "execution_count": 23,
   "metadata": {},
   "outputs": [
    {
     "name": "stdin",
     "output_type": "stream",
     "text": [
      "Please type in an email address  kl\n"
     ]
    },
    {
     "data": {
      "text/plain": [
       "False"
      ]
     },
     "execution_count": 23,
     "metadata": {},
     "output_type": "execute_result"
    }
   ],
   "source": [
    "#another e-mail validation implementation\n",
    "import re\n",
    "\n",
    "def email_validation(email):\n",
    "    if re.match(\"[\\w\\-_.]+@([\\w\\-]+.)+(\\.[a-z]{2,4})$\",email,re.IGNORECASE):\n",
    "        return True\n",
    "    else:\n",
    "        return False\n",
    "email_validation(input (\"Please type in an email address \"))"
   ]
  },
  {
   "cell_type": "markdown",
   "metadata": {},
   "source": [
    "<a href='#Q0'><div style=\"text-align: right\"> MENU </div></a><br />\n",
    "<a id='Q10'></a>\n",
    "#### Exe 10 - Password Validation "
   ]
  },
  {
   "cell_type": "code",
   "execution_count": 9,
   "metadata": {},
   "outputs": [
    {
     "name": "stdin",
     "output_type": "stream",
     "text": [
      "Enter your password: ····\n"
     ]
    },
    {
     "name": "stdout",
     "output_type": "stream",
     "text": [
      "Password valid!\n"
     ]
    }
   ],
   "source": [
    "#Write a password validation function: the input should contain at least one lowercase letter, at least one uppercase letter, at least one digit, and at least one symbol from [$#/\\@*]. Unmet criteria or any other character should lead to an exception.\n",
    "\n",
    "import getpass as gp\n",
    "import re\n",
    "\n",
    "# One lower case letter\n",
    "# One upper case letter\n",
    "# One digit\n",
    "# One symbol [$#/\\@*]\n",
    "\n",
    "pwd = gp.getpass('Enter your password:')\n",
    "\n",
    "\n",
    "def password_validate(pwd):\n",
    "    symbol_pattern = '[$#/\\@*]'\n",
    "    char_split = list(pwd)\n",
    "\n",
    "    condition_upper = False\n",
    "    condition_lower = False\n",
    "    condition_digit = False\n",
    "    condition_symbol = False\n",
    "\n",
    "    for char in char_split:\n",
    "        if char.isupper():\n",
    "            condition_upper = True\n",
    "        elif char.islower():\n",
    "            condition_lower = True\n",
    "        elif re.match('[0-9]', char):\n",
    "            condition_digit = True\n",
    "        elif re.match(symbol_pattern, char):\n",
    "            condition_symbol = True\n",
    "        else:\n",
    "            continue\n",
    "\n",
    "    if condition_upper == True and condition_lower == True and condition_digit == True and condition_symbol == True:\n",
    "        return \"Password valid!\"\n",
    "\n",
    "    else:\n",
    "        return \"Password invalid!\"\n",
    "\n",
    "\n",
    "print(password_validate(pwd))"
   ]
  },
  {
   "cell_type": "code",
   "execution_count": 8,
   "metadata": {},
   "outputs": [
    {
     "name": "stdin",
     "output_type": "stream",
     "text": [
      "Please type in your password kK2@\n"
     ]
    },
    {
     "name": "stdout",
     "output_type": "stream",
     "text": [
      "Your password is validated succesfully\n"
     ]
    }
   ],
   "source": [
    "#another password validation implementation\n",
    "\n",
    "def password_validation(password):\n",
    "    \n",
    "    import re #regular expressions\n",
    "    \n",
    "    a = re.search(\"[A-Z]+\",password)\n",
    "    b = re.search(\"[a-z]+\",password)\n",
    "    c = re.search(\"[$#/\\@*]+\",password)\n",
    "    d = re.search(\"[0-9]+\",password)\n",
    "    e = re.match(\"\\A[A-Za-z0-9$#/\\@*]+\\Z\",password)\n",
    "    \n",
    "    if a and b and c and d and e:\n",
    "        print('Your password is validated succesfully') \n",
    "    else:\n",
    "        \n",
    "        print(\"\"\"Error: wrong password. Please ensure that you met all the criteria: at least \n",
    "                    - one lowercase letter\n",
    "                    - one uppercase letter\n",
    "                    - one digit \n",
    "                    - one symbol from $#/\\@*\n",
    "                and no other characters was used\"\"\")\n",
    "        \n",
    "        \n",
    "password_validation(input (\"Please type in your password\"))"
   ]
  },
  {
   "cell_type": "markdown",
   "metadata": {},
   "source": [
    "<a href='#Q0'><div style=\"text-align: right\"> MENU </div></a><br />\n",
    "<a id='Q11'></a>\n",
    "#### Exe 11 - Create your own game"
   ]
  },
  {
   "cell_type": "code",
   "execution_count": null,
   "metadata": {},
   "outputs": [],
   "source": [
    "#Write the following console-based number guessing game:\n",
    "\n",
    "import numpy as np\n",
    "\n",
    "name = input(\"Hello! What is your name? \")\n",
    "print(name)\n",
    "\n",
    "gametype = int(\n",
    "    input(name + \", do you want to guess my number (1) or shall I guess yours (2)? Make your choice [1/2]! \"))\n",
    "\n",
    "if gametype == 1:\n",
    "    number = np.random.randint(1, 20)\n",
    "    print(\"Well, \" + name + \", I am thinking of a number between 1 and 20.\")\n",
    "    guess = int(input(\"Take a guess. \"))\n",
    "\n",
    "    guess_counter = 0\n",
    "\n",
    "    while guess != number:\n",
    "        if guess < number:\n",
    "            print(\"Your guess is too low.\")\n",
    "            guess_counter += 1\n",
    "        else:\n",
    "            print(\"Your guess is too high.\")\n",
    "            guess_counter += 1\n",
    "            guess = int(input(\"Take a guess. \"))\n",
    "\n",
    "            if guess == number:\n",
    "                print(\"Good Job, \" + name + \"! You guessed my number in \" + str(guess_counter) + \" guesses.\")\n",
    "\n",
    "elif gametype == 2:\n",
    "    low = 1\n",
    "    mid = 10\n",
    "    high = 21\n",
    "\n",
    "    guess = \"Is your secret number: \"\n",
    "\n",
    "    print(name + \", please think of a number between 1 and 20!\")\n",
    "\n",
    "    print(guess + str(mid) + \"?\")\n",
    "\n",
    "    request = input(\n",
    "        \"Enter 'h' to indicate the guess is too high. Enter 'l' to indicate the guess is too low. Enter 'c' to \"\n",
    "        \"indicate I guessed correctly. \")\n",
    "\n",
    "    guess_counter = 0\n",
    "\n",
    "    while request != 'c':\n",
    "        if request == 'h':\n",
    "            high = mid\n",
    "            mid = int((mid + low) / 2)\n",
    "            guess_counter += 1\n",
    "        elif request == 'l':\n",
    "            low = mid\n",
    "            mid = int((mid + high) / 2)\n",
    "            guess_counter += 1\n",
    "        else:\n",
    "            print(\"Sorry, I did not understand your input.\")\n",
    "        print(guess + str(mid) + \"?\")\n",
    "        request = input(\n",
    "            \"Enter 'h' to indicate the guess is too high. Enter 'l' to indicate the guess is too low. Enter 'c' to \"\n",
    "            \"indicate I guessed correctly. \")\n",
    "\n",
    "        if request == 'c':\n",
    "            print(\"Game over in \" + str(guess_counter) + \" guesses. Your secret number was: \" + str(mid))\n",
    "\n",
    "else:\n",
    "    print(\"Sorry, I did not understand your input.\")"
   ]
  },
  {
   "cell_type": "code",
   "execution_count": 18,
   "metadata": {},
   "outputs": [
    {
     "name": "stdin",
     "output_type": "stream",
     "text": [
      "Hello!What is your name? user\n"
     ]
    },
    {
     "name": "stdout",
     "output_type": "stream",
     "text": [
      "user\n"
     ]
    },
    {
     "name": "stdin",
     "output_type": "stream",
     "text": [
      "Well,user, I am thinking of a number between 1 and 20.\n",
      "Take a guess. 1\n"
     ]
    },
    {
     "name": "stdout",
     "output_type": "stream",
     "text": [
      "1\n",
      "Your guess is too low\n"
     ]
    },
    {
     "name": "stdin",
     "output_type": "stream",
     "text": [
      "\n",
      "Take a guess. 20\n"
     ]
    },
    {
     "name": "stdout",
     "output_type": "stream",
     "text": [
      "20\n",
      "Your guess is too high\n"
     ]
    },
    {
     "name": "stdin",
     "output_type": "stream",
     "text": [
      "\n",
      "Take a guess. 10\n"
     ]
    },
    {
     "name": "stdout",
     "output_type": "stream",
     "text": [
      "10\n",
      "Your guess is too high\n"
     ]
    },
    {
     "name": "stdin",
     "output_type": "stream",
     "text": [
      "\n",
      "Take a guess. 2\n"
     ]
    },
    {
     "name": "stdout",
     "output_type": "stream",
     "text": [
      "2\n",
      "Your guess is too low\n"
     ]
    },
    {
     "name": "stdin",
     "output_type": "stream",
     "text": [
      "\n",
      "Take a guess. 5\n"
     ]
    },
    {
     "name": "stdout",
     "output_type": "stream",
     "text": [
      "5\n",
      "Good job,user!You guessed my number in 5 guesses!\n"
     ]
    }
   ],
   "source": [
    "#another guessing game implementation\n",
    "import random\n",
    "\n",
    "numguess = random.randint(1,21)\n",
    "name = input(\"Hello! What is your name?\")\n",
    "print(name)\n",
    "num = int(input(\"Well, %s, I am thinking of a number between 1 and 20.\\nTake a guess.\"%name))\n",
    "print(num)\n",
    "count=1\n",
    "\n",
    "while 1<=num<=20:\n",
    "    if num is numguess:\n",
    "\n",
    "        print(\"Good job, %s! You guessed my number in %d guesses!\"%(name,count))\n",
    "        break\n",
    "\n",
    "    elif num < numguess:\n",
    "\n",
    "        print(\"Your guess is too low\")\n",
    "        num=int(input(\"\\nTake a guess.\"))\n",
    "        print(num)\n",
    "\n",
    "    elif num > numguess:\n",
    "\n",
    "        print(\"Your guess is too high\")\n",
    "        num=int(input(\"\\nTake a guess.\"))\n",
    "        print(num)\n",
    "\n",
    "    count+=1\n",
    "\n",
    "    if count>10:\n",
    "\n",
    "        print(\"Too many Guess Better Luck Next Time\")\n",
    "        break\n",
    "\n",
    "if num>20:\n",
    "\n",
    "    print(\"LOL!!! Out of Bounds\")"
   ]
  },
  {
   "cell_type": "code",
   "execution_count": 19,
   "metadata": {},
   "outputs": [
    {
     "name": "stdin",
     "output_type": "stream",
     "text": [
      "Hello!What is your name? User\n"
     ]
    },
    {
     "name": "stdout",
     "output_type": "stream",
     "text": [
      "User\n"
     ]
    },
    {
     "name": "stdin",
     "output_type": "stream",
     "text": [
      "Enter number to guess 10\n",
      "Enter Lower Bound 2\n",
      "Enter Upper Bound 30\n"
     ]
    },
    {
     "name": "stdout",
     "output_type": "stream",
     "text": [
      "Computer takes a guess 6\n",
      "Mmm guess is too low\n",
      "Computer takes a guess 19\n",
      "Mmm guess is too high\n",
      "Computer takes a guess 16\n",
      "Mmm guess is too high\n",
      "Computer takes a guess 14\n",
      "Mmm guess is too high\n",
      "Computer takes a guess 6\n",
      "Mmm guess is too low\n",
      "Computer takes a guess 13\n",
      "Mmm guess is too high\n",
      "Computer takes a guess 7\n",
      "Mmm guess is too low\n",
      "Computer takes a guess 13\n",
      "Mmm guess is too high\n",
      "Computer takes a guess 8\n",
      "Mmm guess is too low\n",
      "Computer takes a guess 10\n",
      "10 is correct & guessed in 10 guesses!\n"
     ]
    }
   ],
   "source": [
    "#another guessing game implementation\n",
    "#Reverse Guess game\n",
    "\n",
    "from random import randint\n",
    "\n",
    "name = input(\"Hello!What is your name?\")\n",
    "print(name)\n",
    "\n",
    "numtoguess=int(input(\"Enter number to guess\"))\n",
    "lb=int(input(\"Enter Lower Bound\"))\n",
    "ub=int(input(\"Enter Upper Bound\"))\n",
    "\n",
    "count=1\n",
    "num=randint(lb,ub+1)\n",
    "\n",
    "print(\"Computer takes a guess %d\"%num)\n",
    "while numtoguess<ub and numtoguess>lb:\n",
    "    if num is numtoguess:\n",
    "        print(\"%d is correct & guessed in %d guesses!\"%(num,count))\n",
    "        break\n",
    "\n",
    "    elif num < numtoguess:\n",
    "        print(\"Mmm guess is too low\")\n",
    "        lb=num\n",
    "       \n",
    "    elif num > numtoguess:\n",
    "        print(\"Mmm guess is too high\")\n",
    "        ub=num\n",
    "\n",
    "    count+=1\n",
    "    num=randint(lb,ub+1)\n",
    "    print(\"Computer takes a guess %d\"%num)\n",
    "\n",
    "if count>10:\n",
    "    print(\"LOL!!!Took too many Guesses\")\n",
    "\n"
   ]
  },
  {
   "cell_type": "markdown",
   "metadata": {},
   "source": [
    "<a href='#Q0'><div style=\"text-align: right\"> MENU </div></a><br />\n",
    "<a id='Q12'></a>\n",
    "#### BONUS SOLUTIONS"
   ]
  },
  {
   "cell_type": "code",
   "execution_count": 37,
   "metadata": {},
   "outputs": [
    {
     "name": "stdout",
     "output_type": "stream",
     "text": [
      "A: 245 C: 244 G: 243 T 268\n",
      "UAAGCUCCGGAGCUCCGGGAUGCCCCACGCACACAUGCGGCUAGAUCAAAAAACGGAUCACGAGUGUCUGUUUGCGUGGGGUGAACGAAGGUGACAGUGUAGCGCCACGGUAACUUCUGGCGUUGAUUCAUUCGCCAGACGGAUGCCGCGCGUCGGCGACUAUGAAGAUUGUGAAUUAUCGGCUUCUUGCAUGUGCACGUUCACGUAAACGGCCCCUCAUCUUACCAUGCUCAAGCAUUCUUGGGGUCAACUGAUGCAAUUGACCUUAACCCCCGACCGACUGCAAUCGCUUCCUACAUUCGAACUGGGAGAAUCUGACCGUUGUCAUCAACACUGUGUCCGUGCUGAAAUCCUUCAGGUCAAGACUCGGCAAAAGGGCACCUCUCUAGUAAAAAGCCUAUGGGAGAACCGAGGCGCGGCACUAGAAGCGGGCAACAUAGACUAUUGAAACAGAGGUUAGUCCUUGUGUUUUCCGAACGUCCCAAUUGCUUGCUCGCAAAGCGACACACAAUCGUAUAUGUUCCUUGUCAGUCACUCCAAGCCUUAUGAACCCAGACCAUGGCAAUAGGAACUUAGUAAACUAUACAUUAUACCCGUGUGCUCCUGAUAACACGGCUUGGCAGCUAGACUGAAAGCAAAAGGUAGCACAUCCCGACUCAGGUCCAUGCGUCAAAGUAUUGUCAUUUAAUCCAUUCAUGGCGAAUUCAAAAUCUGUUAACCCAGCACAAACGGUUCCACAUACGGCUAGAGGGUCGGUUGUUCACUUAGAGUUAAUUGCCUCAAGUUCGACUCUAGAUAAACGGUCGAGCGCACGGACCUACUCUAACAUCGCCCAUCUCUUUAGGACUGUGCGAACACUCGGACACUAAUCAGCGUUGACGCGGACCUCUUCCAACGGGAGGCCAGGGAAAGAUCCAGUUCAGCUUUGGGUCGGGUUACGCCAAUCCGAUCCAGAGGAUAAUCGUACCUUUGCAGUCGGCACUUCGCCCCUAUGUAAGCU\n"
     ]
    }
   ],
   "source": [
    "\"\"\"\n",
    "Counting DNA Nucleotides\n",
    "\"\"\"\n",
    "\n",
    "# Initialize DNA string with length 1000\n",
    "\n",
    "import numpy as np\n",
    "\n",
    "bases = ('A', 'C', 'G', 'T')\n",
    "\n",
    "\n",
    "def dna_string_generator(length):\n",
    "    s = [''.join(np.random.choice(bases)) for _ in range(length)]\n",
    "    return ''.join(s)\n",
    "\n",
    "\n",
    "# Return four integers counting the number of times each symbol occurs in the string\n",
    "\n",
    "def nucleotid_counter(s):\n",
    "    return \"A: {} C: {} G: {} T {}\".format(s.count('A'), s.count('C'), s.count('G'), s.count('T'))\n",
    "\n",
    "\n",
    "s = dna_string_generator(1000)\n",
    "print(nucleotid_counter(s))\n",
    "\n",
    "\"\"\"\n",
    "Transcribing DNA into RNA\n",
    "\"\"\"\n",
    "\n",
    "import re\n",
    "\n",
    "\n",
    "def rna_transcriber(t):\n",
    "    return re.sub(\"T\", \"U\", t)\n",
    "\n",
    "\n",
    "t = dna_string_generator(1000)\n",
    "print(rna_transcriber(t))"
   ]
  },
  {
   "cell_type": "markdown",
   "metadata": {},
   "source": [
    "![alt text](https://media.giphy.com/media/10qh1kNK4xJl28/giphy.gif)"
   ]
  }
 ],
 "metadata": {
  "kernelspec": {
   "display_name": "Python 3",
   "language": "python",
   "name": "python3"
  },
  "language_info": {
   "codemirror_mode": {
    "name": "ipython",
    "version": 3
   },
   "file_extension": ".py",
   "mimetype": "text/x-python",
   "name": "python",
   "nbconvert_exporter": "python",
   "pygments_lexer": "ipython3",
   "version": "3.7.3"
  }
 },
 "nbformat": 4,
 "nbformat_minor": 2
}
