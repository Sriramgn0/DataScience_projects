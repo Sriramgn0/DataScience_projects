{
 "cells": [
  {
   "cell_type": "markdown",
   "metadata": {
    "toc-hr-collapsed": false
   },
   "source": [
    "# Exercise 1: Simple/Polynomial Linear Regression\n",
    "\n",
    "- Run a simple linear regression using the Holdout method (train-test split) on salary data and plot the predicted values vs the values from the test dataset.\n",
    "\n",
    "- Perform a polynomial regression of salary feature with degrees 2,3, and 4 and compare the results.\n",
    "\n",
    "- Which one of the 4 models will you use and why?"
   ]
  },
  {
   "cell_type": "markdown",
   "metadata": {},
   "source": [
    "## Import Libraries and Preprocess the Data"
   ]
  },
  {
   "cell_type": "code",
   "execution_count": 70,
   "metadata": {},
   "outputs": [],
   "source": [
    "import numpy as np\n",
    "import pandas as pd\n",
    "import matplotlib.pyplot as plt\n",
    "%matplotlib inline\n",
    "\n",
    "from sklearn.linear_model import LinearRegression\n",
    "#from sklearn import linear_model\n",
    "from sklearn.model_selection import train_test_split\n",
    "from sklearn.model_selection import KFold\n",
    "from sklearn.preprocessing import StandardScaler\n",
    "\n",
    "from sklearn.model_selection import cross_val_score\n",
    "from sklearn import metrics"
   ]
  },
  {
   "cell_type": "code",
   "execution_count": 71,
   "metadata": {},
   "outputs": [],
   "source": [
    "data = pd.read_csv('../Salary_Data.csv')"
   ]
  },
  {
   "cell_type": "code",
   "execution_count": 104,
   "metadata": {},
   "outputs": [
    {
     "data": {
      "text/html": [
       "<div>\n",
       "<style scoped>\n",
       "    .dataframe tbody tr th:only-of-type {\n",
       "        vertical-align: middle;\n",
       "    }\n",
       "\n",
       "    .dataframe tbody tr th {\n",
       "        vertical-align: top;\n",
       "    }\n",
       "\n",
       "    .dataframe thead th {\n",
       "        text-align: right;\n",
       "    }\n",
       "</style>\n",
       "<table border=\"1\" class=\"dataframe\">\n",
       "  <thead>\n",
       "    <tr style=\"text-align: right;\">\n",
       "      <th></th>\n",
       "      <th>YearsExperience</th>\n",
       "      <th>Salary</th>\n",
       "    </tr>\n",
       "  </thead>\n",
       "  <tbody>\n",
       "    <tr>\n",
       "      <th>0</th>\n",
       "      <td>1.1</td>\n",
       "      <td>39343.0</td>\n",
       "    </tr>\n",
       "    <tr>\n",
       "      <th>1</th>\n",
       "      <td>1.3</td>\n",
       "      <td>46205.0</td>\n",
       "    </tr>\n",
       "    <tr>\n",
       "      <th>2</th>\n",
       "      <td>1.5</td>\n",
       "      <td>37731.0</td>\n",
       "    </tr>\n",
       "    <tr>\n",
       "      <th>3</th>\n",
       "      <td>2.0</td>\n",
       "      <td>43525.0</td>\n",
       "    </tr>\n",
       "    <tr>\n",
       "      <th>4</th>\n",
       "      <td>2.2</td>\n",
       "      <td>39891.0</td>\n",
       "    </tr>\n",
       "  </tbody>\n",
       "</table>\n",
       "</div>"
      ],
      "text/plain": [
       "   YearsExperience   Salary\n",
       "0              1.1  39343.0\n",
       "1              1.3  46205.0\n",
       "2              1.5  37731.0\n",
       "3              2.0  43525.0\n",
       "4              2.2  39891.0"
      ]
     },
     "execution_count": 104,
     "metadata": {},
     "output_type": "execute_result"
    }
   ],
   "source": [
    "data.head()"
   ]
  },
  {
   "cell_type": "code",
   "execution_count": 73,
   "metadata": {},
   "outputs": [],
   "source": [
    "#Select X and y values (predictor and outcome)\n",
    "X = data.iloc[:,:-1].values # YearsExperience\n",
    "y = data.iloc[:,-1].values # Salary"
   ]
  },
  {
   "cell_type": "markdown",
   "metadata": {
    "toc-hr-collapsed": false
   },
   "source": [
    "# Part 1: Simple Linear Regression \n",
    "Run a simple linear regression using the Holdout method (train-test split) on salary data and plot the predicted vs the values from the test dataset."
   ]
  },
  {
   "cell_type": "markdown",
   "metadata": {},
   "source": [
    "## Perform Train-Test Split on Salary Data "
   ]
  },
  {
   "cell_type": "code",
   "execution_count": 74,
   "metadata": {},
   "outputs": [
    {
     "name": "stdout",
     "output_type": "stream",
     "text": [
      "Training set has 20 samples.\n",
      "Testing set has 10 samples.\n"
     ]
    }
   ],
   "source": [
    "X_train, X_test, y_train, y_test = train_test_split(X, y, test_size=.33, random_state=0)\n",
    "print(\"Training set has {} samples.\".format(X_train.shape[0]))\n",
    "print(\"Testing set has {} samples.\".format(X_test.shape[0]))"
   ]
  },
  {
   "cell_type": "markdown",
   "metadata": {},
   "source": [
    "## Create and Fit the Model"
   ]
  },
  {
   "cell_type": "code",
   "execution_count": 75,
   "metadata": {},
   "outputs": [
    {
     "name": "stdout",
     "output_type": "stream",
     "text": [
      "LinearRegression(copy_X=True, fit_intercept=True, n_jobs=None, normalize=False)\n"
     ]
    }
   ],
   "source": [
    "model = LinearRegression()\n",
    "model.fit(X_train,y_train)\n",
    "print(model)"
   ]
  },
  {
   "cell_type": "code",
   "execution_count": 76,
   "metadata": {},
   "outputs": [
    {
     "name": "stdout",
     "output_type": "stream",
     "text": [
      "26816.19224403119 [9345.94244312]\n"
     ]
    }
   ],
   "source": [
    "print(model.intercept_, model.coef_)"
   ]
  },
  {
   "cell_type": "markdown",
   "metadata": {},
   "source": [
    "## Predict the outcome using Model"
   ]
  },
  {
   "cell_type": "code",
   "execution_count": 77,
   "metadata": {},
   "outputs": [],
   "source": [
    "predictions = model.predict(X_test)"
   ]
  },
  {
   "cell_type": "markdown",
   "metadata": {},
   "source": [
    "## Visualize \n",
    "#### Plot regression line and actual Train and Test data  "
   ]
  },
  {
   "cell_type": "code",
   "execution_count": 78,
   "metadata": {},
   "outputs": [
    {
     "data": {
      "image/png": "[encoded data removed]",
      "text/plain": [
       "<Figure size 432x288 with 1 Axes>"
      ]
     },
     "metadata": {
      "needs_background": "light"
     },
     "output_type": "display_data"
    }
   ],
   "source": [
    "#put X and y together in zipped list and sort it by the first element\n",
    "zipped = sorted(zip(X_test, model.predict(X_test)))\n",
    "\n",
    "#extract variables from the list otherwise we cannot plot \n",
    "X_test_sorted, y_pred_sorted = zip(*zipped)\n",
    "\n",
    "plt.scatter(X_train, y_train, color = 'blue')\n",
    "plt.scatter(X_test, y_test, color = 'red')\n",
    "plt.plot(X_test_sorted, y_pred_sorted, color = 'black')\n",
    "plt.title('Salary vs Experience (Training & Test set)')\n",
    "plt.xlabel('Years of Experience')\n",
    "plt.ylabel('Salary');"
   ]
  },
  {
   "cell_type": "markdown",
   "metadata": {},
   "source": [
    "#### Plot predicted values vs the values from the test dataset"
   ]
  },
  {
   "cell_type": "code",
   "execution_count": 79,
   "metadata": {},
   "outputs": [
    {
     "data": {
      "image/png": "[encoded data removed]",
      "text/plain": [
       "<Figure size 432x288 with 1 Axes>"
      ]
     },
     "metadata": {
      "needs_background": "light"
     },
     "output_type": "display_data"
    }
   ],
   "source": [
    "plt.scatter(y_test, predictions, color='red')\n",
    "\n",
    "plt.xlabel('True Values')\n",
    "plt.ylabel('Predictions')\n",
    "None"
   ]
  },
  {
   "cell_type": "markdown",
   "metadata": {},
   "source": [
    "## Model Evaluation\n",
    "For Linear Regression in scikit-learn, the method 'score' returns the coefficient of determination $R^2$ of the prediction: https://scikit-learn.org/stable/modules/generated/sklearn.linear_model.LinearRegression.html\n",
    "\n",
    "The coefficient $R^2$ is defined as $1 - {u}/{v}$, where $u$ is the residual sum of squares $\\Sigma(y_{true} - y_{pred})^2$ and $v$ is the total sum of squares $\\Sigma(y_{true} - \\bar y_{true})^2$. The best possible score is 1.0 and it can be negative (because the model can be arbitrarily worse). A constant model that always predicts the expected value of $y$, disregarding the input features, would get a $R^2$ score of 0.0.\n",
    "\n",
    "To find 'score' of the model one use X_test and y_test as an input, so that model makes the predictions and then calculate the difference between actual and predicted values. "
   ]
  },
  {
   "cell_type": "code",
   "execution_count": 80,
   "metadata": {},
   "outputs": [
    {
     "data": {
      "text/plain": [
       "0.9749154407708353"
      ]
     },
     "execution_count": 80,
     "metadata": {},
     "output_type": "execute_result"
    }
   ],
   "source": [
    "model.score(X_test, y_test)"
   ]
  },
  {
   "cell_type": "markdown",
   "metadata": {},
   "source": [
    "## Further Model Evaluation"
   ]
  },
  {
   "cell_type": "markdown",
   "metadata": {},
   "source": [
    "You might want to look at other metrics apart from the one already in the 'score' method of the model, in which case you can compute them usind the metrics package from sklearn "
   ]
  },
  {
   "cell_type": "code",
   "execution_count": 81,
   "metadata": {},
   "outputs": [
    {
     "name": "stdout",
     "output_type": "stream",
     "text": [
      "MAE 3426.4269374307123\n",
      "MSE 21026037.329511296\n",
      "RMSE 4585.4157204675885\n",
      "Explained Var Score 0.9773004276108124\n"
     ]
    }
   ],
   "source": [
    "print('MAE',metrics.mean_absolute_error(y_test,predictions))\n",
    "print('MSE',metrics.mean_squared_error(y_test,predictions))\n",
    "print('RMSE',np.sqrt(metrics.mean_squared_error(y_test,predictions)))\n",
    "print('Explained Var Score',metrics.explained_variance_score(y_test,predictions))"
   ]
  },
  {
   "cell_type": "markdown",
   "metadata": {
    "toc-hr-collapsed": false
   },
   "source": [
    "# Part 2: Polynomial Linear Regression\n",
    "Perform a polynomial regression of salary feature with degrees 2,3, and 4 and compare the results."
   ]
  },
  {
   "cell_type": "code",
   "execution_count": 82,
   "metadata": {},
   "outputs": [],
   "source": [
    "#Select X and y values (predictor and outcome)\n",
    "X = data.iloc[:,:-1].values # YearsExperience\n",
    "y = data.iloc[:,-1].values # Salary"
   ]
  },
  {
   "cell_type": "markdown",
   "metadata": {},
   "source": [
    "## Split the Data on Train and Test sets"
   ]
  },
  {
   "cell_type": "code",
   "execution_count": 83,
   "metadata": {},
   "outputs": [
    {
     "name": "stdout",
     "output_type": "stream",
     "text": [
      "Training set has 20 samples.\n",
      "Testing set has 10 samples.\n"
     ]
    }
   ],
   "source": [
    "X_train, X_test, y_train, y_test = train_test_split(X, y, test_size=.33, random_state=0)\n",
    "print(\"Training set has {} samples.\".format(X_train.shape[0]))\n",
    "print(\"Testing set has {} samples.\".format(X_test.shape[0]))"
   ]
  },
  {
   "cell_type": "markdown",
   "metadata": {},
   "source": [
    "## Define the Model"
   ]
  },
  {
   "cell_type": "code",
   "execution_count": 84,
   "metadata": {},
   "outputs": [
    {
     "data": {
      "text/plain": [
       "LinearRegression(copy_X=True, fit_intercept=True, n_jobs=None, normalize=False)"
      ]
     },
     "execution_count": 84,
     "metadata": {},
     "output_type": "execute_result"
    }
   ],
   "source": [
    "lin_model = LinearRegression(fit_intercept=True)\n",
    "lin_model.fit(X_train,y_train)"
   ]
  },
  {
   "cell_type": "markdown",
   "metadata": {},
   "source": [
    "## Transform Linear Model to Polynomial Matrix (both train and test)"
   ]
  },
  {
   "cell_type": "code",
   "execution_count": 85,
   "metadata": {},
   "outputs": [],
   "source": [
    "from sklearn.preprocessing import PolynomialFeatures\n",
    "\n",
    "#2 Degrees\n",
    "poly_model2 = PolynomialFeatures(degree=2)\n",
    "X_poly2 = poly_model2.fit_transform(X_train)\n",
    "X_poly2_test = poly_model2.transform(X_test)\n",
    "\n",
    "#3 Degrees\n",
    "poly_model3 = PolynomialFeatures(degree=3)\n",
    "X_poly3 = poly_model3.fit_transform(X_train)\n",
    "X_poly3_test = poly_model3.transform(X_test)\n",
    "\n",
    "#4 Degrees\n",
    "poly_model4 = PolynomialFeatures(degree=4)\n",
    "X_poly4 = poly_model4.fit_transform(X_train)\n",
    "X_poly4_test = poly_model4.transform(X_test)"
   ]
  },
  {
   "cell_type": "code",
   "execution_count": 86,
   "metadata": {},
   "outputs": [
    {
     "name": "stdout",
     "output_type": "stream",
     "text": [
      "[[  1.     2.9    8.41]\n",
      " [  1.     5.1   26.01]\n",
      " [  1.     3.2   10.24]\n",
      " [  1.     4.5   20.25]\n",
      " [  1.     8.2   67.24]\n",
      " [  1.     6.8   46.24]\n",
      " [  1.     1.3    1.69]\n",
      " [  1.    10.5  110.25]\n",
      " [  1.     3.     9.  ]\n",
      " [  1.     2.2    4.84]\n",
      " [  1.     5.9   34.81]\n",
      " [  1.     6.    36.  ]\n",
      " [  1.     3.7   13.69]\n",
      " [  1.     3.2   10.24]\n",
      " [  1.     9.    81.  ]\n",
      " [  1.     2.     4.  ]\n",
      " [  1.     1.1    1.21]\n",
      " [  1.     7.1   50.41]\n",
      " [  1.     4.9   24.01]\n",
      " [  1.     4.    16.  ]]\n",
      "[[1.000000e+00 2.900000e+00 8.410000e+00 2.438900e+01]\n",
      " [1.000000e+00 5.100000e+00 2.601000e+01 1.326510e+02]\n",
      " [1.000000e+00 3.200000e+00 1.024000e+01 3.276800e+01]\n",
      " [1.000000e+00 4.500000e+00 2.025000e+01 9.112500e+01]\n",
      " [1.000000e+00 8.200000e+00 6.724000e+01 5.513680e+02]\n",
      " [1.000000e+00 6.800000e+00 4.624000e+01 3.144320e+02]\n",
      " [1.000000e+00 1.300000e+00 1.690000e+00 2.197000e+00]\n",
      " [1.000000e+00 1.050000e+01 1.102500e+02 1.157625e+03]\n",
      " [1.000000e+00 3.000000e+00 9.000000e+00 2.700000e+01]\n",
      " [1.000000e+00 2.200000e+00 4.840000e+00 1.064800e+01]\n",
      " [1.000000e+00 5.900000e+00 3.481000e+01 2.053790e+02]\n",
      " [1.000000e+00 6.000000e+00 3.600000e+01 2.160000e+02]\n",
      " [1.000000e+00 3.700000e+00 1.369000e+01 5.065300e+01]\n",
      " [1.000000e+00 3.200000e+00 1.024000e+01 3.276800e+01]\n",
      " [1.000000e+00 9.000000e+00 8.100000e+01 7.290000e+02]\n",
      " [1.000000e+00 2.000000e+00 4.000000e+00 8.000000e+00]\n",
      " [1.000000e+00 1.100000e+00 1.210000e+00 1.331000e+00]\n",
      " [1.000000e+00 7.100000e+00 5.041000e+01 3.579110e+02]\n",
      " [1.000000e+00 4.900000e+00 2.401000e+01 1.176490e+02]\n",
      " [1.000000e+00 4.000000e+00 1.600000e+01 6.400000e+01]]\n",
      "[[1.00000000e+00 2.90000000e+00 8.41000000e+00 2.43890000e+01\n",
      "  7.07281000e+01]\n",
      " [1.00000000e+00 5.10000000e+00 2.60100000e+01 1.32651000e+02\n",
      "  6.76520100e+02]\n",
      " [1.00000000e+00 3.20000000e+00 1.02400000e+01 3.27680000e+01\n",
      "  1.04857600e+02]\n",
      " [1.00000000e+00 4.50000000e+00 2.02500000e+01 9.11250000e+01\n",
      "  4.10062500e+02]\n",
      " [1.00000000e+00 8.20000000e+00 6.72400000e+01 5.51368000e+02\n",
      "  4.52121760e+03]\n",
      " [1.00000000e+00 6.80000000e+00 4.62400000e+01 3.14432000e+02\n",
      "  2.13813760e+03]\n",
      " [1.00000000e+00 1.30000000e+00 1.69000000e+00 2.19700000e+00\n",
      "  2.85610000e+00]\n",
      " [1.00000000e+00 1.05000000e+01 1.10250000e+02 1.15762500e+03\n",
      "  1.21550625e+04]\n",
      " [1.00000000e+00 3.00000000e+00 9.00000000e+00 2.70000000e+01\n",
      "  8.10000000e+01]\n",
      " [1.00000000e+00 2.20000000e+00 4.84000000e+00 1.06480000e+01\n",
      "  2.34256000e+01]\n",
      " [1.00000000e+00 5.90000000e+00 3.48100000e+01 2.05379000e+02\n",
      "  1.21173610e+03]\n",
      " [1.00000000e+00 6.00000000e+00 3.60000000e+01 2.16000000e+02\n",
      "  1.29600000e+03]\n",
      " [1.00000000e+00 3.70000000e+00 1.36900000e+01 5.06530000e+01\n",
      "  1.87416100e+02]\n",
      " [1.00000000e+00 3.20000000e+00 1.02400000e+01 3.27680000e+01\n",
      "  1.04857600e+02]\n",
      " [1.00000000e+00 9.00000000e+00 8.10000000e+01 7.29000000e+02\n",
      "  6.56100000e+03]\n",
      " [1.00000000e+00 2.00000000e+00 4.00000000e+00 8.00000000e+00\n",
      "  1.60000000e+01]\n",
      " [1.00000000e+00 1.10000000e+00 1.21000000e+00 1.33100000e+00\n",
      "  1.46410000e+00]\n",
      " [1.00000000e+00 7.10000000e+00 5.04100000e+01 3.57911000e+02\n",
      "  2.54116810e+03]\n",
      " [1.00000000e+00 4.90000000e+00 2.40100000e+01 1.17649000e+02\n",
      "  5.76480100e+02]\n",
      " [1.00000000e+00 4.00000000e+00 1.60000000e+01 6.40000000e+01\n",
      "  2.56000000e+02]]\n"
     ]
    }
   ],
   "source": [
    "#Polynomial Matrices\n",
    "print(X_poly2)\n",
    "print(X_poly3)\n",
    "print(X_poly4)"
   ]
  },
  {
   "cell_type": "markdown",
   "metadata": {},
   "source": [
    "## Create New Lin Models Using Poly Matrix"
   ]
  },
  {
   "cell_type": "code",
   "execution_count": 87,
   "metadata": {},
   "outputs": [
    {
     "data": {
      "text/plain": [
       "LinearRegression(copy_X=True, fit_intercept=False, n_jobs=None, normalize=False)"
      ]
     },
     "execution_count": 87,
     "metadata": {},
     "output_type": "execute_result"
    }
   ],
   "source": [
    "lin_model2 = LinearRegression(fit_intercept=False)\n",
    "lin_model2.fit(X_poly2,y_train)\n",
    "\n",
    "lin_model3 = LinearRegression(fit_intercept=False)\n",
    "lin_model3.fit(X_poly3,y_train)\n",
    "\n",
    "lin_model4 = LinearRegression(fit_intercept=False)\n",
    "lin_model4.fit(X_poly4,y_train)"
   ]
  },
  {
   "cell_type": "markdown",
   "metadata": {
    "toc-hr-collapsed": true
   },
   "source": [
    "## Visualising the Models"
   ]
  },
  {
   "cell_type": "markdown",
   "metadata": {},
   "source": [
    "### Linear Regression"
   ]
  },
  {
   "cell_type": "code",
   "execution_count": 109,
   "metadata": {},
   "outputs": [],
   "source": [
    "#put X and y together in zipped list and sort it by the first element\n",
    "zipped = sorted(zip(X_test, lin_model.predict(X_test)))\n",
    "\n",
    "#extract variables from the list otherwise we cannot plot \n",
    "X_test_sorted, y_pred_sorted = zip(*zipped)"
   ]
  },
  {
   "cell_type": "code",
   "execution_count": 110,
   "metadata": {},
   "outputs": [
    {
     "name": "stdout",
     "output_type": "stream",
     "text": [
      "Intercept 26816.19224403119\n",
      "Coefficients [9345.94244312]\n",
      "0.9749154407708353\n",
      "MAE 3426.4269374307123\n",
      "MSE 21026037.329511296\n",
      "RMSE 4585.4157204675885\n",
      "Explained Var Score 0.9773004276108124\n"
     ]
    },
    {
     "data": {
      "image/png": "[encoded data removed]",
      "text/plain": [
       "<Figure size 432x288 with 1 Axes>"
      ]
     },
     "metadata": {
      "needs_background": "light"
     },
     "output_type": "display_data"
    }
   ],
   "source": [
    "plt.scatter(X_train,y_train, color = 'blue')\n",
    "plt.scatter(X_test,y_test, color = 'red')\n",
    "plt.plot(X_test_sorted, y_pred_sorted,color = 'black')\n",
    "plt.title('Salary or Experience (Linear)')\n",
    "plt.xlabel('Years of Experience')\n",
    "plt.ylabel('Salary')\n",
    "\n",
    "predictions = lin_model.predict(X_test)\n",
    "print('Intercept', lin_model.intercept_)\n",
    "print('Coefficients', lin_model.coef_)\n",
    "print(lin_model.score(X_test, y_test))\n",
    "print('MAE',metrics.mean_absolute_error(y_test,predictions))\n",
    "print('MSE',metrics.mean_squared_error(y_test,predictions))\n",
    "print('RMSE',np.sqrt(metrics.mean_squared_error(y_test,predictions)))\n",
    "print('Explained Var Score',metrics.explained_variance_score(y_test,predictions))\n",
    "plt.show()"
   ]
  },
  {
   "cell_type": "markdown",
   "metadata": {},
   "source": [
    "### Polynomial Regression 2 Deg"
   ]
  },
  {
   "cell_type": "code",
   "execution_count": 111,
   "metadata": {},
   "outputs": [],
   "source": [
    "#put X and y together in zipped list and sort it by the first element\n",
    "zipped = sorted(zip(X_test, lin_model2.predict(poly_model2.fit_transform(X_test))))\n",
    "\n",
    "#extract variables from the list otherwise we cannot plot \n",
    "X_test_sorted, y_pred_sorted2 = zip(*zipped)"
   ]
  },
  {
   "cell_type": "code",
   "execution_count": 113,
   "metadata": {},
   "outputs": [
    {
     "name": "stdout",
     "output_type": "stream",
     "text": [
      "Intercept 0.0\n",
      "Coefficients [28150.60458913  8712.28148584    57.78239507]\n",
      "0.9742792461789873\n",
      "MAE 3562.939035525868\n",
      "MSE 21559299.68883049\n",
      "RMSE 4643.1992945414795\n",
      "Explained Var Score 0.9771824709901481\n"
     ]
    },
    {
     "data": {
      "image/png": "[encoded data removed]",
      "text/plain": [
       "<Figure size 432x288 with 1 Axes>"
      ]
     },
     "metadata": {
      "needs_background": "light"
     },
     "output_type": "display_data"
    }
   ],
   "source": [
    "plt.scatter(X_train,y_train, color = 'blue')\n",
    "plt.scatter(X_test,y_test, color = 'red')\n",
    "plt.plot(X_test_sorted,y_pred_sorted2,color = 'black')\n",
    "plt.title('Salary or Experience (Polynomial) - Deg 2')\n",
    "plt.xlabel('Years of Experience')\n",
    "plt.ylabel('Salary')\n",
    "\n",
    "predictions_2 = lin_model2.predict(X_poly2_test)\n",
    "print('Intercept', lin_model2.intercept_)\n",
    "print('Coefficients', lin_model2.coef_)\n",
    "print(lin_model2.score(X_poly2_test, y_test))\n",
    "print('MAE',metrics.mean_absolute_error(y_test,predictions_2))\n",
    "print('MSE',metrics.mean_squared_error(y_test,predictions_2))\n",
    "print('RMSE',np.sqrt(metrics.mean_squared_error(y_test,predictions_2)))\n",
    "print('Explained Var Score',metrics.explained_variance_score(y_test,predictions_2))\n",
    "plt.show()"
   ]
  },
  {
   "cell_type": "markdown",
   "metadata": {},
   "source": [
    "### Polynomial Regression 3 Deg"
   ]
  },
  {
   "cell_type": "code",
   "execution_count": 114,
   "metadata": {},
   "outputs": [],
   "source": [
    "#put X and y together in zipped list and sort it by the first element\n",
    "zipped = sorted(zip(X_test, lin_model3.predict(poly_model3.fit_transform(X_test))))\n",
    "\n",
    "#extract variables from the list otherwise we cannot plot \n",
    "X_test_sorted, y_pred_sorted3 = zip(*zipped)"
   ]
  },
  {
   "cell_type": "code",
   "execution_count": 115,
   "metadata": {},
   "outputs": [
    {
     "name": "stdout",
     "output_type": "stream",
     "text": [
      "Intercept 0.0\n",
      "Coefficients [42060.48813548 -2343.14885868  2372.33722618  -136.77910017]\n",
      "0.9764448601295803\n",
      "MAE 3884.8525566233534\n",
      "MSE 19744068.28091576\n",
      "RMSE 4443.42978800338\n"
     ]
    },
    {
     "data": {
      "image/png": "[encoded data removed]",
      "text/plain": [
       "<Figure size 432x288 with 1 Axes>"
      ]
     },
     "metadata": {
      "needs_background": "light"
     },
     "output_type": "display_data"
    }
   ],
   "source": [
    "plt.scatter(X_train,y_train, color = 'blue')\n",
    "plt.scatter(X_test,y_test, color = 'red')\n",
    "plt.plot(X_test_sorted,y_pred_sorted3,color = 'black')\n",
    "plt.title('Salary or Experience (Polynomial) - Deg 3')\n",
    "plt.xlabel('Years of Experience')\n",
    "plt.ylabel('Salary')\n",
    "\n",
    "predictions_3 = lin_model3.predict(X_poly3_test)\n",
    "print('Intercept', lin_model3.intercept_)\n",
    "print('Coefficients', lin_model3.coef_)\n",
    "print(lin_model3.score(X_poly3_test, y_test))\n",
    "print('MAE',metrics.mean_absolute_error(y_test,predictions_3))\n",
    "print('MSE',metrics.mean_squared_error(y_test,predictions_3))\n",
    "print('RMSE',np.sqrt(metrics.mean_squared_error(y_test,predictions_3)))\n",
    "plt.show()"
   ]
  },
  {
   "cell_type": "markdown",
   "metadata": {},
   "source": [
    "### Polynomial Regression 4 Deg"
   ]
  },
  {
   "cell_type": "code",
   "execution_count": 116,
   "metadata": {},
   "outputs": [],
   "source": [
    "#put X and y together in zipped list and sort it by the first element\n",
    "zipped = sorted(zip(X_test, lin_model4.predict(poly_model4.fit_transform(X_test))))\n",
    "\n",
    "#extract variables from the list otherwise we cannot plot \n",
    "X_test_sorted, y_pred_sorted4 = zip(*zipped)"
   ]
  },
  {
   "cell_type": "code",
   "execution_count": 117,
   "metadata": {},
   "outputs": [
    {
     "name": "stdout",
     "output_type": "stream",
     "text": [
      "Intercept 0.0\n",
      "Coefficients [ 3.69644593e+04  3.55323371e+03  3.10709228e+02  1.36612121e+02\n",
      " -1.20714280e+01]\n",
      "0.9735947527382923\n",
      "MAE 4214.726206607711\n",
      "MSE 22133046.450907417\n",
      "RMSE 4704.577180885379\n",
      "Explained Var Score 0.9770541144546038\n"
     ]
    },
    {
     "data": {
      "image/png": "[encoded data removed]",
      "text/plain": [
       "<Figure size 432x288 with 1 Axes>"
      ]
     },
     "metadata": {
      "needs_background": "light"
     },
     "output_type": "display_data"
    }
   ],
   "source": [
    "plt.scatter(X_train,y_train, color = 'blue')\n",
    "plt.scatter(X_test,y_test, color = 'red')\n",
    "plt.plot(X_test_sorted, y_pred_sorted4,color = 'black')\n",
    "plt.title('Salary or Experience (Polynomial) - Deg 4')\n",
    "plt.xlabel('Years of Experience')\n",
    "plt.ylabel('Salary')\n",
    "\n",
    "predictions_4 = lin_model4.predict(X_poly4_test)\n",
    "print('Intercept', lin_model4.intercept_)\n",
    "print('Coefficients', lin_model4.coef_)\n",
    "print(lin_model4.score(X_poly4_test, y_test))\n",
    "print('MAE',metrics.mean_absolute_error(y_test,predictions_4))\n",
    "print('MSE',metrics.mean_squared_error(y_test,predictions_4))\n",
    "print('RMSE',np.sqrt(metrics.mean_squared_error(y_test,predictions_4)))\n",
    "print('Explained Var Score',metrics.explained_variance_score(y_test,predictions_4))\n",
    "plt.show()"
   ]
  },
  {
   "cell_type": "code",
   "execution_count": 118,
   "metadata": {},
   "outputs": [
    {
     "name": "stdout",
     "output_type": "stream",
     "text": [
      "[82891.84690277]\n",
      "[82504.45972659]\n",
      "[83861.44948828]\n",
      "[83333.04134851]\n"
     ]
    }
   ],
   "source": [
    "# Predict for 6 years of experience using all the models\n",
    "# need to reshape into shape (1,1) or will break\n",
    "print(lin_model.predict(np.array([6]).reshape(1,1))) #Linear regression\n",
    "print(lin_model2.predict(poly_model2.fit_transform(np.array([6]).reshape(1,1)))) #Poly - Deg 2\n",
    "print(lin_model3.predict(poly_model3.fit_transform(np.array([6]).reshape(1,1)))) #Poly - Deg 3\n",
    "print(lin_model4.predict(poly_model4.fit_transform(np.array([6]).reshape(1,1)))) #Poly - Deg 4"
   ]
  },
  {
   "cell_type": "markdown",
   "metadata": {
    "toc-hr-collapsed": false
   },
   "source": [
    "# Part 3: Choose the Best Model \n",
    "Which one of the 4 models will you use and why?"
   ]
  },
  {
   "cell_type": "markdown",
   "metadata": {},
   "source": [
    "How we define the best model? The $R^2$ score might help! As well as model complexity. You need to find the balance between it. \n",
    "\n",
    "Readmore about Train and Test errors: https://scikit-learn.org/stable/auto_examples/model_selection/plot_train_error_vs_test_error.html"
   ]
  },
  {
   "cell_type": "code",
   "execution_count": 119,
   "metadata": {},
   "outputs": [],
   "source": [
    "LM1 = lin_model.score(X_test, y_test)\n",
    "LM2 = lin_model2.score(X_poly2_test, y_test)\n",
    "LM3 = lin_model3.score(X_poly3_test, y_test)\n",
    "LM4 = lin_model4.score(X_poly4_test, y_test)\n",
    "\n",
    "models = ['LM1', 'LM2', 'LM3', 'LM4']\n",
    "scores = [LM1, LM2, LM3, LM4]"
   ]
  },
  {
   "cell_type": "code",
   "execution_count": 120,
   "metadata": {},
   "outputs": [
    {
     "data": {
      "image/png": "[encoded data removed]",
      "text/plain": [
       "<Figure size 432x288 with 1 Axes>"
      ]
     },
     "metadata": {
      "needs_background": "light"
     },
     "output_type": "display_data"
    }
   ],
   "source": [
    "plt.plot(models,scores, '-ro')\n",
    "\n",
    "plt.xlabel('Model')\n",
    "plt.ylabel('$R^2$')\n",
    "None"
   ]
  },
  {
   "cell_type": "markdown",
   "metadata": {},
   "source": [
    "## Answer:\n",
    "- We can choose the linear regression (lin_model) as it is the simplest model and $R^2$ is very close to that of the other models. Depending on random data splitting into train and test sets, results could be different."
   ]
  }
 ],
 "metadata": {
  "kernelspec": {
   "display_name": "Python 3",
   "language": "python",
   "name": "python3"
  },
  "language_info": {
   "codemirror_mode": {
    "name": "ipython",
    "version": 3
   },
   "file_extension": ".py",
   "mimetype": "text/x-python",
   "name": "python",
   "nbconvert_exporter": "python",
   "pygments_lexer": "ipython3",
   "version": "3.7.4"
  }
 },
 "nbformat": 4,
 "nbformat_minor": 2
}
