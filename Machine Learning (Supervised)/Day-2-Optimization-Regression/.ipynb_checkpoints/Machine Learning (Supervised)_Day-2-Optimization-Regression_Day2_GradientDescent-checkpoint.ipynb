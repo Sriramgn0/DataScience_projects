{
 "cells": [
  {
   "cell_type": "markdown",
   "metadata": {},
   "source": [
    "# Day 2 - Gradient Descent (Part 1)"
   ]
  },
  {
   "cell_type": "markdown",
   "metadata": {},
   "source": [
    "### Part 1: Regression with Stochastic Gradient Descent\n",
    "\n",
    "Implement your own (GD) function for fitting a linear regression model to yesterday’s salary data. Use matrix algebra! You are provided with a helper notebook which contains the relevant formulas und contains the basic structure.\n",
    "\n",
    "- Implement standard (vanilla) gradient descent.\n",
    "- Investigate the effect of different learning rates.\n",
    "- Create an additional function for stochastic gradient descent. Take care that you shuffle the dataset befor each new run. Why? What happens if you don’t shuffle them?\n",
    "- Implement a linear regression model with sklearn and compare it’s result with those from your GD functions."
   ]
  },
  {
   "cell_type": "code",
   "execution_count": 19,
   "metadata": {
    "ExecuteTime": {
     "end_time": "2018-12-11T15:10:17.205551Z",
     "start_time": "2018-12-11T15:10:16.269555Z"
    }
   },
   "outputs": [],
   "source": [
    "%matplotlib inline\n",
    "import matplotlib.pyplot as plt\n",
    "import numpy as np\n",
    "import pandas as pd\n",
    "from sklearn.utils import shuffle\n",
    "from typing import Dict, Tuple, Callable"
   ]
  },
  {
   "cell_type": "code",
   "execution_count": 20,
   "metadata": {
    "ExecuteTime": {
     "end_time": "2018-12-11T15:10:17.211410Z",
     "start_time": "2018-12-11T15:10:17.208320Z"
    }
   },
   "outputs": [],
   "source": [
    "plt.rcParams[\"figure.figsize\"] = (12, 6) #Change matplotlib Box Size\n",
    "plt.rcParams[\"font.size\"] = 14 #Change matplotlib Font Size"
   ]
  },
  {
   "cell_type": "markdown",
   "metadata": {},
   "source": [
    "Import Data"
   ]
  },
  {
   "cell_type": "code",
   "execution_count": 21,
   "metadata": {
    "ExecuteTime": {
     "end_time": "2018-12-11T15:10:17.229371Z",
     "start_time": "2018-12-11T15:10:17.214695Z"
    }
   },
   "outputs": [
    {
     "data": {
      "text/html": [
       "<div>\n",
       "<style scoped>\n",
       "    .dataframe tbody tr th:only-of-type {\n",
       "        vertical-align: middle;\n",
       "    }\n",
       "\n",
       "    .dataframe tbody tr th {\n",
       "        vertical-align: top;\n",
       "    }\n",
       "\n",
       "    .dataframe thead th {\n",
       "        text-align: right;\n",
       "    }\n",
       "</style>\n",
       "<table border=\"1\" class=\"dataframe\">\n",
       "  <thead>\n",
       "    <tr style=\"text-align: right;\">\n",
       "      <th></th>\n",
       "      <th>YearsExperience</th>\n",
       "      <th>Salary</th>\n",
       "    </tr>\n",
       "  </thead>\n",
       "  <tbody>\n",
       "    <tr>\n",
       "      <th>0</th>\n",
       "      <td>1.1</td>\n",
       "      <td>39343.0</td>\n",
       "    </tr>\n",
       "    <tr>\n",
       "      <th>1</th>\n",
       "      <td>1.3</td>\n",
       "      <td>46205.0</td>\n",
       "    </tr>\n",
       "    <tr>\n",
       "      <th>2</th>\n",
       "      <td>1.5</td>\n",
       "      <td>37731.0</td>\n",
       "    </tr>\n",
       "    <tr>\n",
       "      <th>3</th>\n",
       "      <td>2.0</td>\n",
       "      <td>43525.0</td>\n",
       "    </tr>\n",
       "    <tr>\n",
       "      <th>4</th>\n",
       "      <td>2.2</td>\n",
       "      <td>39891.0</td>\n",
       "    </tr>\n",
       "  </tbody>\n",
       "</table>\n",
       "</div>"
      ],
      "text/plain": [
       "   YearsExperience   Salary\n",
       "0              1.1  39343.0\n",
       "1              1.3  46205.0\n",
       "2              1.5  37731.0\n",
       "3              2.0  43525.0\n",
       "4              2.2  39891.0"
      ]
     },
     "execution_count": 21,
     "metadata": {},
     "output_type": "execute_result"
    }
   ],
   "source": [
    "data = pd.read_csv('Salary_Data.csv')\n",
    "data.head()"
   ]
  },
  {
   "cell_type": "markdown",
   "metadata": {},
   "source": [
    "Let's have a short look at the data first:"
   ]
  },
  {
   "cell_type": "code",
   "execution_count": 22,
   "metadata": {},
   "outputs": [
    {
     "data": {
      "image/png": "[encoded data removed]",
      "text/plain": [
       "<Figure size 864x432 with 1 Axes>"
      ]
     },
     "metadata": {
      "needs_background": "light"
     },
     "output_type": "display_data"
    }
   ],
   "source": [
    "plt.plot(data['YearsExperience'], data['Salary'], 'ob')\n",
    "plt.xlabel(\"Years of Experience\")\n",
    "plt.ylabel(\"Salary\")\n",
    "None"
   ]
  },
  {
   "cell_type": "markdown",
   "metadata": {},
   "source": [
    "## Linear regression - General concept\n",
    "A linear model assumes that the relationship between the dependent variable y and the our features x is linear and thus takes the form:\n",
    "\n",
    "$y_i = \\beta_{0} + \\beta_{1} x_{i1} + \\cdots + \\beta_{p} x_{ip} + \\varepsilon_i,\n",
    " \\qquad i = 1, \\ldots, n$\n"
   ]
  },
  {
   "cell_type": "markdown",
   "metadata": {},
   "source": [
    "### Matrix notation\n",
    "\n",
    "We can simplify the notation by adding a first column with a constant to $X$. In particular,  ${\\displaystyle \\mathbf {x} _{i0}=1}$ for ${\\displaystyle i=1,\\ldots ,n}$. The corresponding element $\\beta_0$ is called the intercept.\n",
    "\n",
    "Then the previous formula can be written more compact in matrix notation as:\n",
    " \n",
    "$\\mathbf{y} = X\\boldsymbol\\beta + \\boldsymbol\\varepsilon$\n",
    "\n",
    "where\n",
    "\n",
    "${\\displaystyle \\mathbf {y} ={\\begin{pmatrix}y_{1}\\\\y_{2}\\\\\\vdots \\\\y_{n}\\end{pmatrix}},\\quad }\n",
    "{\\displaystyle X={\\begin{pmatrix}\\mathbf {x} _{1}^{\\mathsf {T}}\\\\\\mathbf {x} _{2}^{\\mathsf {T}}\\\\\\vdots \\\\\\mathbf {x} _{n}^{\\mathsf {T}}\\end{pmatrix}}={\\begin{pmatrix}1&x_{11}&\\cdots &x_{1p}\\\\1&x_{21}&\\cdots &x_{2p}\\\\\\vdots &\\vdots &\\ddots &\\vdots \\\\1&x_{n1}&\\cdots &x_{np}\\end{pmatrix}},}$\n",
    "\n",
    "\n",
    "${\\displaystyle {\\boldsymbol {\\beta }}={\\begin{pmatrix}\\beta _{0}\\\\\\beta _{1}\\\\\\beta _{2}\\\\\\vdots \\\\\\beta _{p}\\end{pmatrix}},\\quad}\n",
    "{{\\boldsymbol {\\varepsilon }}={\\begin{pmatrix}\\varepsilon _{1}\\\\\\varepsilon _{2}\\\\\\vdots \\\\\\varepsilon _{n}\\end{pmatrix}}.}$\n",
    "\n",
    "- $\\mathbf {y}$\n",
    " is a vector of observed values \n",
    "${\\displaystyle y_{i}\\ (i=1,\\ldots ,n)}$\n",
    " of the variable called the regressand, endogenous variable or dependent variable. In our case this is the salary.\n",
    " \n",
    "- ${\\boldsymbol\\displaystyle X}$ is a matrix of row-vectors ${\\displaystyle \\mathbf {x} _{i}}$ called independent variable and contains the features of our data points. In our case this is the years of experience.\n",
    "\n",
    "- $\\boldsymbol\\varepsilon$ is called error term, disturbance term, or sometimes noise. This variable captures all other factors which influence the dependent variable y other than the regressors x.\n",
    "\n",
    "- $\\boldsymbol\\beta$ is a vector of the regression coefficients. \n",
    " \n",
    "\n",
    " \n",
    "\n",
    " \n",
    " \n",
    " \n",
    " \n",
    " https://en.wikipedia.org/wiki/Linear_regression"
   ]
  },
  {
   "cell_type": "markdown",
   "metadata": {},
   "source": [
    "## Extract dependent and independent variables\n",
    "We create a numpy vector of our independent variable and a numpy array of our independent variable.\n",
    "\n",
    "Add a column full of ones to $X$ so that ${x} _{i0}=1$  for $i=1,\\ldots ,n$. The corresponding element $\\beta_0$ is called the intercept or bias."
   ]
  },
  {
   "cell_type": "code",
   "execution_count": 69,
   "metadata": {
    "ExecuteTime": {
     "end_time": "2018-12-11T15:10:17.229371Z",
     "start_time": "2018-12-11T15:10:17.214695Z"
    }
   },
   "outputs": [],
   "source": [
    "y = data.iloc[:,1].values.reshape(-1, 1)\n",
    "y = y.reshape(-1, 1)\n",
    "\n",
    "X = data.iloc[:,:-1].values\n",
    "X_b = np.hstack((np.ones((X.shape[0],1)), X))\n",
    "X_b[:10,:]\n",
    "beta = np.array([[0], [10000]])"
   ]
  },
  {
   "cell_type": "markdown",
   "metadata": {},
   "source": [
    "What you mainly need is the formula for calculating the cost function $J(\\boldsymbol\\theta)$ and its derivative:\n",
    "\n",
    "$J(\\boldsymbol\\beta) = \\frac{1}{n} (\\hat  {\\mathbf y} − \\mathbf{y})^T (\\hat  {\\mathbf y} − \\mathbf{y}) \n",
    "= \\frac{1}{n} (X\\boldsymbol \\beta − \\mathbf{y})^T (X\\boldsymbol \\beta − \\mathbf{y})$\n",
    "\n",
    "$\\nabla_\\beta J(\\boldsymbol\\beta) = \\frac{2}{n} X^T (X\\boldsymbol \\beta − \\mathbf{y}) = \\frac{2}{n} X^T ( \\hat  {\\mathbf y} − \\mathbf{y})$\n",
    "\n",
    "For a detailed derivation of the gradient in matrix notation check this lecture notes from Stanford:\n",
    "\n",
    "http://cs229.stanford.edu/notes/cs229-notes1.pdf (chapter 2.2, page 11, they use theta instead of beta)\n"
   ]
  },
  {
   "cell_type": "code",
   "execution_count": 70,
   "metadata": {},
   "outputs": [],
   "source": [
    "def predict(X_b: np.ndarray, beta: np.ndarray) -> np.ndarray:\n",
    "    \n",
    "    #:param X_b: feature matrix including column of ones for bias\n",
    "    #:return: result of the linear regression\n",
    "    \n",
    "    y_hat = np.dot(X_b, beta)\n",
    "    \n",
    "    return y_hat"
   ]
  },
  {
   "cell_type": "code",
   "execution_count": 71,
   "metadata": {},
   "outputs": [
    {
     "data": {
      "text/plain": [
       "array([[ 11000.],\n",
       "       [ 13000.],\n",
       "       [ 15000.],\n",
       "       [ 20000.],\n",
       "       [ 22000.],\n",
       "       [ 29000.],\n",
       "       [ 30000.],\n",
       "       [ 32000.],\n",
       "       [ 32000.],\n",
       "       [ 37000.],\n",
       "       [ 39000.],\n",
       "       [ 40000.],\n",
       "       [ 40000.],\n",
       "       [ 41000.],\n",
       "       [ 45000.],\n",
       "       [ 49000.],\n",
       "       [ 51000.],\n",
       "       [ 53000.],\n",
       "       [ 59000.],\n",
       "       [ 60000.],\n",
       "       [ 68000.],\n",
       "       [ 71000.],\n",
       "       [ 79000.],\n",
       "       [ 82000.],\n",
       "       [ 87000.],\n",
       "       [ 90000.],\n",
       "       [ 95000.],\n",
       "       [ 96000.],\n",
       "       [103000.],\n",
       "       [105000.]])"
      ]
     },
     "execution_count": 71,
     "metadata": {},
     "output_type": "execute_result"
    }
   ],
   "source": [
    "predict(X_b, beta)"
   ]
  },
  {
   "cell_type": "code",
   "execution_count": 78,
   "metadata": {},
   "outputs": [],
   "source": [
    "#  we actually don't need the cost function itself for gradient descent\n",
    "#  but it is nice to have and certainly a good exercise for you ;)\n",
    "def calc_cost(X_b: np.ndarray, y: np.ndarray, beta: np.ndarray) -> np.ndarray:\n",
    "    \n",
    "    cost = np.mean((y - np.dot(X_b, beta))**2)\n",
    "    \n",
    "    #:param X_b: feature matrix including column of ones for bias\n",
    "    #:param y: labels\n",
    "    #:param beta: regression coefficients \n",
    "    #:return: return cost\n",
    "    \n",
    "    return cost"
   ]
  },
  {
   "cell_type": "code",
   "execution_count": null,
   "metadata": {},
   "outputs": [],
   "source": []
  },
  {
   "cell_type": "code",
   "execution_count": 80,
   "metadata": {},
   "outputs": [
    {
     "data": {
      "text/plain": [
       "556647937.4"
      ]
     },
     "execution_count": 80,
     "metadata": {},
     "output_type": "execute_result"
    }
   ],
   "source": [
    "calc_cost(X_b, y, beta)"
   ]
  },
  {
   "cell_type": "markdown",
   "metadata": {},
   "source": [
    "$\\nabla_\\beta J(\\boldsymbol\\beta) = \\frac{2}{n} X^T (X\\boldsymbol \\beta − \\mathbf{y}) = \\frac{2}{n} X^T ( \\hat  {\\mathbf y} − \\mathbf{y})$"
   ]
  },
  {
   "cell_type": "code",
   "execution_count": 197,
   "metadata": {},
   "outputs": [],
   "source": [
    "\n",
    "# what we need is the gradient, which consists of the partial derivatives of the cost function\n",
    "def calc_gradient(\n",
    "    X_b: np.ndarray, y: np.ndarray, beta: np.ndarray, alpha: float = None\n",
    ") -> np.ndarray:\n",
    "    \n",
    "   \n",
    "    grad = 2/len(y)*np.dot(X_b.T, predict(X_b, beta) - y)\n",
    "    \n",
    "    \n",
    "    #:param X_b: feature matrix including column of ones for bias\n",
    "    #:param y: labels\n",
    "    #:param beta: regression coefficients \n",
    "    #:param alpha: for Lasso regrisson (you might need it for exercise 2 - bonus)\n",
    "    \n",
    "    \n",
    "    \n",
    "    \n",
    "    return grad"
   ]
  },
  {
   "cell_type": "code",
   "execution_count": 252,
   "metadata": {},
   "outputs": [
    {
     "data": {
      "text/plain": [
       "array([[-10178.7768731 ],\n",
       "       [  1510.46035132]])"
      ]
     },
     "execution_count": 252,
     "metadata": {},
     "output_type": "execute_result"
    }
   ],
   "source": [
    "gradient = calc_gradient(X_b, y, beta)\n",
    "gradient"
   ]
  },
  {
   "cell_type": "code",
   "execution_count": 199,
   "metadata": {},
   "outputs": [],
   "source": [
    "def update_beta(beta: np.ndarray, gradient: np.ndarray, learning_rate: float = 0.01):\n",
    "    \n",
    "    beta_new = beta - (learning_rate * gradient)\n",
    "    \n",
    "    \n",
    "    #:param beta: regression coefficient vector\n",
    "    #:param gradient: gradient vector\n",
    "    #:param lr: learning rate for updating beta\n",
    "    return beta_new\n",
    "    "
   ]
  },
  {
   "cell_type": "code",
   "execution_count": 243,
   "metadata": {},
   "outputs": [
    {
     "data": {
      "text/plain": [
       "array([[ 1732.02426688],\n",
       "       [13020.39423512]])"
      ]
     },
     "execution_count": 243,
     "metadata": {},
     "output_type": "execute_result"
    }
   ],
   "source": [
    "update_beta(beta,gradient)"
   ]
  },
  {
   "cell_type": "code",
   "execution_count": 277,
   "metadata": {},
   "outputs": [
    {
     "data": {
      "text/plain": [
       "array([[-9272.34824589],\n",
       "       [ 1375.97766028]])"
      ]
     },
     "execution_count": 277,
     "metadata": {},
     "output_type": "execute_result"
    }
   ],
   "source": [
    "gradient = calc_gradient(X_b, y, beta)\n",
    "beta = update_beta(beta,gradient)\n",
    "gradient"
   ]
  },
  {
   "cell_type": "code",
   "execution_count": 283,
   "metadata": {
    "ExecuteTime": {
     "end_time": "2018-12-11T15:10:17.401399Z",
     "start_time": "2018-12-11T15:10:17.393088Z"
    }
   },
   "outputs": [],
   "source": [
    "def calc_rmse(y: np.ndarray, y_hat: np.ndarray):\n",
    "   \n",
    "    rmse = ((y_hat - y) ** 2).mean()\n",
    "    \n",
    "    \n",
    "    #:param y: vector of observed values\n",
    "    #:param y_hat: vector of estimated (predicted) values\n",
    "  \n",
    "    return rmse"
   ]
  },
  {
   "cell_type": "code",
   "execution_count": 284,
   "metadata": {},
   "outputs": [
    {
     "data": {
      "text/plain": [
       "556647937.4"
      ]
     },
     "execution_count": 284,
     "metadata": {},
     "output_type": "execute_result"
    }
   ],
   "source": [
    "calc_rmse(y, predict(X_b, beta))"
   ]
  },
  {
   "cell_type": "markdown",
   "metadata": {},
   "source": [
    "Let's play a bit with beta to see what effect it has on our linear model:"
   ]
  },
  {
   "cell_type": "code",
   "execution_count": 286,
   "metadata": {
    "ExecuteTime": {
     "end_time": "2018-12-11T15:10:17.628732Z",
     "start_time": "2018-12-11T15:10:17.408889Z"
    }
   },
   "outputs": [
    {
     "data": {
      "image/png": "[encoded data removed]",
      "text/plain": [
       "<Figure size 864x432 with 1 Axes>"
      ]
     },
     "metadata": {
      "needs_background": "light"
     },
     "output_type": "display_data"
    }
   ],
   "source": [
    "#  try different values\n",
    "beta = [[0], [10000]]\n",
    "\n",
    "plt.plot(X_b[:,1], y, 'o')\n",
    "plt.plot(X_b[:,1], predict(X_b, beta), c='red')\n",
    "plt.xlabel(\"Years of Experience\")\n",
    "plt.ylabel(\"Salary\")\n",
    "None"
   ]
  },
  {
   "cell_type": "markdown",
   "metadata": {},
   "source": [
    "# Gradient Decent"
   ]
  },
  {
   "cell_type": "markdown",
   "metadata": {},
   "source": [
    "This function takes care of running multiple iterations, plotting and collecting the results. Understand what it is exactly doing."
   ]
  },
  {
   "cell_type": "code",
   "execution_count": 288,
   "metadata": {
    "ExecuteTime": {
     "end_time": "2018-12-11T15:10:17.869023Z",
     "start_time": "2018-12-11T15:10:17.630471Z"
    }
   },
   "outputs": [],
   "source": [
    "def run_gradient_descent(\n",
    "    gradient_descent_func: Callable,\n",
    "    X_b: np.ndarray,\n",
    "    y: np.ndarray,\n",
    "    learning_rate: np.ndarray = 0.01,\n",
    "    epochs: float = 100,\n",
    "    beta: np.ndarray = None,\n",
    "    verbose: bool = True,\n",
    "    create_plot: bool = True,\n",
    "    step_width_output: int = 100,\n",
    "    **kwargs,\n",
    ") -> Tuple[np.ndarray, np.ndarray]:\n",
    "    \"\"\"\n",
    "    :param X_b: feature matrix including column of ones for bias\n",
    "    :param y: independent variable\n",
    "    :param learning_rate: learning rate for gradient descent\n",
    "    :param epochs: number of iterations\n",
    "    :param beta: regression coefficients \n",
    "    :param verbose: print intermediate results\n",
    "    :**kwargs: additional arguments for the gradient descent function\n",
    "    :return: \n",
    "        - beta_all - numpy array containing regression coefficients of all gradient descent steps\n",
    "        - rmse_all - numpy array containing RMSE values of all gradient descent steps\n",
    "    \"\"\"\n",
    "    # set missing parameters to default values\n",
    "    if not beta:\n",
    "        # Creates random start values for beta\n",
    "        beta = np.random.uniform(high=1, low=-1, size=X_b.shape[1]).reshape(-1, 1)\n",
    "        \n",
    "    # bring vectors into correct form\n",
    "    beta = beta.reshape(-1, 1)\n",
    "    y = y.reshape(-1, 1)\n",
    "        \n",
    "    # initialze arrays for storing intermediate results\n",
    "    # for large arrays this is computational way more efficient than appending\n",
    "    rmse_all = np.zeros(epochs + 1)  # vector for saving RMSE values\n",
    "    rmse_all[0] = calc_rmse(y, predict(X_b, beta))  # insert current value\n",
    "    beta_all = np.zeros((epochs + 1, len(beta)))  # array for storing beta vectors\n",
    "    beta_all[0, :] = beta.T  #  insert current values\n",
    "\n",
    "    if verbose:\n",
    "        print(\"Epoch: {:4d}, RMSE: {:8.3f}, beta: {}\".format(0, rmse_all[0], beta.T))\n",
    "    if create_plot:\n",
    "        fig, axs = plt.subplots(1, 3, figsize=(32, 6))\n",
    "        axs[0].plot(X_b[:, 1], y, \"b.\")\n",
    "    else:\n",
    "        axs = None\n",
    "\n",
    "    # main loop for iterative gradient descent\n",
    "    for epoch in range(epochs):\n",
    "        # call gradient descent function\n",
    "        beta, y_hat, rmse = gradient_descent_func(X_b, y, beta, learning_rate, **kwargs)\n",
    "\n",
    "        # add new values to arrays\n",
    "        beta_all[epoch + 1, :] = beta.T  # Add new beta vector to array\n",
    "        rmse_all[epoch + 1] = rmse  # Add new RMSE to vector\n",
    "\n",
    "        if verbose and (epoch+1)%step_width_output==0:\n",
    "            print(\n",
    "                \"Epoch: {:4d}, RMSE: {:8.3f}, beta: {}\".format(epoch + 1, rmse, beta.T)\n",
    "            )\n",
    "        if create_plot and (epoch+1)%step_width_output==0:\n",
    "            axs[0].plot(X_b[:, 1], y_hat, \"r-\", alpha=epoch / epochs)\n",
    "\n",
    "    if verbose:\n",
    "        print(\"\")\n",
    "    if create_plot:\n",
    "        axs[1].plot(rmse_all, label=\"training loss\")\n",
    "        axs[1].legend(loc=\"best\")\n",
    "        axs[1].set_ylabel(\"RMSE\")\n",
    "        axs[1].set_xlabel(\"Epoch\")\n",
    "        axs[1].grid()\n",
    "        axs[2].scatter(beta_all[:, 0], beta_all[:, 1], c=range(beta_all.shape[0]))\n",
    "        axs[2].set_xlabel(r\"$\\beta_0$\")\n",
    "        axs[2].set_ylabel(r\"$\\beta_1$\")\n",
    "\n",
    "    return beta_all, rmse_all, axs"
   ]
  },
  {
   "cell_type": "code",
   "execution_count": 295,
   "metadata": {},
   "outputs": [
    {
     "ename": "AttributeError",
     "evalue": "'float' object has no attribute 'reshape'",
     "output_type": "error",
     "traceback": [
      "\u001b[0;31m---------------------------------------------------------------------------\u001b[0m",
      "\u001b[0;31mAttributeError\u001b[0m                            Traceback (most recent call last)",
      "\u001b[0;32m<ipython-input-295-dec18657627e>\u001b[0m in \u001b[0;36m<module>\u001b[0;34m\u001b[0m\n\u001b[0;32m----> 1\u001b[0;31m \u001b[0mrun_gradient_descent\u001b[0m\u001b[0;34m(\u001b[0m\u001b[0mX_b\u001b[0m\u001b[0;34m,\u001b[0m \u001b[0my\u001b[0m\u001b[0;34m,\u001b[0m \u001b[0mlearning_rate\u001b[0m\u001b[0;34m,\u001b[0m \u001b[0mepochs\u001b[0m\u001b[0;34m,\u001b[0m \u001b[0mbeta\u001b[0m\u001b[0;34m)\u001b[0m\u001b[0;34m\u001b[0m\u001b[0;34m\u001b[0m\u001b[0m\n\u001b[0m\u001b[1;32m      2\u001b[0m \u001b[0;34m\u001b[0m\u001b[0m\n\u001b[1;32m      3\u001b[0m \u001b[0;34m\u001b[0m\u001b[0m\n\u001b[1;32m      4\u001b[0m \u001b[0;34m\u001b[0m\u001b[0m\n\u001b[1;32m      5\u001b[0m \u001b[0;34m\u001b[0m\u001b[0m\n",
      "\u001b[0;32m<ipython-input-288-321840c797ee>\u001b[0m in \u001b[0;36mrun_gradient_descent\u001b[0;34m(gradient_descent_func, X_b, y, learning_rate, epochs, beta, verbose, create_plot, step_width_output, **kwargs)\u001b[0m\n\u001b[1;32m     30\u001b[0m     \u001b[0;31m# bring vectors into correct form\u001b[0m\u001b[0;34m\u001b[0m\u001b[0;34m\u001b[0m\u001b[0;34m\u001b[0m\u001b[0m\n\u001b[1;32m     31\u001b[0m     \u001b[0mbeta\u001b[0m \u001b[0;34m=\u001b[0m \u001b[0mbeta\u001b[0m\u001b[0;34m.\u001b[0m\u001b[0mreshape\u001b[0m\u001b[0;34m(\u001b[0m\u001b[0;34m-\u001b[0m\u001b[0;36m1\u001b[0m\u001b[0;34m,\u001b[0m \u001b[0;36m1\u001b[0m\u001b[0;34m)\u001b[0m\u001b[0;34m\u001b[0m\u001b[0;34m\u001b[0m\u001b[0m\n\u001b[0;32m---> 32\u001b[0;31m     \u001b[0my\u001b[0m \u001b[0;34m=\u001b[0m \u001b[0my\u001b[0m\u001b[0;34m.\u001b[0m\u001b[0mreshape\u001b[0m\u001b[0;34m(\u001b[0m\u001b[0;34m-\u001b[0m\u001b[0;36m1\u001b[0m\u001b[0;34m,\u001b[0m \u001b[0;36m1\u001b[0m\u001b[0;34m)\u001b[0m\u001b[0;34m\u001b[0m\u001b[0;34m\u001b[0m\u001b[0m\n\u001b[0m\u001b[1;32m     33\u001b[0m \u001b[0;34m\u001b[0m\u001b[0m\n\u001b[1;32m     34\u001b[0m     \u001b[0;31m# initialze arrays for storing intermediate results\u001b[0m\u001b[0;34m\u001b[0m\u001b[0;34m\u001b[0m\u001b[0;34m\u001b[0m\u001b[0m\n",
      "\u001b[0;31mAttributeError\u001b[0m: 'float' object has no attribute 'reshape'"
     ]
    }
   ],
   "source": [
    "\n",
    "    \n"
   ]
  },
  {
   "cell_type": "code",
   "execution_count": 312,
   "metadata": {},
   "outputs": [],
   "source": [
    "def gradient_descent(\n",
    "    X_b: np.ndarray,\n",
    "    y: np.ndarray,\n",
    "    beta: np.ndarray = None,\n",
    "    learning_rate: np.ndarray = 0.01,\n",
    "    alpha=None,\n",
    "):\n",
    "    \"\"\"\n",
    "    :param X_b: feature matrix including column of ones for bias\n",
    "    :param y: independent variable\n",
    "    :param learning_rate: learning rate for gradient descent\n",
    "    :param beta: regression coefficients \n",
    "    :param alpha: used for Lasso regression in exercise 2\n",
    "    :return: \n",
    "        - beta - updated regression coefficients\n",
    "        - y_hat - estimated y\n",
    "        - rmse - Root mean squared errors\n",
    "    \"\"\"\n",
    "\n",
    "    gradient = calc_gradient(X_b, y, beta)\n",
    "    beta = update_beta(beta,gradient)\n",
    "    y_hat = predict(X_b, beta)\n",
    "    rmse = calc_rmse(y, y_hat)\n",
    "    \n",
    "    \n",
    "    return beta, y_hat, rmse"
   ]
  },
  {
   "cell_type": "code",
   "execution_count": 313,
   "metadata": {},
   "outputs": [
    {
     "data": {
      "text/plain": [
       "(array([[  457.39333333],\n",
       "        [12344.64066667]]), array([[ 14036.49806667],\n",
       "        [ 16505.4262    ],\n",
       "        [ 18974.35433333],\n",
       "        [ 25146.67466667],\n",
       "        [ 27615.6028    ],\n",
       "        [ 36256.85126667],\n",
       "        [ 37491.31533333],\n",
       "        [ 39960.24346667],\n",
       "        [ 39960.24346667],\n",
       "        [ 46132.5638    ],\n",
       "        [ 48601.49193333],\n",
       "        [ 49835.956     ],\n",
       "        [ 49835.956     ],\n",
       "        [ 51070.42006667],\n",
       "        [ 56008.27633333],\n",
       "        [ 60946.1326    ],\n",
       "        [ 63415.06073333],\n",
       "        [ 65883.98886667],\n",
       "        [ 73290.77326667],\n",
       "        [ 74525.23733333],\n",
       "        [ 84400.94986667],\n",
       "        [ 88104.34206667],\n",
       "        [ 97980.0546    ],\n",
       "        [101683.4468    ],\n",
       "        [107855.76713333],\n",
       "        [111559.15933333],\n",
       "        [117731.47966667],\n",
       "        [118965.94373333],\n",
       "        [127607.1922    ],\n",
       "        [130076.12033333]]), 195594433.3370408)"
      ]
     },
     "execution_count": 313,
     "metadata": {},
     "output_type": "execute_result"
    }
   ],
   "source": [
    "gradient_descent(X_b, y, beta)"
   ]
  },
  {
   "cell_type": "code",
   "execution_count": 327,
   "metadata": {},
   "outputs": [
    {
     "name": "stdout",
     "output_type": "stream",
     "text": [
      "Epoch:    0, RMSE: 6502395884.360, beta: [[-0.51727227  0.66823343]]\n",
      "Epoch:  100, RMSE: 84006813.312, beta: [[10173.54441777 11767.70545062]]\n",
      "Epoch:  200, RMSE: 53858677.354, beta: [[15570.41188891 10966.83291231]]\n",
      "Epoch:  300, RMSE: 40945684.131, beta: [[19102.44675795 10442.69372488]]\n",
      "Epoch:  400, RMSE: 35414815.018, beta: [[21414.02294227 10099.66549672]]\n",
      "Epoch:  500, RMSE: 33045843.501, beta: [[22926.85751327  9875.16717999]]\n",
      "Epoch:  600, RMSE: 32031170.050, beta: [[23916.94750241  9728.24197069]]\n",
      "Epoch:  700, RMSE: 31596567.015, beta: [[24564.9219772   9632.08527142]]\n",
      "Epoch:  800, RMSE: 31410418.656, beta: [[24988.99547011  9569.15454049]]\n",
      "Epoch:  900, RMSE: 31330687.938, beta: [[25266.53468558  9527.96888286]]\n",
      "Epoch: 1000, RMSE: 31296537.827, beta: [[25448.17305114  9501.01450985]]\n",
      "Epoch: 1100, RMSE: 31281910.715, beta: [[25567.04812898  9483.37394598]]\n",
      "Epoch: 1200, RMSE: 31275645.657, beta: [[25644.84713409  9471.82889933]]\n",
      "Epoch: 1300, RMSE: 31272962.220, beta: [[25695.76348516  9464.273126  ]]\n",
      "Epoch: 1400, RMSE: 31271812.855, beta: [[25729.08620957  9459.32817321]]\n",
      "Epoch: 1500, RMSE: 31271320.561, beta: [[25750.89460585  9456.0918985 ]]\n",
      "Epoch: 1600, RMSE: 31271109.703, beta: [[25765.16733287  9453.97388557]]\n",
      "Epoch: 1700, RMSE: 31271019.388, beta: [[25774.50826439  9452.58773043]]\n",
      "Epoch: 1800, RMSE: 31270980.705, beta: [[25780.62153213  9451.68054709]]\n",
      "Epoch: 1900, RMSE: 31270964.136, beta: [[25784.62242246  9451.08683172]]\n",
      "Epoch: 2000, RMSE: 31270957.039, beta: [[25787.24084587  9450.69826865]]\n",
      "\n"
     ]
    },
    {
     "data": {
      "text/plain": [
       "(4000, 10000)"
      ]
     },
     "execution_count": 327,
     "metadata": {},
     "output_type": "execute_result"
    },
    {
     "data": {
      "image/png": "[encoded data removed]",
      "text/plain": [
       "<Figure size 2304x432 with 3 Axes>"
      ]
     },
     "metadata": {
      "needs_background": "light"
     },
     "output_type": "display_data"
    }
   ],
   "source": [
    "learning_rate = 0.01\n",
    "epochs = 2000\n",
    "\n",
    "beta_all, rmse_all, axs = run_gradient_descent(\n",
    "    gradient_descent, X_b, y, learning_rate, epochs, verbose=True\n",
    ")\n",
    "axs[1].set_ylim((4000, 10000))"
   ]
  },
  {
   "cell_type": "code",
   "execution_count": 319,
   "metadata": {},
   "outputs": [],
   "source": [
    "### Try different learning rates\n",
    "learning_rates = [0.0001, 0.001, 0.005, 0.01, 0.05, 0.1]\n",
    "epochs = 2000\n"
   ]
  },
  {
   "cell_type": "markdown",
   "metadata": {},
   "source": [
    "# Stochastic Gradient Descent"
   ]
  },
  {
   "cell_type": "code",
   "execution_count": 34,
   "metadata": {},
   "outputs": [],
   "source": [
    "# shuffling points before each iteration, then selecting first N points \n",
    "# This obtains a less biased estimation of the true gradient.\n",
    "# https://www.quora.com/Why-do-we-need-to-shuffle-inputs-for-stochastic-gradient-descent"
   ]
  },
  {
   "cell_type": "code",
   "execution_count": 330,
   "metadata": {},
   "outputs": [],
   "source": [
    "def stochastic_gradient_descent(\n",
    "    X_b: np.ndarray,\n",
    "    y: np.ndarray,\n",
    "    beta: np.ndarray = None,\n",
    "    learning_rate: np.ndarray = 0.01,\n",
    "    shuffle_values: bool = True,\n",
    "    alpha=None,\n",
    "):\n",
    "    \"\"\"\n",
    "    :param X_b: feature matrix including column of ones for bias\n",
    "    :param y: independent variable\n",
    "    :param learning_rate: learning rate for gradient descent\n",
    "    :param beta: regression coefficients\n",
    "    :param shuffle_values: shuffle X_b and y\n",
    "    :param alpha: used for Lasso regression in exercise 2\n",
    "    :return: \n",
    "        - beta - updated regression coefficients\n",
    "        - y_hat - estimated y\n",
    "        - rmse - Root mean squared errors\n",
    "    \"\"\"\n",
    "    # gradient descent\n",
    "    if shuffle_values:\n",
    "        X_shuffled, y_shuffled = shuffle(X_b, y.reshape(-1, 1))\n",
    "    else:\n",
    "        X_shuffled, y_shuffled = X_b, y\n",
    "\n",
    "    for ind_point in range(X_b.shape[0]):\n",
    "        ## YOUR CODE\n",
    "    \n",
    "        gradient = calc_gradient(X_b, y, beta)\n",
    "        beta = update_beta(beta,gradient)\n",
    "        y_hat = predict(X_b, beta)\n",
    "        rmse = calc_rmse(y, y_hat)\n",
    "    \n",
    "    return beta, y_hat, rmse"
   ]
  },
  {
   "cell_type": "code",
   "execution_count": 331,
   "metadata": {},
   "outputs": [
    {
     "name": "stdout",
     "output_type": "stream",
     "text": [
      "Epoch:    0, RMSE: 6503746660.417, beta: [[ 0.38053738 -0.88941236]]\n",
      "Epoch:  100, RMSE: 31270951.723, beta: [[25792.12871     9449.97293007]]\n",
      "Epoch:  200, RMSE: 31270951.722, beta: [[25792.20019845  9449.96232149]]\n",
      "Epoch:  300, RMSE: 31270951.722, beta: [[25792.20019867  9449.96232146]]\n",
      "Epoch:  400, RMSE: 31270951.722, beta: [[25792.20019867  9449.96232146]]\n",
      "Epoch:  500, RMSE: 31270951.722, beta: [[25792.20019867  9449.96232146]]\n",
      "Epoch:  600, RMSE: 31270951.722, beta: [[25792.20019867  9449.96232146]]\n",
      "Epoch:  700, RMSE: 31270951.722, beta: [[25792.20019867  9449.96232146]]\n",
      "Epoch:  800, RMSE: 31270951.722, beta: [[25792.20019867  9449.96232146]]\n",
      "Epoch:  900, RMSE: 31270951.722, beta: [[25792.20019867  9449.96232146]]\n",
      "Epoch: 1000, RMSE: 31270951.722, beta: [[25792.20019867  9449.96232146]]\n",
      "Epoch: 1100, RMSE: 31270951.722, beta: [[25792.20019867  9449.96232146]]\n",
      "Epoch: 1200, RMSE: 31270951.722, beta: [[25792.20019867  9449.96232146]]\n",
      "Epoch: 1300, RMSE: 31270951.722, beta: [[25792.20019867  9449.96232146]]\n",
      "Epoch: 1400, RMSE: 31270951.722, beta: [[25792.20019867  9449.96232146]]\n",
      "Epoch: 1500, RMSE: 31270951.722, beta: [[25792.20019867  9449.96232146]]\n",
      "Epoch: 1600, RMSE: 31270951.722, beta: [[25792.20019867  9449.96232146]]\n",
      "Epoch: 1700, RMSE: 31270951.722, beta: [[25792.20019867  9449.96232146]]\n",
      "Epoch: 1800, RMSE: 31270951.722, beta: [[25792.20019867  9449.96232146]]\n",
      "Epoch: 1900, RMSE: 31270951.722, beta: [[25792.20019867  9449.96232146]]\n",
      "Epoch: 2000, RMSE: 31270951.722, beta: [[25792.20019867  9449.96232146]]\n",
      "\n"
     ]
    },
    {
     "data": {
      "text/plain": [
       "(4000, 10000)"
      ]
     },
     "execution_count": 331,
     "metadata": {},
     "output_type": "execute_result"
    },
    {
     "data": {
      "image/png": "[encoded data removed]",
      "text/plain": [
       "<Figure size 2304x432 with 3 Axes>"
      ]
     },
     "metadata": {
      "needs_background": "light"
     },
     "output_type": "display_data"
    }
   ],
   "source": [
    "learning_rate = 0.01\n",
    "epochs = 2000\n",
    "beta_all, rmse_all, axs = run_gradient_descent(\n",
    "    stochastic_gradient_descent, X_b, y, learning_rate, epochs, verbose=True\n",
    ")\n",
    "axs[1].set_ylim((4000, 10000))"
   ]
  },
  {
   "cell_type": "markdown",
   "metadata": {},
   "source": [
    "# Mini Batch"
   ]
  },
  {
   "cell_type": "code",
   "execution_count": 37,
   "metadata": {},
   "outputs": [],
   "source": [
    "def mini_batch_gradient_descent(X_b, y, beta, learning_rate, shuffle_values=True, batch_size=None, alpha=None):\n",
    "    \"\"\"\n",
    "    :param X_b: feature matrix including column of ones for bias\n",
    "    :param y: independent variable\n",
    "    :param learning_rate: learning rate for gradient descent\n",
    "    :param beta: regression coefficients\n",
    "    :param shuffle_values: shuffle X_b and y\n",
    "    :param batch_size: number of elements per batch\n",
    "    :param alpha: used for Lasso regression in exercise 2\n",
    "    :return: \n",
    "        - beta - updated regression coefficients\n",
    "        - y_hat - estimated y\n",
    "        - rmse - Root mean squared errors\n",
    "    \"\"\"\n",
    "        \n",
    "    return beta, y_hat, rmse\n"
   ]
  },
  {
   "cell_type": "code",
   "execution_count": 38,
   "metadata": {},
   "outputs": [
    {
     "ename": "NameError",
     "evalue": "name 'y_hat' is not defined",
     "output_type": "error",
     "traceback": [
      "\u001b[0;31m---------------------------------------------------------------------------\u001b[0m",
      "\u001b[0;31mNameError\u001b[0m                                 Traceback (most recent call last)",
      "\u001b[0;32m<ipython-input-38-48b3475c5253>\u001b[0m in \u001b[0;36m<module>\u001b[0;34m\u001b[0m\n\u001b[1;32m     11\u001b[0m     \u001b[0mshuffle_values\u001b[0m\u001b[0;34m=\u001b[0m\u001b[0;32mTrue\u001b[0m\u001b[0;34m,\u001b[0m\u001b[0;34m\u001b[0m\u001b[0;34m\u001b[0m\u001b[0m\n\u001b[1;32m     12\u001b[0m     \u001b[0mverbose\u001b[0m\u001b[0;34m=\u001b[0m\u001b[0;32mTrue\u001b[0m\u001b[0;34m,\u001b[0m\u001b[0;34m\u001b[0m\u001b[0;34m\u001b[0m\u001b[0m\n\u001b[0;32m---> 13\u001b[0;31m     \u001b[0mcreate_plot\u001b[0m\u001b[0;34m=\u001b[0m\u001b[0;32mTrue\u001b[0m\u001b[0;34m,\u001b[0m\u001b[0;34m\u001b[0m\u001b[0;34m\u001b[0m\u001b[0m\n\u001b[0m\u001b[1;32m     14\u001b[0m )\n\u001b[1;32m     15\u001b[0m \u001b[0;34m\u001b[0m\u001b[0m\n",
      "\u001b[0;32m<ipython-input-30-321840c797ee>\u001b[0m in \u001b[0;36mrun_gradient_descent\u001b[0;34m(gradient_descent_func, X_b, y, learning_rate, epochs, beta, verbose, create_plot, step_width_output, **kwargs)\u001b[0m\n\u001b[1;32m     35\u001b[0m     \u001b[0;31m# for large arrays this is computational way more efficient than appending\u001b[0m\u001b[0;34m\u001b[0m\u001b[0;34m\u001b[0m\u001b[0;34m\u001b[0m\u001b[0m\n\u001b[1;32m     36\u001b[0m     \u001b[0mrmse_all\u001b[0m \u001b[0;34m=\u001b[0m \u001b[0mnp\u001b[0m\u001b[0;34m.\u001b[0m\u001b[0mzeros\u001b[0m\u001b[0;34m(\u001b[0m\u001b[0mepochs\u001b[0m \u001b[0;34m+\u001b[0m \u001b[0;36m1\u001b[0m\u001b[0;34m)\u001b[0m  \u001b[0;31m# vector for saving RMSE values\u001b[0m\u001b[0;34m\u001b[0m\u001b[0;34m\u001b[0m\u001b[0m\n\u001b[0;32m---> 37\u001b[0;31m     \u001b[0mrmse_all\u001b[0m\u001b[0;34m[\u001b[0m\u001b[0;36m0\u001b[0m\u001b[0;34m]\u001b[0m \u001b[0;34m=\u001b[0m \u001b[0mcalc_rmse\u001b[0m\u001b[0;34m(\u001b[0m\u001b[0my\u001b[0m\u001b[0;34m,\u001b[0m \u001b[0mpredict\u001b[0m\u001b[0;34m(\u001b[0m\u001b[0mX_b\u001b[0m\u001b[0;34m,\u001b[0m \u001b[0mbeta\u001b[0m\u001b[0;34m)\u001b[0m\u001b[0;34m)\u001b[0m  \u001b[0;31m# insert current value\u001b[0m\u001b[0;34m\u001b[0m\u001b[0;34m\u001b[0m\u001b[0m\n\u001b[0m\u001b[1;32m     38\u001b[0m     \u001b[0mbeta_all\u001b[0m \u001b[0;34m=\u001b[0m \u001b[0mnp\u001b[0m\u001b[0;34m.\u001b[0m\u001b[0mzeros\u001b[0m\u001b[0;34m(\u001b[0m\u001b[0;34m(\u001b[0m\u001b[0mepochs\u001b[0m \u001b[0;34m+\u001b[0m \u001b[0;36m1\u001b[0m\u001b[0;34m,\u001b[0m \u001b[0mlen\u001b[0m\u001b[0;34m(\u001b[0m\u001b[0mbeta\u001b[0m\u001b[0;34m)\u001b[0m\u001b[0;34m)\u001b[0m\u001b[0;34m)\u001b[0m  \u001b[0;31m# array for storing beta vectors\u001b[0m\u001b[0;34m\u001b[0m\u001b[0;34m\u001b[0m\u001b[0m\n\u001b[1;32m     39\u001b[0m     \u001b[0mbeta_all\u001b[0m\u001b[0;34m[\u001b[0m\u001b[0;36m0\u001b[0m\u001b[0;34m,\u001b[0m \u001b[0;34m:\u001b[0m\u001b[0;34m]\u001b[0m \u001b[0;34m=\u001b[0m \u001b[0mbeta\u001b[0m\u001b[0;34m.\u001b[0m\u001b[0mT\u001b[0m  \u001b[0;31m#  insert current values\u001b[0m\u001b[0;34m\u001b[0m\u001b[0;34m\u001b[0m\u001b[0m\n",
      "\u001b[0;32m<ipython-input-24-70aa35d9c7cd>\u001b[0m in \u001b[0;36mpredict\u001b[0;34m(X_b, beta)\u001b[0m\n\u001b[1;32m      6\u001b[0m \u001b[0;34m\u001b[0m\u001b[0m\n\u001b[1;32m      7\u001b[0m \u001b[0;34m\u001b[0m\u001b[0m\n\u001b[0;32m----> 8\u001b[0;31m     \u001b[0;32mreturn\u001b[0m \u001b[0my_hat\u001b[0m\u001b[0;34m\u001b[0m\u001b[0;34m\u001b[0m\u001b[0m\n\u001b[0m\u001b[1;32m      9\u001b[0m \u001b[0;34m\u001b[0m\u001b[0m\n\u001b[1;32m     10\u001b[0m \u001b[0;34m\u001b[0m\u001b[0m\n",
      "\u001b[0;31mNameError\u001b[0m: name 'y_hat' is not defined"
     ]
    }
   ],
   "source": [
    "learning_rate = 0.01\n",
    "epochs = 2000\n",
    "\n",
    "beta_all, rmse_all, axs = run_gradient_descent(\n",
    "    mini_batch_gradient_descent,\n",
    "    X_b,\n",
    "    y,\n",
    "    learning_rate,\n",
    "    epochs,\n",
    "    batch_size=1,\n",
    "    shuffle_values=True,\n",
    "    verbose=True,\n",
    "    create_plot=True,\n",
    ")\n",
    "\n",
    "axs[1].set_ylim((4000, 10000))"
   ]
  },
  {
   "cell_type": "markdown",
   "metadata": {},
   "source": [
    "# Sklearn"
   ]
  },
  {
   "cell_type": "markdown",
   "metadata": {},
   "source": [
    "Compare your results with the solver from sklearn."
   ]
  },
  {
   "cell_type": "code",
   "execution_count": 39,
   "metadata": {},
   "outputs": [],
   "source": [
    "from sklearn import datasets, linear_model\n",
    "from sklearn.metrics import mean_squared_error\n",
    "\n"
   ]
  },
  {
   "cell_type": "code",
   "execution_count": 40,
   "metadata": {},
   "outputs": [
    {
     "ename": "NameError",
     "evalue": "name 'regr' is not defined",
     "output_type": "error",
     "traceback": [
      "\u001b[0;31m---------------------------------------------------------------------------\u001b[0m",
      "\u001b[0;31mNameError\u001b[0m                                 Traceback (most recent call last)",
      "\u001b[0;32m<ipython-input-40-79ae651bbb17>\u001b[0m in \u001b[0;36m<module>\u001b[0;34m\u001b[0m\n\u001b[1;32m      1\u001b[0m \u001b[0;31m# Print the coefficients\u001b[0m\u001b[0;34m\u001b[0m\u001b[0;34m\u001b[0m\u001b[0;34m\u001b[0m\u001b[0m\n\u001b[0;32m----> 2\u001b[0;31m \u001b[0mprint\u001b[0m\u001b[0;34m(\u001b[0m\u001b[0;34m'Coefficients: '\u001b[0m\u001b[0;34m,\u001b[0m \u001b[0;34m[\u001b[0m\u001b[0mregr\u001b[0m\u001b[0;34m.\u001b[0m\u001b[0mintercept_\u001b[0m\u001b[0;34m[\u001b[0m\u001b[0;36m0\u001b[0m\u001b[0;34m]\u001b[0m\u001b[0;34m,\u001b[0m \u001b[0mregr\u001b[0m\u001b[0;34m.\u001b[0m\u001b[0mcoef_\u001b[0m\u001b[0;34m[\u001b[0m\u001b[0;36m0\u001b[0m\u001b[0;34m,\u001b[0m\u001b[0;36m0\u001b[0m\u001b[0;34m]\u001b[0m\u001b[0;34m]\u001b[0m\u001b[0;34m)\u001b[0m\u001b[0;34m\u001b[0m\u001b[0;34m\u001b[0m\u001b[0m\n\u001b[0m\u001b[1;32m      3\u001b[0m \u001b[0;31m# The root mean squared error\u001b[0m\u001b[0;34m\u001b[0m\u001b[0;34m\u001b[0m\u001b[0;34m\u001b[0m\u001b[0m\n\u001b[1;32m      4\u001b[0m print(\"RMSE: %.2f\"\n\u001b[1;32m      5\u001b[0m       % np.sqrt(mean_squared_error(y, y_hat)))\n",
      "\u001b[0;31mNameError\u001b[0m: name 'regr' is not defined"
     ]
    }
   ],
   "source": [
    "# Print the coefficients\n",
    "print('Coefficients: ', [regr.intercept_[0], regr.coef_[0,0]])\n",
    "# The root mean squared error\n",
    "print(\"RMSE: %.2f\"\n",
    "      % np.sqrt(mean_squared_error(y, y_hat)))"
   ]
  },
  {
   "cell_type": "code",
   "execution_count": null,
   "metadata": {},
   "outputs": [],
   "source": []
  }
 ],
 "metadata": {
  "kernelspec": {
   "display_name": "Python 3",
   "language": "python",
   "name": "python3"
  },
  "language_info": {
   "codemirror_mode": {
    "name": "ipython",
    "version": 3
   },
   "file_extension": ".py",
   "mimetype": "text/x-python",
   "name": "python",
   "nbconvert_exporter": "python",
   "pygments_lexer": "ipython3",
   "version": "3.7.3"
  }
 },
 "nbformat": 4,
 "nbformat_minor": 2
}
