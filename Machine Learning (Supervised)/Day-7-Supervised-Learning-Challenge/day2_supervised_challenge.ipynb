{
 "cells": [
  {
   "cell_type": "markdown",
   "metadata": {},
   "source": [
    "# Day 2 - Supervised Learning Challenge\n",
    "\n",
    "Let’s take what you’ve learned over the past week and put it into practice. The dataset we will be using contains two csv files ‘data’ and ‘target’.\n",
    "\n",
    "Each row in the ‘data’ belongs to a ‘measurement’ and each column represents a ‘feature’. For each row in the ‘data’ you have a corresponding class label in ‘target’. You can consider the row-numbers as keys.\n",
    "\n",
    "Complete the following:\n",
    "\n",
    "Explore your data. \n",
    "- Can you identify anything interest that is worth noting from the data?\n",
    "- Define a set of possible classifiers and show which one performs best. Keep in mind the problem of overfitting.\n",
    "- Using feature selection try to reduce the number of features. In the dataset you have over 100 features. Find the good ones for your classifier.\n",
    "\n",
    "Keep in mind that there is no best solution to the challenge. Show how you approach a problem, and the skills/methods you use in that approach."
   ]
  },
  {
   "cell_type": "code",
   "execution_count": null,
   "metadata": {},
   "outputs": [],
   "source": []
  }
 ],
 "metadata": {
  "kernelspec": {
   "display_name": "Python 3",
   "language": "python",
   "name": "python3"
  },
  "language_info": {
   "codemirror_mode": {
    "name": "ipython",
    "version": 3
   },
   "file_extension": ".py",
   "mimetype": "text/x-python",
   "name": "python",
   "nbconvert_exporter": "python",
   "pygments_lexer": "ipython3",
   "version": "3.7.3"
  }
 },
 "nbformat": 4,
 "nbformat_minor": 2
}
