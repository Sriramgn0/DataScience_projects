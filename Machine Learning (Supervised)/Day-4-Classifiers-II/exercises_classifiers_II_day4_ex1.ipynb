{
 "cells": [
  {
   "cell_type": "code",
   "execution_count": 176,
   "metadata": {},
   "outputs": [],
   "source": [
    "%matplotlib inline\n",
    "import matplotlib.pyplot as plt\n",
    "import sklearn\n",
    "import numpy as np\n",
    "import pandas as pd\n",
    "from sklearn.utils import shuffle\n",
    "from typing import Dict, Tuple, Callable\n",
    "from sklearn import svm\n",
    "from sklearn.model_selection import cross_val_score\n",
    "import seaborn as sns\n",
    "from sklearn.linear_model import LogisticRegression\n",
    "from sklearn import metrics\n",
    "import pandas as pd\n",
    "from sklearn import datasets, linear_model\n",
    "from sklearn.model_selection import train_test_split\n",
    "from matplotlib import pyplot as plt\n",
    "from sklearn.compose import ColumnTransformer\n",
    "from sklearn.pipeline import Pipeline\n",
    "from sklearn.impute import SimpleImputer\n",
    "from sklearn.preprocessing import MinMaxScaler, OneHotEncoder\n",
    "from sklearn.neighbors import KNeighborsClassifier\n",
    "from sklearn.naive_bayes import GaussianNB"
   ]
  },
  {
   "cell_type": "markdown",
   "metadata": {},
   "source": [
    "### Exercise 1\n",
    "\n",
    "1. Pirate Attacks\n",
    "\n",
    "Use KNN, Naive Bayes and SVM on the ‘Pirate Attacks’ dataset to predict pirate attack success:\n",
    "\n",
    "- Clean and preprocess data using a one-hot-encoder for categorical variables.\n",
    "- Run the three models on the data.\n",
    "- Have you noticed something strange? There is a “data leakage” here..\n",
    "\n",
    "- Identify the feature(s) that are giving away the result!\n",
    "- Run you models again. Which model is the best in predicting attacks?"
   ]
  },
  {
   "cell_type": "code",
   "execution_count": 132,
   "metadata": {},
   "outputs": [
    {
     "data": {
      "text/html": [
       "<div>\n",
       "<style scoped>\n",
       "    .dataframe tbody tr th:only-of-type {\n",
       "        vertical-align: middle;\n",
       "    }\n",
       "\n",
       "    .dataframe tbody tr th {\n",
       "        vertical-align: top;\n",
       "    }\n",
       "\n",
       "    .dataframe thead th {\n",
       "        text-align: right;\n",
       "    }\n",
       "</style>\n",
       "<table border=\"1\" class=\"dataframe\">\n",
       "  <thead>\n",
       "    <tr style=\"text-align: right;\">\n",
       "      <th></th>\n",
       "      <th>Unnamed: 0</th>\n",
       "      <th>DATETIME (LOCAL)</th>\n",
       "      <th>DATETIME (UTC)</th>\n",
       "      <th>DATE (LT)</th>\n",
       "      <th>DATE (UTC)</th>\n",
       "      <th>REGION</th>\n",
       "      <th>COUNTRY</th>\n",
       "      <th>INCIDENT TYPE</th>\n",
       "      <th>VESSEL TYPE</th>\n",
       "      <th>MAERSK?</th>\n",
       "      <th>VESSEL ACTIVITY LOCATION</th>\n",
       "      <th>LAT</th>\n",
       "      <th>LONG</th>\n",
       "      <th>TIMEZONE</th>\n",
       "      <th>TIME OF DAY</th>\n",
       "      <th>ATTACKS</th>\n",
       "      <th>ATTACK SUCCESS</th>\n",
       "    </tr>\n",
       "  </thead>\n",
       "  <tbody>\n",
       "    <tr>\n",
       "      <th>0</th>\n",
       "      <td>1</td>\n",
       "      <td>2016-01-30 23:34:00</td>\n",
       "      <td>2016-01-30 22:34:00</td>\n",
       "      <td>2016-01-30</td>\n",
       "      <td>2016-01-30</td>\n",
       "      <td>WEST AFRICA</td>\n",
       "      <td>NIGERIA</td>\n",
       "      <td>FAILED ATTACK, HIJACKING</td>\n",
       "      <td>CONTAINER SHIP</td>\n",
       "      <td>0</td>\n",
       "      <td>OFF SHORE</td>\n",
       "      <td>3.000000</td>\n",
       "      <td>6.250000</td>\n",
       "      <td>Africa/Lagos</td>\n",
       "      <td>EVENING</td>\n",
       "      <td>1</td>\n",
       "      <td>0</td>\n",
       "    </tr>\n",
       "    <tr>\n",
       "      <th>1</th>\n",
       "      <td>2</td>\n",
       "      <td>2016-01-29 23:40:00</td>\n",
       "      <td>2016-01-29 22:40:00</td>\n",
       "      <td>2016-01-29</td>\n",
       "      <td>2016-01-29</td>\n",
       "      <td>WEST AFRICA</td>\n",
       "      <td>NIGERIA</td>\n",
       "      <td>KIDNAP/RANSOM AT SEA</td>\n",
       "      <td>PRODUCT TANKER</td>\n",
       "      <td>0</td>\n",
       "      <td>OFF SHORE</td>\n",
       "      <td>2.500000</td>\n",
       "      <td>5.750000</td>\n",
       "      <td>Africa/Lagos</td>\n",
       "      <td>EVENING</td>\n",
       "      <td>1</td>\n",
       "      <td>1</td>\n",
       "    </tr>\n",
       "    <tr>\n",
       "      <th>2</th>\n",
       "      <td>3</td>\n",
       "      <td>2016-01-28 03:00:00</td>\n",
       "      <td>2016-01-28 02:00:00</td>\n",
       "      <td>2016-01-28</td>\n",
       "      <td>2016-01-28</td>\n",
       "      <td>SOUTH ASIA</td>\n",
       "      <td>INDIA</td>\n",
       "      <td>FAILED ATTACK, ROBBERY</td>\n",
       "      <td>PRODUCT TANKER</td>\n",
       "      <td>0</td>\n",
       "      <td>ANCHORAGE</td>\n",
       "      <td>22.816667</td>\n",
       "      <td>70.116667</td>\n",
       "      <td>Asia/Kolkata</td>\n",
       "      <td>NIGHT</td>\n",
       "      <td>1</td>\n",
       "      <td>0</td>\n",
       "    </tr>\n",
       "    <tr>\n",
       "      <th>3</th>\n",
       "      <td>4</td>\n",
       "      <td>NaN</td>\n",
       "      <td>NaN</td>\n",
       "      <td>2016-01-27</td>\n",
       "      <td>2016-01-27</td>\n",
       "      <td>HORN OF AFRICA/ GULF OF ADEN</td>\n",
       "      <td>SOMALIA</td>\n",
       "      <td>SUSPICIOUS ACTIVITY AT SEA</td>\n",
       "      <td>NaN</td>\n",
       "      <td>0</td>\n",
       "      <td>OFF SHORE</td>\n",
       "      <td>13.998747</td>\n",
       "      <td>54.112792</td>\n",
       "      <td>Asia/Riyadh</td>\n",
       "      <td>UNKNOWN</td>\n",
       "      <td>1</td>\n",
       "      <td>0</td>\n",
       "    </tr>\n",
       "    <tr>\n",
       "      <th>4</th>\n",
       "      <td>5</td>\n",
       "      <td>2016-01-25 23:55:00</td>\n",
       "      <td>2016-01-25 22:55:00</td>\n",
       "      <td>2016-01-25</td>\n",
       "      <td>2016-01-25</td>\n",
       "      <td>SOUTH AMERICA</td>\n",
       "      <td>VENEZUELA</td>\n",
       "      <td>THEFT AT ANCHORAGE</td>\n",
       "      <td>GENERAL CARGO VESSEL</td>\n",
       "      <td>0</td>\n",
       "      <td>ANCHORAGE</td>\n",
       "      <td>10.267500</td>\n",
       "      <td>-63.432500</td>\n",
       "      <td>America/Caracas</td>\n",
       "      <td>EVENING</td>\n",
       "      <td>1</td>\n",
       "      <td>1</td>\n",
       "    </tr>\n",
       "  </tbody>\n",
       "</table>\n",
       "</div>"
      ],
      "text/plain": [
       "   Unnamed: 0     DATETIME (LOCAL)       DATETIME (UTC)   DATE (LT)  \\\n",
       "0           1  2016-01-30 23:34:00  2016-01-30 22:34:00  2016-01-30   \n",
       "1           2  2016-01-29 23:40:00  2016-01-29 22:40:00  2016-01-29   \n",
       "2           3  2016-01-28 03:00:00  2016-01-28 02:00:00  2016-01-28   \n",
       "3           4                  NaN                  NaN  2016-01-27   \n",
       "4           5  2016-01-25 23:55:00  2016-01-25 22:55:00  2016-01-25   \n",
       "\n",
       "   DATE (UTC)                        REGION    COUNTRY  \\\n",
       "0  2016-01-30                   WEST AFRICA    NIGERIA   \n",
       "1  2016-01-29                   WEST AFRICA    NIGERIA   \n",
       "2  2016-01-28                    SOUTH ASIA      INDIA   \n",
       "3  2016-01-27  HORN OF AFRICA/ GULF OF ADEN    SOMALIA   \n",
       "4  2016-01-25                 SOUTH AMERICA  VENEZUELA   \n",
       "\n",
       "                INCIDENT TYPE           VESSEL TYPE  MAERSK?  \\\n",
       "0    FAILED ATTACK, HIJACKING        CONTAINER SHIP        0   \n",
       "1        KIDNAP/RANSOM AT SEA        PRODUCT TANKER        0   \n",
       "2      FAILED ATTACK, ROBBERY        PRODUCT TANKER        0   \n",
       "3  SUSPICIOUS ACTIVITY AT SEA                   NaN        0   \n",
       "4          THEFT AT ANCHORAGE  GENERAL CARGO VESSEL        0   \n",
       "\n",
       "  VESSEL ACTIVITY LOCATION        LAT       LONG         TIMEZONE TIME OF DAY  \\\n",
       "0                OFF SHORE   3.000000   6.250000     Africa/Lagos     EVENING   \n",
       "1                OFF SHORE   2.500000   5.750000     Africa/Lagos     EVENING   \n",
       "2                ANCHORAGE  22.816667  70.116667     Asia/Kolkata       NIGHT   \n",
       "3                OFF SHORE  13.998747  54.112792      Asia/Riyadh     UNKNOWN   \n",
       "4                ANCHORAGE  10.267500 -63.432500  America/Caracas     EVENING   \n",
       "\n",
       "   ATTACKS  ATTACK SUCCESS  \n",
       "0        1               0  \n",
       "1        1               1  \n",
       "2        1               0  \n",
       "3        1               0  \n",
       "4        1               1  "
      ]
     },
     "execution_count": 132,
     "metadata": {},
     "output_type": "execute_result"
    }
   ],
   "source": [
    "data = pd.read_csv('pirate_data.csv')\n",
    "data.head()"
   ]
  },
  {
   "cell_type": "markdown",
   "metadata": {},
   "source": [
    "### Cleaning Data - dropping columns and grouping"
   ]
  },
  {
   "cell_type": "code",
   "execution_count": 133,
   "metadata": {},
   "outputs": [],
   "source": [
    "data = data.drop(columns=['Unnamed: 0'])"
   ]
  },
  {
   "cell_type": "code",
   "execution_count": 134,
   "metadata": {},
   "outputs": [],
   "source": [
    "# we observe that ATTACKS are all 1 so we can remove this column\n",
    "data = data.drop(columns=['ATTACKS'])"
   ]
  },
  {
   "cell_type": "code",
   "execution_count": 135,
   "metadata": {},
   "outputs": [],
   "source": [
    "#remove more redundant columns\n",
    "#remove incident type since it doesn't explain anything, this is value that appears AFTER an attack and therefore\n",
    "#is not helpful for predicting\n",
    "data = data.drop(columns=['DATETIME (LOCAL)','DATE (LT)','TIMEZONE','LAT','LONG','INCIDENT TYPE'])\n"
   ]
  },
  {
   "cell_type": "code",
   "execution_count": 136,
   "metadata": {},
   "outputs": [
    {
     "data": {
      "text/plain": [
       "OFF SHORE    421\n",
       "ANCHORAGE    198\n",
       "BERTH         57\n",
       "Name: VESSEL ACTIVITY LOCATION, dtype: int64"
      ]
     },
     "execution_count": 136,
     "metadata": {},
     "output_type": "execute_result"
    }
   ],
   "source": [
    "data['VESSEL ACTIVITY LOCATION'].value_counts()"
   ]
  },
  {
   "cell_type": "code",
   "execution_count": 137,
   "metadata": {},
   "outputs": [
    {
     "data": {
      "text/plain": [
       "NIGHT        271\n",
       "UNKNOWN      178\n",
       "MORNING      153\n",
       "EVENING      125\n",
       "AFTERNOON     75\n",
       "Name: TIME OF DAY, dtype: int64"
      ]
     },
     "execution_count": 137,
     "metadata": {},
     "output_type": "execute_result"
    }
   ],
   "source": [
    "data['TIME OF DAY'].value_counts()"
   ]
  },
  {
   "cell_type": "code",
   "execution_count": 138,
   "metadata": {
    "scrolled": true
   },
   "outputs": [],
   "source": [
    "#there are too many vessel types to convert to columns so let's simplify into:\n",
    "#1) Bulk container, 2) product tanker, 3) container ship, 4) other\n",
    "\n",
    "\n",
    "data['VESSEL TYPE'].loc[~data['VESSEL TYPE'].isin(['BULK CARRIER','PRODUCT TANKER','CONTAINER SHIP'])] = 'OTHER'\n"
   ]
  },
  {
   "cell_type": "code",
   "execution_count": 139,
   "metadata": {},
   "outputs": [
    {
     "data": {
      "text/plain": [
       "OFF SHORE    421\n",
       "ANCHORAGE    198\n",
       "BERTH         57\n",
       "Name: VESSEL ACTIVITY LOCATION, dtype: int64"
      ]
     },
     "execution_count": 139,
     "metadata": {},
     "output_type": "execute_result"
    }
   ],
   "source": [
    "data['VESSEL ACTIVITY LOCATION'].value_counts()"
   ]
  },
  {
   "cell_type": "markdown",
   "metadata": {},
   "source": [
    "### Change unknown data to values based on assumptions"
   ]
  },
  {
   "cell_type": "code",
   "execution_count": 140,
   "metadata": {},
   "outputs": [],
   "source": [
    "\n",
    "#set all unknown time of days to EVENING since evening is the most likely time of attack\n",
    "data.loc[data['TIME OF DAY']=='UNKNOWN', 'TIME OF DAY'] = data['TIME OF DAY'].value_counts().index[0]\n",
    "    "
   ]
  },
  {
   "cell_type": "code",
   "execution_count": 141,
   "metadata": {},
   "outputs": [],
   "source": [
    "#let's also assume that all NaN 'Vessel Activity Location' is 'OFFSHORE, which is the most common location.\n",
    "\n",
    "data['VESSEL ACTIVITY LOCATION'].loc[data['VESSEL ACTIVITY LOCATION'].isna()] = data['VESSEL ACTIVITY LOCATION'].value_counts().index[0]\n",
    "\n"
   ]
  },
  {
   "cell_type": "code",
   "execution_count": 142,
   "metadata": {},
   "outputs": [
    {
     "data": {
      "text/plain": [
       "DATETIME (UTC)              220\n",
       "DATE (UTC)                    0\n",
       "REGION                        0\n",
       "COUNTRY                       0\n",
       "VESSEL TYPE                   0\n",
       "MAERSK?                       0\n",
       "VESSEL ACTIVITY LOCATION      0\n",
       "TIME OF DAY                   0\n",
       "ATTACK SUCCESS                0\n",
       "dtype: int64"
      ]
     },
     "execution_count": 142,
     "metadata": {},
     "output_type": "execute_result"
    }
   ],
   "source": [
    "#look at remaining data columns that have na's . \n",
    "data.isna().sum()"
   ]
  },
  {
   "cell_type": "code",
   "execution_count": 116,
   "metadata": {},
   "outputs": [],
   "source": [
    "#data.dropna(subset=['VESSEL TYPE','VESSEL ACTIVITY LOCATION','TIME OF DAY'])"
   ]
  },
  {
   "cell_type": "code",
   "execution_count": 117,
   "metadata": {},
   "outputs": [
    {
     "data": {
      "image/png": "[encoded data removed]",
      "text/plain": [
       "<Figure size 1080x720 with 2 Axes>"
      ]
     },
     "metadata": {
      "needs_background": "light"
     },
     "output_type": "display_data"
    }
   ],
   "source": [
    "data.hist(figsize = (15,10));"
   ]
  },
  {
   "cell_type": "code",
   "execution_count": 145,
   "metadata": {},
   "outputs": [],
   "source": [
    "data = data.drop(columns=['DATETIME (UTC)'])"
   ]
  },
  {
   "cell_type": "code",
   "execution_count": 148,
   "metadata": {},
   "outputs": [
    {
     "data": {
      "text/html": [
       "<div>\n",
       "<style scoped>\n",
       "    .dataframe tbody tr th:only-of-type {\n",
       "        vertical-align: middle;\n",
       "    }\n",
       "\n",
       "    .dataframe tbody tr th {\n",
       "        vertical-align: top;\n",
       "    }\n",
       "\n",
       "    .dataframe thead th {\n",
       "        text-align: right;\n",
       "    }\n",
       "</style>\n",
       "<table border=\"1\" class=\"dataframe\">\n",
       "  <thead>\n",
       "    <tr style=\"text-align: right;\">\n",
       "      <th></th>\n",
       "      <th>DATE (UTC)</th>\n",
       "      <th>REGION</th>\n",
       "      <th>COUNTRY</th>\n",
       "      <th>VESSEL TYPE</th>\n",
       "      <th>MAERSK?</th>\n",
       "      <th>VESSEL ACTIVITY LOCATION</th>\n",
       "      <th>TIME OF DAY</th>\n",
       "      <th>ATTACK SUCCESS</th>\n",
       "    </tr>\n",
       "  </thead>\n",
       "  <tbody>\n",
       "    <tr>\n",
       "      <th>0</th>\n",
       "      <td>2016-01-30</td>\n",
       "      <td>WEST AFRICA</td>\n",
       "      <td>NIGERIA</td>\n",
       "      <td>CONTAINER SHIP</td>\n",
       "      <td>0</td>\n",
       "      <td>OFF SHORE</td>\n",
       "      <td>EVENING</td>\n",
       "      <td>0</td>\n",
       "    </tr>\n",
       "    <tr>\n",
       "      <th>1</th>\n",
       "      <td>2016-01-29</td>\n",
       "      <td>WEST AFRICA</td>\n",
       "      <td>NIGERIA</td>\n",
       "      <td>PRODUCT TANKER</td>\n",
       "      <td>0</td>\n",
       "      <td>OFF SHORE</td>\n",
       "      <td>EVENING</td>\n",
       "      <td>1</td>\n",
       "    </tr>\n",
       "    <tr>\n",
       "      <th>2</th>\n",
       "      <td>2016-01-28</td>\n",
       "      <td>SOUTH ASIA</td>\n",
       "      <td>INDIA</td>\n",
       "      <td>PRODUCT TANKER</td>\n",
       "      <td>0</td>\n",
       "      <td>ANCHORAGE</td>\n",
       "      <td>NIGHT</td>\n",
       "      <td>0</td>\n",
       "    </tr>\n",
       "    <tr>\n",
       "      <th>3</th>\n",
       "      <td>2016-01-27</td>\n",
       "      <td>HORN OF AFRICA/ GULF OF ADEN</td>\n",
       "      <td>SOMALIA</td>\n",
       "      <td>OTHER</td>\n",
       "      <td>0</td>\n",
       "      <td>OFF SHORE</td>\n",
       "      <td>NIGHT</td>\n",
       "      <td>0</td>\n",
       "    </tr>\n",
       "    <tr>\n",
       "      <th>4</th>\n",
       "      <td>2016-01-25</td>\n",
       "      <td>SOUTH AMERICA</td>\n",
       "      <td>VENEZUELA</td>\n",
       "      <td>OTHER</td>\n",
       "      <td>0</td>\n",
       "      <td>ANCHORAGE</td>\n",
       "      <td>EVENING</td>\n",
       "      <td>1</td>\n",
       "    </tr>\n",
       "    <tr>\n",
       "      <th>...</th>\n",
       "      <td>...</td>\n",
       "      <td>...</td>\n",
       "      <td>...</td>\n",
       "      <td>...</td>\n",
       "      <td>...</td>\n",
       "      <td>...</td>\n",
       "      <td>...</td>\n",
       "      <td>...</td>\n",
       "    </tr>\n",
       "    <tr>\n",
       "      <th>797</th>\n",
       "      <td>2016-06-04</td>\n",
       "      <td>SOUTH EAST ASIA</td>\n",
       "      <td>MALAYSIA</td>\n",
       "      <td>PRODUCT TANKER</td>\n",
       "      <td>0</td>\n",
       "      <td>OFF SHORE</td>\n",
       "      <td>NIGHT</td>\n",
       "      <td>0</td>\n",
       "    </tr>\n",
       "    <tr>\n",
       "      <th>798</th>\n",
       "      <td>2016-06-03</td>\n",
       "      <td>WEST AFRICA</td>\n",
       "      <td>NIGERIA</td>\n",
       "      <td>OTHER</td>\n",
       "      <td>0</td>\n",
       "      <td>OFF SHORE</td>\n",
       "      <td>NIGHT</td>\n",
       "      <td>1</td>\n",
       "    </tr>\n",
       "    <tr>\n",
       "      <th>799</th>\n",
       "      <td>2016-06-02</td>\n",
       "      <td>SOUTH EAST ASIA</td>\n",
       "      <td>MALAYSIA</td>\n",
       "      <td>OTHER</td>\n",
       "      <td>0</td>\n",
       "      <td>OFF SHORE</td>\n",
       "      <td>NIGHT</td>\n",
       "      <td>1</td>\n",
       "    </tr>\n",
       "    <tr>\n",
       "      <th>800</th>\n",
       "      <td>2016-06-01</td>\n",
       "      <td>WEST AFRICA</td>\n",
       "      <td>NIGERIA</td>\n",
       "      <td>OTHER</td>\n",
       "      <td>0</td>\n",
       "      <td>OFF SHORE</td>\n",
       "      <td>EVENING</td>\n",
       "      <td>1</td>\n",
       "    </tr>\n",
       "    <tr>\n",
       "      <th>801</th>\n",
       "      <td>2016-06-01</td>\n",
       "      <td>WEST AFRICA</td>\n",
       "      <td>NIGERIA</td>\n",
       "      <td>OTHER</td>\n",
       "      <td>0</td>\n",
       "      <td>OFF SHORE</td>\n",
       "      <td>MORNING</td>\n",
       "      <td>1</td>\n",
       "    </tr>\n",
       "  </tbody>\n",
       "</table>\n",
       "<p>802 rows × 8 columns</p>\n",
       "</div>"
      ],
      "text/plain": [
       "     DATE (UTC)                        REGION    COUNTRY     VESSEL TYPE  \\\n",
       "0    2016-01-30                   WEST AFRICA    NIGERIA  CONTAINER SHIP   \n",
       "1    2016-01-29                   WEST AFRICA    NIGERIA  PRODUCT TANKER   \n",
       "2    2016-01-28                    SOUTH ASIA      INDIA  PRODUCT TANKER   \n",
       "3    2016-01-27  HORN OF AFRICA/ GULF OF ADEN    SOMALIA           OTHER   \n",
       "4    2016-01-25                 SOUTH AMERICA  VENEZUELA           OTHER   \n",
       "..          ...                           ...        ...             ...   \n",
       "797  2016-06-04               SOUTH EAST ASIA   MALAYSIA  PRODUCT TANKER   \n",
       "798  2016-06-03                   WEST AFRICA    NIGERIA           OTHER   \n",
       "799  2016-06-02               SOUTH EAST ASIA   MALAYSIA           OTHER   \n",
       "800  2016-06-01                   WEST AFRICA    NIGERIA           OTHER   \n",
       "801  2016-06-01                   WEST AFRICA    NIGERIA           OTHER   \n",
       "\n",
       "     MAERSK? VESSEL ACTIVITY LOCATION TIME OF DAY  ATTACK SUCCESS  \n",
       "0          0                OFF SHORE     EVENING               0  \n",
       "1          0                OFF SHORE     EVENING               1  \n",
       "2          0                ANCHORAGE       NIGHT               0  \n",
       "3          0                OFF SHORE       NIGHT               0  \n",
       "4          0                ANCHORAGE     EVENING               1  \n",
       "..       ...                      ...         ...             ...  \n",
       "797        0                OFF SHORE       NIGHT               0  \n",
       "798        0                OFF SHORE       NIGHT               1  \n",
       "799        0                OFF SHORE       NIGHT               1  \n",
       "800        0                OFF SHORE     EVENING               1  \n",
       "801        0                OFF SHORE     MORNING               1  \n",
       "\n",
       "[802 rows x 8 columns]"
      ]
     },
     "execution_count": 148,
     "metadata": {},
     "output_type": "execute_result"
    }
   ],
   "source": [
    "data"
   ]
  },
  {
   "cell_type": "code",
   "execution_count": null,
   "metadata": {},
   "outputs": [],
   "source": [
    "#pipeline\n",
    "#The numeric data is standard-scaled\n",
    "#numeric_transformer = Pipeline(steps=[('scaler', MinMaxScaler())])\n",
    "#\n",
    "#while the categorical data is one-hot encoded\n",
    "#categorical_transformer = Pipeline(steps=[('onehot', OneHotEncoder(handle_unknown='ignore'))])\n",
    "\n",
    "#preprocessor = ColumnTransformer(\n",
    "#    transformers=[\n",
    "#        ('num', numeric_transformer, numeric_features),\n",
    "#        ('cat', categorical_transformer, categorical_features)])"
   ]
  },
  {
   "cell_type": "code",
   "execution_count": 152,
   "metadata": {},
   "outputs": [],
   "source": [
    "data['DATE (UTC)'] = pd.to_datetime(data['DATE (UTC)'])"
   ]
  },
  {
   "cell_type": "code",
   "execution_count": 160,
   "metadata": {},
   "outputs": [],
   "source": [
    "data['MONTH'] = data['DATE (UTC)'].apply(lambda x: x.month)\n"
   ]
  },
  {
   "cell_type": "code",
   "execution_count": 162,
   "metadata": {},
   "outputs": [
    {
     "data": {
      "text/html": [
       "<div>\n",
       "<style scoped>\n",
       "    .dataframe tbody tr th:only-of-type {\n",
       "        vertical-align: middle;\n",
       "    }\n",
       "\n",
       "    .dataframe tbody tr th {\n",
       "        vertical-align: top;\n",
       "    }\n",
       "\n",
       "    .dataframe thead th {\n",
       "        text-align: right;\n",
       "    }\n",
       "</style>\n",
       "<table border=\"1\" class=\"dataframe\">\n",
       "  <thead>\n",
       "    <tr style=\"text-align: right;\">\n",
       "      <th></th>\n",
       "      <th>DATE (UTC)</th>\n",
       "      <th>REGION</th>\n",
       "      <th>COUNTRY</th>\n",
       "      <th>VESSEL TYPE</th>\n",
       "      <th>MAERSK?</th>\n",
       "      <th>VESSEL ACTIVITY LOCATION</th>\n",
       "      <th>TIME OF DAY</th>\n",
       "      <th>ATTACK SUCCESS</th>\n",
       "      <th>MONTH</th>\n",
       "    </tr>\n",
       "  </thead>\n",
       "  <tbody>\n",
       "    <tr>\n",
       "      <th>0</th>\n",
       "      <td>2016-01-30</td>\n",
       "      <td>WEST AFRICA</td>\n",
       "      <td>NIGERIA</td>\n",
       "      <td>CONTAINER SHIP</td>\n",
       "      <td>0</td>\n",
       "      <td>OFF SHORE</td>\n",
       "      <td>EVENING</td>\n",
       "      <td>0</td>\n",
       "      <td>1</td>\n",
       "    </tr>\n",
       "    <tr>\n",
       "      <th>1</th>\n",
       "      <td>2016-01-29</td>\n",
       "      <td>WEST AFRICA</td>\n",
       "      <td>NIGERIA</td>\n",
       "      <td>PRODUCT TANKER</td>\n",
       "      <td>0</td>\n",
       "      <td>OFF SHORE</td>\n",
       "      <td>EVENING</td>\n",
       "      <td>1</td>\n",
       "      <td>1</td>\n",
       "    </tr>\n",
       "    <tr>\n",
       "      <th>2</th>\n",
       "      <td>2016-01-28</td>\n",
       "      <td>SOUTH ASIA</td>\n",
       "      <td>INDIA</td>\n",
       "      <td>PRODUCT TANKER</td>\n",
       "      <td>0</td>\n",
       "      <td>ANCHORAGE</td>\n",
       "      <td>NIGHT</td>\n",
       "      <td>0</td>\n",
       "      <td>1</td>\n",
       "    </tr>\n",
       "    <tr>\n",
       "      <th>3</th>\n",
       "      <td>2016-01-27</td>\n",
       "      <td>HORN OF AFRICA/ GULF OF ADEN</td>\n",
       "      <td>SOMALIA</td>\n",
       "      <td>OTHER</td>\n",
       "      <td>0</td>\n",
       "      <td>OFF SHORE</td>\n",
       "      <td>NIGHT</td>\n",
       "      <td>0</td>\n",
       "      <td>1</td>\n",
       "    </tr>\n",
       "    <tr>\n",
       "      <th>4</th>\n",
       "      <td>2016-01-25</td>\n",
       "      <td>SOUTH AMERICA</td>\n",
       "      <td>VENEZUELA</td>\n",
       "      <td>OTHER</td>\n",
       "      <td>0</td>\n",
       "      <td>ANCHORAGE</td>\n",
       "      <td>EVENING</td>\n",
       "      <td>1</td>\n",
       "      <td>1</td>\n",
       "    </tr>\n",
       "  </tbody>\n",
       "</table>\n",
       "</div>"
      ],
      "text/plain": [
       "  DATE (UTC)                        REGION    COUNTRY     VESSEL TYPE  \\\n",
       "0 2016-01-30                   WEST AFRICA    NIGERIA  CONTAINER SHIP   \n",
       "1 2016-01-29                   WEST AFRICA    NIGERIA  PRODUCT TANKER   \n",
       "2 2016-01-28                    SOUTH ASIA      INDIA  PRODUCT TANKER   \n",
       "3 2016-01-27  HORN OF AFRICA/ GULF OF ADEN    SOMALIA           OTHER   \n",
       "4 2016-01-25                 SOUTH AMERICA  VENEZUELA           OTHER   \n",
       "\n",
       "   MAERSK? VESSEL ACTIVITY LOCATION TIME OF DAY  ATTACK SUCCESS  MONTH  \n",
       "0        0                OFF SHORE     EVENING               0      1  \n",
       "1        0                OFF SHORE     EVENING               1      1  \n",
       "2        0                ANCHORAGE       NIGHT               0      1  \n",
       "3        0                OFF SHORE       NIGHT               0      1  \n",
       "4        0                ANCHORAGE     EVENING               1      1  "
      ]
     },
     "execution_count": 162,
     "metadata": {},
     "output_type": "execute_result"
    }
   ],
   "source": [
    "data.head()"
   ]
  },
  {
   "cell_type": "code",
   "execution_count": 163,
   "metadata": {},
   "outputs": [],
   "source": [
    "data = data.drop(columns=['DATE (UTC)'])"
   ]
  },
  {
   "cell_type": "code",
   "execution_count": 164,
   "metadata": {},
   "outputs": [
    {
     "data": {
      "text/html": [
       "<div>\n",
       "<style scoped>\n",
       "    .dataframe tbody tr th:only-of-type {\n",
       "        vertical-align: middle;\n",
       "    }\n",
       "\n",
       "    .dataframe tbody tr th {\n",
       "        vertical-align: top;\n",
       "    }\n",
       "\n",
       "    .dataframe thead th {\n",
       "        text-align: right;\n",
       "    }\n",
       "</style>\n",
       "<table border=\"1\" class=\"dataframe\">\n",
       "  <thead>\n",
       "    <tr style=\"text-align: right;\">\n",
       "      <th></th>\n",
       "      <th>REGION</th>\n",
       "      <th>COUNTRY</th>\n",
       "      <th>VESSEL TYPE</th>\n",
       "      <th>MAERSK?</th>\n",
       "      <th>VESSEL ACTIVITY LOCATION</th>\n",
       "      <th>TIME OF DAY</th>\n",
       "      <th>ATTACK SUCCESS</th>\n",
       "      <th>MONTH</th>\n",
       "    </tr>\n",
       "  </thead>\n",
       "  <tbody>\n",
       "    <tr>\n",
       "      <th>0</th>\n",
       "      <td>WEST AFRICA</td>\n",
       "      <td>NIGERIA</td>\n",
       "      <td>CONTAINER SHIP</td>\n",
       "      <td>0</td>\n",
       "      <td>OFF SHORE</td>\n",
       "      <td>EVENING</td>\n",
       "      <td>0</td>\n",
       "      <td>1</td>\n",
       "    </tr>\n",
       "    <tr>\n",
       "      <th>1</th>\n",
       "      <td>WEST AFRICA</td>\n",
       "      <td>NIGERIA</td>\n",
       "      <td>PRODUCT TANKER</td>\n",
       "      <td>0</td>\n",
       "      <td>OFF SHORE</td>\n",
       "      <td>EVENING</td>\n",
       "      <td>1</td>\n",
       "      <td>1</td>\n",
       "    </tr>\n",
       "    <tr>\n",
       "      <th>2</th>\n",
       "      <td>SOUTH ASIA</td>\n",
       "      <td>INDIA</td>\n",
       "      <td>PRODUCT TANKER</td>\n",
       "      <td>0</td>\n",
       "      <td>ANCHORAGE</td>\n",
       "      <td>NIGHT</td>\n",
       "      <td>0</td>\n",
       "      <td>1</td>\n",
       "    </tr>\n",
       "    <tr>\n",
       "      <th>3</th>\n",
       "      <td>HORN OF AFRICA/ GULF OF ADEN</td>\n",
       "      <td>SOMALIA</td>\n",
       "      <td>OTHER</td>\n",
       "      <td>0</td>\n",
       "      <td>OFF SHORE</td>\n",
       "      <td>NIGHT</td>\n",
       "      <td>0</td>\n",
       "      <td>1</td>\n",
       "    </tr>\n",
       "    <tr>\n",
       "      <th>4</th>\n",
       "      <td>SOUTH AMERICA</td>\n",
       "      <td>VENEZUELA</td>\n",
       "      <td>OTHER</td>\n",
       "      <td>0</td>\n",
       "      <td>ANCHORAGE</td>\n",
       "      <td>EVENING</td>\n",
       "      <td>1</td>\n",
       "      <td>1</td>\n",
       "    </tr>\n",
       "  </tbody>\n",
       "</table>\n",
       "</div>"
      ],
      "text/plain": [
       "                         REGION    COUNTRY     VESSEL TYPE  MAERSK?  \\\n",
       "0                   WEST AFRICA    NIGERIA  CONTAINER SHIP        0   \n",
       "1                   WEST AFRICA    NIGERIA  PRODUCT TANKER        0   \n",
       "2                    SOUTH ASIA      INDIA  PRODUCT TANKER        0   \n",
       "3  HORN OF AFRICA/ GULF OF ADEN    SOMALIA           OTHER        0   \n",
       "4                 SOUTH AMERICA  VENEZUELA           OTHER        0   \n",
       "\n",
       "  VESSEL ACTIVITY LOCATION TIME OF DAY  ATTACK SUCCESS  MONTH  \n",
       "0                OFF SHORE     EVENING               0      1  \n",
       "1                OFF SHORE     EVENING               1      1  \n",
       "2                ANCHORAGE       NIGHT               0      1  \n",
       "3                OFF SHORE       NIGHT               0      1  \n",
       "4                ANCHORAGE     EVENING               1      1  "
      ]
     },
     "execution_count": 164,
     "metadata": {},
     "output_type": "execute_result"
    }
   ],
   "source": [
    "data.head()"
   ]
  },
  {
   "cell_type": "code",
   "execution_count": 165,
   "metadata": {},
   "outputs": [],
   "source": [
    "cat_columns = [\"REGION\", \"COUNTRY\",'VESSEL TYPE',\"VESSEL ACTIVITY LOCATION\",\"TIME OF DAY\"]"
   ]
  },
  {
   "cell_type": "code",
   "execution_count": 166,
   "metadata": {},
   "outputs": [],
   "source": [
    "#datap is processed data\n",
    "datap = pd.get_dummies(data, prefix_sep=\"_\",\n",
    "                              columns=cat_columns)"
   ]
  },
  {
   "cell_type": "code",
   "execution_count": 170,
   "metadata": {},
   "outputs": [
    {
     "data": {
      "text/html": [
       "<div>\n",
       "<style scoped>\n",
       "    .dataframe tbody tr th:only-of-type {\n",
       "        vertical-align: middle;\n",
       "    }\n",
       "\n",
       "    .dataframe tbody tr th {\n",
       "        vertical-align: top;\n",
       "    }\n",
       "\n",
       "    .dataframe thead th {\n",
       "        text-align: right;\n",
       "    }\n",
       "</style>\n",
       "<table border=\"1\" class=\"dataframe\">\n",
       "  <thead>\n",
       "    <tr style=\"text-align: right;\">\n",
       "      <th></th>\n",
       "      <th>MAERSK?</th>\n",
       "      <th>ATTACK SUCCESS</th>\n",
       "      <th>MONTH</th>\n",
       "      <th>REGION_CARIBBEAN</th>\n",
       "      <th>REGION_EAST AFRICA</th>\n",
       "      <th>REGION_EUROPE</th>\n",
       "      <th>REGION_HORN OF AFRICA/ GULF OF ADEN</th>\n",
       "      <th>REGION_MIDDLE EAST</th>\n",
       "      <th>REGION_NORTH AFRICA</th>\n",
       "      <th>REGION_NORTH AMERICA</th>\n",
       "      <th>...</th>\n",
       "      <th>VESSEL TYPE_CONTAINER SHIP</th>\n",
       "      <th>VESSEL TYPE_OTHER</th>\n",
       "      <th>VESSEL TYPE_PRODUCT TANKER</th>\n",
       "      <th>VESSEL ACTIVITY LOCATION_ANCHORAGE</th>\n",
       "      <th>VESSEL ACTIVITY LOCATION_BERTH</th>\n",
       "      <th>VESSEL ACTIVITY LOCATION_OFF SHORE</th>\n",
       "      <th>TIME OF DAY_AFTERNOON</th>\n",
       "      <th>TIME OF DAY_EVENING</th>\n",
       "      <th>TIME OF DAY_MORNING</th>\n",
       "      <th>TIME OF DAY_NIGHT</th>\n",
       "    </tr>\n",
       "  </thead>\n",
       "  <tbody>\n",
       "    <tr>\n",
       "      <th>0</th>\n",
       "      <td>0</td>\n",
       "      <td>0</td>\n",
       "      <td>1</td>\n",
       "      <td>0</td>\n",
       "      <td>0</td>\n",
       "      <td>0</td>\n",
       "      <td>0</td>\n",
       "      <td>0</td>\n",
       "      <td>0</td>\n",
       "      <td>0</td>\n",
       "      <td>...</td>\n",
       "      <td>1</td>\n",
       "      <td>0</td>\n",
       "      <td>0</td>\n",
       "      <td>0</td>\n",
       "      <td>0</td>\n",
       "      <td>1</td>\n",
       "      <td>0</td>\n",
       "      <td>1</td>\n",
       "      <td>0</td>\n",
       "      <td>0</td>\n",
       "    </tr>\n",
       "    <tr>\n",
       "      <th>1</th>\n",
       "      <td>0</td>\n",
       "      <td>1</td>\n",
       "      <td>1</td>\n",
       "      <td>0</td>\n",
       "      <td>0</td>\n",
       "      <td>0</td>\n",
       "      <td>0</td>\n",
       "      <td>0</td>\n",
       "      <td>0</td>\n",
       "      <td>0</td>\n",
       "      <td>...</td>\n",
       "      <td>0</td>\n",
       "      <td>0</td>\n",
       "      <td>1</td>\n",
       "      <td>0</td>\n",
       "      <td>0</td>\n",
       "      <td>1</td>\n",
       "      <td>0</td>\n",
       "      <td>1</td>\n",
       "      <td>0</td>\n",
       "      <td>0</td>\n",
       "    </tr>\n",
       "    <tr>\n",
       "      <th>2</th>\n",
       "      <td>0</td>\n",
       "      <td>0</td>\n",
       "      <td>1</td>\n",
       "      <td>0</td>\n",
       "      <td>0</td>\n",
       "      <td>0</td>\n",
       "      <td>0</td>\n",
       "      <td>0</td>\n",
       "      <td>0</td>\n",
       "      <td>0</td>\n",
       "      <td>...</td>\n",
       "      <td>0</td>\n",
       "      <td>0</td>\n",
       "      <td>1</td>\n",
       "      <td>1</td>\n",
       "      <td>0</td>\n",
       "      <td>0</td>\n",
       "      <td>0</td>\n",
       "      <td>0</td>\n",
       "      <td>0</td>\n",
       "      <td>1</td>\n",
       "    </tr>\n",
       "    <tr>\n",
       "      <th>3</th>\n",
       "      <td>0</td>\n",
       "      <td>0</td>\n",
       "      <td>1</td>\n",
       "      <td>0</td>\n",
       "      <td>0</td>\n",
       "      <td>0</td>\n",
       "      <td>1</td>\n",
       "      <td>0</td>\n",
       "      <td>0</td>\n",
       "      <td>0</td>\n",
       "      <td>...</td>\n",
       "      <td>0</td>\n",
       "      <td>1</td>\n",
       "      <td>0</td>\n",
       "      <td>0</td>\n",
       "      <td>0</td>\n",
       "      <td>1</td>\n",
       "      <td>0</td>\n",
       "      <td>0</td>\n",
       "      <td>0</td>\n",
       "      <td>1</td>\n",
       "    </tr>\n",
       "    <tr>\n",
       "      <th>4</th>\n",
       "      <td>0</td>\n",
       "      <td>1</td>\n",
       "      <td>1</td>\n",
       "      <td>0</td>\n",
       "      <td>0</td>\n",
       "      <td>0</td>\n",
       "      <td>0</td>\n",
       "      <td>0</td>\n",
       "      <td>0</td>\n",
       "      <td>0</td>\n",
       "      <td>...</td>\n",
       "      <td>0</td>\n",
       "      <td>1</td>\n",
       "      <td>0</td>\n",
       "      <td>1</td>\n",
       "      <td>0</td>\n",
       "      <td>0</td>\n",
       "      <td>0</td>\n",
       "      <td>1</td>\n",
       "      <td>0</td>\n",
       "      <td>0</td>\n",
       "    </tr>\n",
       "  </tbody>\n",
       "</table>\n",
       "<p>5 rows × 82 columns</p>\n",
       "</div>"
      ],
      "text/plain": [
       "   MAERSK?  ATTACK SUCCESS  MONTH  REGION_CARIBBEAN  REGION_EAST AFRICA  \\\n",
       "0        0               0      1                 0                   0   \n",
       "1        0               1      1                 0                   0   \n",
       "2        0               0      1                 0                   0   \n",
       "3        0               0      1                 0                   0   \n",
       "4        0               1      1                 0                   0   \n",
       "\n",
       "   REGION_EUROPE  REGION_HORN OF AFRICA/ GULF OF ADEN  REGION_MIDDLE EAST  \\\n",
       "0              0                                    0                   0   \n",
       "1              0                                    0                   0   \n",
       "2              0                                    0                   0   \n",
       "3              0                                    1                   0   \n",
       "4              0                                    0                   0   \n",
       "\n",
       "   REGION_NORTH AFRICA  REGION_NORTH AMERICA  ...  VESSEL TYPE_CONTAINER SHIP  \\\n",
       "0                    0                     0  ...                           1   \n",
       "1                    0                     0  ...                           0   \n",
       "2                    0                     0  ...                           0   \n",
       "3                    0                     0  ...                           0   \n",
       "4                    0                     0  ...                           0   \n",
       "\n",
       "   VESSEL TYPE_OTHER  VESSEL TYPE_PRODUCT TANKER  \\\n",
       "0                  0                           0   \n",
       "1                  0                           1   \n",
       "2                  0                           1   \n",
       "3                  1                           0   \n",
       "4                  1                           0   \n",
       "\n",
       "   VESSEL ACTIVITY LOCATION_ANCHORAGE  VESSEL ACTIVITY LOCATION_BERTH  \\\n",
       "0                                   0                               0   \n",
       "1                                   0                               0   \n",
       "2                                   1                               0   \n",
       "3                                   0                               0   \n",
       "4                                   1                               0   \n",
       "\n",
       "   VESSEL ACTIVITY LOCATION_OFF SHORE  TIME OF DAY_AFTERNOON  \\\n",
       "0                                   1                      0   \n",
       "1                                   1                      0   \n",
       "2                                   0                      0   \n",
       "3                                   1                      0   \n",
       "4                                   0                      0   \n",
       "\n",
       "   TIME OF DAY_EVENING  TIME OF DAY_MORNING  TIME OF DAY_NIGHT  \n",
       "0                    1                    0                  0  \n",
       "1                    1                    0                  0  \n",
       "2                    0                    0                  1  \n",
       "3                    0                    0                  1  \n",
       "4                    1                    0                  0  \n",
       "\n",
       "[5 rows x 82 columns]"
      ]
     },
     "execution_count": 170,
     "metadata": {},
     "output_type": "execute_result"
    }
   ],
   "source": [
    "datap.head()"
   ]
  },
  {
   "cell_type": "markdown",
   "metadata": {},
   "source": [
    "### Use KNN, Naive Bayes and SVM on the ‘Pirate Attacks’ dataset to predict pirate attack success"
   ]
  },
  {
   "cell_type": "code",
   "execution_count": 190,
   "metadata": {},
   "outputs": [],
   "source": [
    "X = datap.loc[:, datap.columns != 'ATTACK SUCCESS']"
   ]
  },
  {
   "cell_type": "code",
   "execution_count": 191,
   "metadata": {},
   "outputs": [],
   "source": [
    "y =datap['ATTACK SUCCESS'].values"
   ]
  },
  {
   "cell_type": "code",
   "execution_count": 202,
   "metadata": {},
   "outputs": [
    {
     "name": "stdout",
     "output_type": "stream",
     "text": [
      "(641, 81) (641,)\n",
      "(161, 81) (161,)\n"
     ]
    }
   ],
   "source": [
    "# create training and testing data sets which we will use later after we select a model from k-1 cross validation\n",
    "X_train, X_test, y_train, y_test = train_test_split(X, y, test_size=0.2)\n",
    "print(X_train.shape, y_train.shape)\n",
    "print (X_test.shape, y_test.shape)"
   ]
  },
  {
   "cell_type": "code",
   "execution_count": 203,
   "metadata": {},
   "outputs": [],
   "source": [
    "#we will apply a scaler to our new data set, since some coefficients have high numbers relative to others which are\n",
    "#logistical and have only a 1 or 0. Specifically, we will use the MinMax scaling option: (X-Xmin/Xmax - Xmin)\n",
    "#\n",
    "scaler = MinMaxScaler()\n",
    "X_train_sc = scaler.fit_transform(X_train)\n",
    "X_train_sc = pd.DataFrame(X_train_sc, columns = X_train.columns)\n",
    "X_test_sc = scaler.transform(X_test)\n",
    "X_test_sc = pd.DataFrame(X_test_sc, columns = X_test.columns)"
   ]
  },
  {
   "cell_type": "markdown",
   "metadata": {},
   "source": [
    "### KNN model"
   ]
  },
  {
   "cell_type": "code",
   "execution_count": 204,
   "metadata": {},
   "outputs": [
    {
     "data": {
      "text/plain": [
       "KNeighborsClassifier(algorithm='auto', leaf_size=30, metric='minkowski',\n",
       "                     metric_params=None, n_jobs=None, n_neighbors=3, p=2,\n",
       "                     weights='uniform')"
      ]
     },
     "execution_count": 204,
     "metadata": {},
     "output_type": "execute_result"
    }
   ],
   "source": [
    "# fit a KNN Classifier model then apply it within a k-1 cross validation set, split into 5 parts\n",
    "\n",
    "knn = KNeighborsClassifier(n_neighbors = 3)\n",
    "cv_knn = cross_val_score(estimator = knn, X=X_train_sc, y=y_train.ravel(),cv=5)\n",
    "\n",
    "# Fit the classifier to the data\n",
    "knn.fit(X_train_sc,y_train)"
   ]
  },
  {
   "cell_type": "code",
   "execution_count": 205,
   "metadata": {},
   "outputs": [
    {
     "data": {
      "text/plain": [
       "0.5652173913043478"
      ]
     },
     "execution_count": 205,
     "metadata": {},
     "output_type": "execute_result"
    }
   ],
   "source": [
    "#check accuracy of our model on the test data and confirm it's working\n",
    "knn.score(X_test, y_test)"
   ]
  },
  {
   "cell_type": "code",
   "execution_count": 206,
   "metadata": {},
   "outputs": [
    {
     "data": {
      "text/html": [
       "<div>\n",
       "<style scoped>\n",
       "    .dataframe tbody tr th:only-of-type {\n",
       "        vertical-align: middle;\n",
       "    }\n",
       "\n",
       "    .dataframe tbody tr th {\n",
       "        vertical-align: top;\n",
       "    }\n",
       "\n",
       "    .dataframe thead th {\n",
       "        text-align: right;\n",
       "    }\n",
       "</style>\n",
       "<table border=\"1\" class=\"dataframe\">\n",
       "  <thead>\n",
       "    <tr style=\"text-align: right;\">\n",
       "      <th></th>\n",
       "      <th>neighbours</th>\n",
       "      <th>Mean</th>\n",
       "    </tr>\n",
       "  </thead>\n",
       "  <tbody>\n",
       "    <tr>\n",
       "      <th>0</th>\n",
       "      <td>3</td>\n",
       "      <td>0.61317</td>\n",
       "    </tr>\n",
       "    <tr>\n",
       "      <th>1</th>\n",
       "      <td>6</td>\n",
       "      <td>0.61317</td>\n",
       "    </tr>\n",
       "    <tr>\n",
       "      <th>2</th>\n",
       "      <td>10</td>\n",
       "      <td>0.61317</td>\n",
       "    </tr>\n",
       "  </tbody>\n",
       "</table>\n",
       "</div>"
      ],
      "text/plain": [
       "   neighbours     Mean\n",
       "0           3  0.61317\n",
       "1           6  0.61317\n",
       "2          10  0.61317"
      ]
     },
     "execution_count": 206,
     "metadata": {},
     "output_type": "execute_result"
    }
   ],
   "source": [
    "#creating a loop for KNN model which records results in table\n",
    "# we change the C paramter, which influences the effect that the penalty function has\n",
    "neighbr=[3,6,10]\n",
    "model_scores = pd.DataFrame(columns = ['neighbours', 'Mean'])\n",
    "\n",
    "model_scores['neighbours'] = neighbr \n",
    "for i in neighbr:\n",
    "    knn = KNeighborsClassifier(n_neighbors = 3)\n",
    "    cv_knn = cross_val_score(estimator = knn, X=X_train_sc, y=y_train.ravel(),cv=5)\n",
    "    model_scores.loc[model_scores['neighbours'] == i, \"Mean\"] = cv_knn.mean()\n",
    "    \n",
    "model_scores"
   ]
  },
  {
   "cell_type": "code",
   "execution_count": 287,
   "metadata": {},
   "outputs": [
    {
     "data": {
      "text/plain": [
       "GridSearchCV(cv=5, error_score='raise-deprecating',\n",
       "             estimator=KNeighborsClassifier(algorithm='auto', leaf_size=30,\n",
       "                                            metric='minkowski',\n",
       "                                            metric_params=None, n_jobs=None,\n",
       "                                            n_neighbors=3, p=2,\n",
       "                                            weights='uniform'),\n",
       "             iid='warn', n_jobs=None,\n",
       "             param_grid={'n_neighbors': [3, 4, 5, 6, 7, 50]},\n",
       "             pre_dispatch='2*n_jobs', refit=True, return_train_score=False,\n",
       "             scoring=None, verbose=0)"
      ]
     },
     "execution_count": 287,
     "metadata": {},
     "output_type": "execute_result"
    }
   ],
   "source": [
    "from sklearn.model_selection import GridSearchCV\n",
    "#create new a knn model\n",
    "knn2 = KNeighborsClassifier(n_neighbors = 3)\n",
    "#create a dictionary of all values we want to test for n_neighbors\n",
    "param_grid = {\"n_neighbors\": [3, 4,5,6,7,50]}\n",
    "#use gridsearch to test all values for degrees\n",
    "knn_gscv = GridSearchCV(knn2, param_grid, cv=5)\n",
    "#fit model to data\n",
    "knn_gscv.fit(X_train_sc, y_train.ravel())"
   ]
  },
  {
   "cell_type": "code",
   "execution_count": 288,
   "metadata": {},
   "outputs": [
    {
     "data": {
      "text/plain": [
       "0.6271450858034321"
      ]
     },
     "execution_count": 288,
     "metadata": {},
     "output_type": "execute_result"
    }
   ],
   "source": [
    "knn_gscv.best_score_"
   ]
  },
  {
   "cell_type": "markdown",
   "metadata": {},
   "source": [
    "### Naive Bayes model"
   ]
  },
  {
   "cell_type": "code",
   "execution_count": 258,
   "metadata": {},
   "outputs": [
    {
     "data": {
      "text/plain": [
       "BernoulliNB(alpha=1.0, binarize=0.0, class_prior=None, fit_prior=True)"
      ]
     },
     "execution_count": 258,
     "metadata": {},
     "output_type": "execute_result"
    }
   ],
   "source": [
    "from sklearn.naive_bayes import BernoulliNB\n",
    "\n",
    "bnb = BernoulliNB(binarize=0.0)\n",
    "cv_bnb = cross_val_score(estimator = bnb, X=X_train_sc, y=y_train.ravel(),cv=5)\n",
    "\n",
    "# Fit the classifier to the data\n",
    "bnb.fit(X_train_sc,y_train)\n"
   ]
  },
  {
   "cell_type": "code",
   "execution_count": 259,
   "metadata": {},
   "outputs": [
    {
     "data": {
      "text/plain": [
       "0.6149068322981367"
      ]
     },
     "execution_count": 259,
     "metadata": {},
     "output_type": "execute_result"
    }
   ],
   "source": [
    "#check accuracy of our model on the test data and confirm it's working\n",
    "bnb.score(X_test, y_test)"
   ]
  },
  {
   "cell_type": "code",
   "execution_count": 277,
   "metadata": {},
   "outputs": [
    {
     "data": {
      "text/plain": [
       "GridSearchCV(cv=5, error_score='raise-deprecating',\n",
       "             estimator=SVC(C=1.0, cache_size=200, class_weight=None, coef0=0.0,\n",
       "                           decision_function_shape='ovr', degree=3,\n",
       "                           gamma='auto', kernel='poly', max_iter=-1,\n",
       "                           probability=False, random_state=None, shrinking=True,\n",
       "                           tol=0.001, verbose=False),\n",
       "             iid='warn', n_jobs=None,\n",
       "             param_grid={'degree': [1, 2, 3, 4, 5, 6, 7, 8, 9]},\n",
       "             pre_dispatch='2*n_jobs', refit=True, return_train_score=False,\n",
       "             scoring=None, verbose=0)"
      ]
     },
     "execution_count": 277,
     "metadata": {},
     "output_type": "execute_result"
    }
   ],
   "source": [
    "from sklearn.model_selection import GridSearchCV\n",
    "#create new a knn model\n",
    "bnb2 = BernoulliNB()\n",
    "#create a dictionary of all values we want to test for n_neighbors\n",
    "param_grid = {\"degree\": [1,2,3,4,5,6,7,8,9]}\n",
    "#use gridsearch to test all values for degrees\n",
    "bnb_gscv = GridSearchCV(bnb2, param_grid, cv=5)\n",
    "#fit model to data\n",
    "bnb_gscv.fit(X_train_sc, y_train.ravel())"
   ]
  },
  {
   "cell_type": "code",
   "execution_count": 278,
   "metadata": {},
   "outputs": [
    {
     "data": {
      "text/plain": [
       "0.6271450858034321"
      ]
     },
     "execution_count": 278,
     "metadata": {},
     "output_type": "execute_result"
    }
   ],
   "source": [
    "bnb_gscv.best_score_"
   ]
  },
  {
   "cell_type": "code",
   "execution_count": 289,
   "metadata": {},
   "outputs": [
    {
     "data": {
      "text/plain": [
       "<bound method BaseEstimator.get_params of GridSearchCV(cv=5, error_score='raise-deprecating',\n",
       "             estimator=SVC(C=1.0, cache_size=200, class_weight=None, coef0=0.0,\n",
       "                           decision_function_shape='ovr', degree=3,\n",
       "                           gamma='auto', kernel='poly', max_iter=-1,\n",
       "                           probability=False, random_state=None, shrinking=True,\n",
       "                           tol=0.001, verbose=False),\n",
       "             iid='warn', n_jobs=None,\n",
       "             param_grid={'degree': [1, 2, 3, 4, 5, 6, 7, 8, 9]},\n",
       "             pre_dispatch='2*n_jobs', refit=True, return_train_score=False,\n",
       "             scoring=None, verbose=0)>"
      ]
     },
     "execution_count": 289,
     "metadata": {},
     "output_type": "execute_result"
    }
   ],
   "source": [
    "bnb_gscv.get_params"
   ]
  },
  {
   "cell_type": "markdown",
   "metadata": {},
   "source": [
    "### SVM Model"
   ]
  },
  {
   "cell_type": "code",
   "execution_count": 255,
   "metadata": {},
   "outputs": [
    {
     "data": {
      "text/plain": [
       "SVC(C=1.0, cache_size=200, class_weight=None, coef0=0.0,\n",
       "    decision_function_shape='ovr', degree=8, gamma='auto', kernel='poly',\n",
       "    max_iter=-1, probability=False, random_state=None, shrinking=True,\n",
       "    tol=0.001, verbose=False)"
      ]
     },
     "execution_count": 255,
     "metadata": {},
     "output_type": "execute_result"
    }
   ],
   "source": [
    "from sklearn.svm import SVC\n",
    "\n",
    "svc = SVC(kernel='poly', degree=8, gamma='auto')\n",
    "cv_svc = cross_val_score(estimator = svc, X=X_train_sc, y=y_train.ravel(),cv=5)\n",
    "\n",
    "# Fit the classifier to the data\n",
    "svc.fit(X_train_sc,y_train)\n"
   ]
  },
  {
   "cell_type": "code",
   "execution_count": 256,
   "metadata": {},
   "outputs": [
    {
     "data": {
      "text/plain": [
       "0.6086956521739131"
      ]
     },
     "execution_count": 256,
     "metadata": {},
     "output_type": "execute_result"
    }
   ],
   "source": [
    "#check accuracy of our model on the test data and confirm it's working\n",
    "svc.score(X_test, y_test)"
   ]
  },
  {
   "cell_type": "code",
   "execution_count": 322,
   "metadata": {},
   "outputs": [
    {
     "data": {
      "text/plain": [
       "GridSearchCV(cv=5, error_score='raise-deprecating',\n",
       "             estimator=SVC(C=1.0, cache_size=200, class_weight=None, coef0=0.0,\n",
       "                           decision_function_shape='ovr', degree=3,\n",
       "                           gamma='auto', kernel='poly', max_iter=-1,\n",
       "                           probability=True, random_state=None, shrinking=True,\n",
       "                           tol=0.001, verbose=False),\n",
       "             iid='warn', n_jobs=None, param_grid={'degree': [1, 2, 3, 4, 5]},\n",
       "             pre_dispatch='2*n_jobs', refit=True, return_train_score=False,\n",
       "             scoring=None, verbose=0)"
      ]
     },
     "execution_count": 322,
     "metadata": {},
     "output_type": "execute_result"
    }
   ],
   "source": [
    "from sklearn.model_selection import GridSearchCV\n",
    "#create new a knn model\n",
    "svc2 = SVC(kernel='poly', gamma='auto',probability=True)\n",
    "#create a dictionary of all values we want to test for n_neighbors\n",
    "param_grid = {\"degree\": [1, 2,3,4,5]}\n",
    "#use gridsearch to test all values for degrees\n",
    "svc_gscv = GridSearchCV(svc2, param_grid, cv=5)\n",
    "#fit model to data\n",
    "svc_gscv.fit(X_train_sc, y_train.ravel())"
   ]
  },
  {
   "cell_type": "code",
   "execution_count": 323,
   "metadata": {},
   "outputs": [
    {
     "data": {
      "text/plain": [
       "0.6271450858034321"
      ]
     },
     "execution_count": 323,
     "metadata": {},
     "output_type": "execute_result"
    }
   ],
   "source": [
    "svc_gscv.best_score_"
   ]
  },
  {
   "cell_type": "code",
   "execution_count": 324,
   "metadata": {},
   "outputs": [
    {
     "data": {
      "text/plain": [
       "SVC(C=1.0, cache_size=200, class_weight=None, coef0=0.0,\n",
       "    decision_function_shape='ovr', degree=1, gamma='auto', kernel='poly',\n",
       "    max_iter=-1, probability=True, random_state=None, shrinking=True, tol=0.001,\n",
       "    verbose=False)"
      ]
     },
     "execution_count": 324,
     "metadata": {},
     "output_type": "execute_result"
    }
   ],
   "source": [
    "svc_gscv.best_estimator_"
   ]
  },
  {
   "cell_type": "markdown",
   "metadata": {},
   "source": [
    "### Applying our best model to the Train Data Set and not the K-1 CV set"
   ]
  },
  {
   "cell_type": "code",
   "execution_count": 325,
   "metadata": {},
   "outputs": [],
   "source": [
    "bnb3 = svc_gscv.best_estimator_ #SVC(kernel='poly', gamma='auto', degree=10, probability=True)\n",
    "\n",
    "bnb3.fit(X_train, y_train)\n",
    "\n",
    "y_pred = bnb3.predict_proba(X_test)\n",
    "\n"
   ]
  },
  {
   "cell_type": "code",
   "execution_count": 326,
   "metadata": {},
   "outputs": [
    {
     "data": {
      "image/png": "[encoded data removed]",
      "text/plain": [
       "<Figure size 432x288 with 1 Axes>"
      ]
     },
     "metadata": {
      "needs_background": "light"
     },
     "output_type": "display_data"
    }
   ],
   "source": [
    "from sklearn.metrics import roc_auc_score\n",
    "from sklearn.metrics import roc_curve\n",
    "bayes_roc_auc = roc_auc_score(y_test, bnb3.predict_proba(X_test)[:,1])\n",
    "fpr, tpr, thresholds = roc_curve(y_test, bnb3.predict_proba(X_test)[:,1])\n",
    "plt.figure()\n",
    "plt.plot(fpr, tpr, label='Logistic Regression (area = %0.2f)' % bayes_roc_auc)\n",
    "plt.plot([0, 1], [0, 1],'r--')\n",
    "plt.xlim([0.0, 1.0])\n",
    "plt.ylim([0.0, 1.05])\n",
    "plt.xlabel('False Positive Rate')\n",
    "plt.ylabel('True Positive Rate')\n",
    "plt.title('Receiver operating characteristic')\n",
    "plt.legend(loc=\"lower right\")\n",
    "plt.savefig('Log_ROC')\n",
    "plt.show()"
   ]
  },
  {
   "cell_type": "code",
   "execution_count": 327,
   "metadata": {},
   "outputs": [
    {
     "data": {
      "text/plain": [
       "([array([  0., 149.,   5.,   0.,   0.,   0.,   0.,   6.,   0.,   1.]),\n",
       "  array([  1.,   0.,   6.,   0.,   0.,   0.,   0.,   5., 149.,   0.])],\n",
       " array([0.29012188, 0.33209751, 0.37407313, 0.41604875, 0.45802438,\n",
       "        0.5       , 0.54197562, 0.58395125, 0.62592687, 0.66790249,\n",
       "        0.70987812]),\n",
       " <a list of 2 Lists of Patches objects>)"
      ]
     },
     "execution_count": 327,
     "metadata": {},
     "output_type": "execute_result"
    },
    {
     "data": {
      "image/png": "[encoded data removed]",
      "text/plain": [
       "<Figure size 432x288 with 1 Axes>"
      ]
     },
     "metadata": {
      "needs_background": "light"
     },
     "output_type": "display_data"
    }
   ],
   "source": [
    "plt.hist(bnb3.predict_proba(X_test))"
   ]
  },
  {
   "cell_type": "code",
   "execution_count": null,
   "metadata": {},
   "outputs": [],
   "source": []
  },
  {
   "cell_type": "code",
   "execution_count": null,
   "metadata": {},
   "outputs": [],
   "source": []
  }
 ],
 "metadata": {
  "kernelspec": {
   "display_name": "Python 3",
   "language": "python",
   "name": "python3"
  },
  "language_info": {
   "codemirror_mode": {
    "name": "ipython",
    "version": 3
   },
   "file_extension": ".py",
   "mimetype": "text/x-python",
   "name": "python",
   "nbconvert_exporter": "python",
   "pygments_lexer": "ipython3",
   "version": "3.7.3"
  }
 },
 "nbformat": 4,
 "nbformat_minor": 2
}
