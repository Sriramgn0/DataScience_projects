{
 "cells": [
  {
   "cell_type": "markdown",
   "metadata": {
    "toc-hr-collapsed": false
   },
   "source": [
    "# Exercise 1. Pirate Attacks\n",
    "\n",
    " Use KNN, Naive Bayes and SVM on the ‘Pirate Attacks’ dataset to predict pirate attack success:\n",
    "\n",
    "   - Clean and preprocess data using one-hot-encoder or pipeline for categorical variables.\n",
    "\n",
    "   - Run the three models on the data. \n",
    "\n",
    "\n",
    "Have you noticed something strange? There is a “data leakage” here..\n",
    "\n",
    "   - Identify the feature(s) that are giving away the result!\n",
    "\n",
    "   - Run you models again. Which model is the best in predicting attacks?"
   ]
  },
  {
   "cell_type": "markdown",
   "metadata": {
    "toc-hr-collapsed": true
   },
   "source": [
    "## Import Libraries and Preprocess the Data"
   ]
  },
  {
   "cell_type": "code",
   "execution_count": 46,
   "metadata": {
    "collapsed": false,
    "jupyter": {
     "outputs_hidden": false
    }
   },
   "outputs": [],
   "source": [
    "import numpy as np\n",
    "import pandas as pd\n",
    "import seaborn as sns\n",
    "import matplotlib.pyplot as plt\n",
    "import seaborn as sns\n",
    "from matplotlib import cm as cm\n",
    "import random\n",
    "import sys\n",
    "from sklearn.model_selection import train_test_split\n",
    "from sklearn import preprocessing\n",
    "from sklearn.metrics import classification_report\n",
    "from sklearn.metrics import confusion_matrix\n",
    "from sklearn.metrics import mean_squared_error"
   ]
  },
  {
   "cell_type": "code",
   "execution_count": 47,
   "metadata": {
    "collapsed": false,
    "jupyter": {
     "outputs_hidden": false
    }
   },
   "outputs": [],
   "source": [
    "data = pd.read_csv('../../data/pirate_data.csv', delimiter=',',index_col=0)"
   ]
  },
  {
   "cell_type": "markdown",
   "metadata": {},
   "source": [
    "<b> Goal:</b> Predict Pirate Attack Success"
   ]
  },
  {
   "cell_type": "code",
   "execution_count": 48,
   "metadata": {
    "collapsed": false,
    "jupyter": {
     "outputs_hidden": false
    }
   },
   "outputs": [
    {
     "data": {
      "text/html": [
       "<div>\n",
       "<style scoped>\n",
       "    .dataframe tbody tr th:only-of-type {\n",
       "        vertical-align: middle;\n",
       "    }\n",
       "\n",
       "    .dataframe tbody tr th {\n",
       "        vertical-align: top;\n",
       "    }\n",
       "\n",
       "    .dataframe thead th {\n",
       "        text-align: right;\n",
       "    }\n",
       "</style>\n",
       "<table border=\"1\" class=\"dataframe\">\n",
       "  <thead>\n",
       "    <tr style=\"text-align: right;\">\n",
       "      <th></th>\n",
       "      <th>DATETIME (LOCAL)</th>\n",
       "      <th>DATETIME (UTC)</th>\n",
       "      <th>DATE (LT)</th>\n",
       "      <th>DATE (UTC)</th>\n",
       "      <th>REGION</th>\n",
       "      <th>COUNTRY</th>\n",
       "      <th>INCIDENT TYPE</th>\n",
       "      <th>VESSEL TYPE</th>\n",
       "      <th>MAERSK?</th>\n",
       "      <th>VESSEL ACTIVITY LOCATION</th>\n",
       "      <th>LAT</th>\n",
       "      <th>LONG</th>\n",
       "      <th>TIMEZONE</th>\n",
       "      <th>TIME OF DAY</th>\n",
       "      <th>ATTACKS</th>\n",
       "      <th>ATTACK SUCCESS</th>\n",
       "    </tr>\n",
       "  </thead>\n",
       "  <tbody>\n",
       "    <tr>\n",
       "      <th>1</th>\n",
       "      <td>2016-01-30 23:34:00</td>\n",
       "      <td>2016-01-30 22:34:00</td>\n",
       "      <td>2016-01-30</td>\n",
       "      <td>2016-01-30</td>\n",
       "      <td>WEST AFRICA</td>\n",
       "      <td>NIGERIA</td>\n",
       "      <td>FAILED ATTACK, HIJACKING</td>\n",
       "      <td>CONTAINER SHIP</td>\n",
       "      <td>0</td>\n",
       "      <td>OFF SHORE</td>\n",
       "      <td>3.000000</td>\n",
       "      <td>6.250000</td>\n",
       "      <td>Africa/Lagos</td>\n",
       "      <td>EVENING</td>\n",
       "      <td>1</td>\n",
       "      <td>0</td>\n",
       "    </tr>\n",
       "    <tr>\n",
       "      <th>2</th>\n",
       "      <td>2016-01-29 23:40:00</td>\n",
       "      <td>2016-01-29 22:40:00</td>\n",
       "      <td>2016-01-29</td>\n",
       "      <td>2016-01-29</td>\n",
       "      <td>WEST AFRICA</td>\n",
       "      <td>NIGERIA</td>\n",
       "      <td>KIDNAP/RANSOM AT SEA</td>\n",
       "      <td>PRODUCT TANKER</td>\n",
       "      <td>0</td>\n",
       "      <td>OFF SHORE</td>\n",
       "      <td>2.500000</td>\n",
       "      <td>5.750000</td>\n",
       "      <td>Africa/Lagos</td>\n",
       "      <td>EVENING</td>\n",
       "      <td>1</td>\n",
       "      <td>1</td>\n",
       "    </tr>\n",
       "    <tr>\n",
       "      <th>3</th>\n",
       "      <td>2016-01-28 03:00:00</td>\n",
       "      <td>2016-01-28 02:00:00</td>\n",
       "      <td>2016-01-28</td>\n",
       "      <td>2016-01-28</td>\n",
       "      <td>SOUTH ASIA</td>\n",
       "      <td>INDIA</td>\n",
       "      <td>FAILED ATTACK, ROBBERY</td>\n",
       "      <td>PRODUCT TANKER</td>\n",
       "      <td>0</td>\n",
       "      <td>ANCHORAGE</td>\n",
       "      <td>22.816667</td>\n",
       "      <td>70.116667</td>\n",
       "      <td>Asia/Kolkata</td>\n",
       "      <td>NIGHT</td>\n",
       "      <td>1</td>\n",
       "      <td>0</td>\n",
       "    </tr>\n",
       "    <tr>\n",
       "      <th>4</th>\n",
       "      <td>NaN</td>\n",
       "      <td>NaN</td>\n",
       "      <td>2016-01-27</td>\n",
       "      <td>2016-01-27</td>\n",
       "      <td>HORN OF AFRICA/ GULF OF ADEN</td>\n",
       "      <td>SOMALIA</td>\n",
       "      <td>SUSPICIOUS ACTIVITY AT SEA</td>\n",
       "      <td>NaN</td>\n",
       "      <td>0</td>\n",
       "      <td>OFF SHORE</td>\n",
       "      <td>13.998747</td>\n",
       "      <td>54.112792</td>\n",
       "      <td>Asia/Riyadh</td>\n",
       "      <td>UNKNOWN</td>\n",
       "      <td>1</td>\n",
       "      <td>0</td>\n",
       "    </tr>\n",
       "    <tr>\n",
       "      <th>5</th>\n",
       "      <td>2016-01-25 23:55:00</td>\n",
       "      <td>2016-01-25 22:55:00</td>\n",
       "      <td>2016-01-25</td>\n",
       "      <td>2016-01-25</td>\n",
       "      <td>SOUTH AMERICA</td>\n",
       "      <td>VENEZUELA</td>\n",
       "      <td>THEFT AT ANCHORAGE</td>\n",
       "      <td>GENERAL CARGO VESSEL</td>\n",
       "      <td>0</td>\n",
       "      <td>ANCHORAGE</td>\n",
       "      <td>10.267500</td>\n",
       "      <td>-63.432500</td>\n",
       "      <td>America/Caracas</td>\n",
       "      <td>EVENING</td>\n",
       "      <td>1</td>\n",
       "      <td>1</td>\n",
       "    </tr>\n",
       "  </tbody>\n",
       "</table>\n",
       "</div>"
      ],
      "text/plain": [
       "      DATETIME (LOCAL)       DATETIME (UTC)   DATE (LT)  DATE (UTC)  \\\n",
       "1  2016-01-30 23:34:00  2016-01-30 22:34:00  2016-01-30  2016-01-30   \n",
       "2  2016-01-29 23:40:00  2016-01-29 22:40:00  2016-01-29  2016-01-29   \n",
       "3  2016-01-28 03:00:00  2016-01-28 02:00:00  2016-01-28  2016-01-28   \n",
       "4                  NaN                  NaN  2016-01-27  2016-01-27   \n",
       "5  2016-01-25 23:55:00  2016-01-25 22:55:00  2016-01-25  2016-01-25   \n",
       "\n",
       "                         REGION    COUNTRY               INCIDENT TYPE  \\\n",
       "1                   WEST AFRICA    NIGERIA    FAILED ATTACK, HIJACKING   \n",
       "2                   WEST AFRICA    NIGERIA        KIDNAP/RANSOM AT SEA   \n",
       "3                    SOUTH ASIA      INDIA      FAILED ATTACK, ROBBERY   \n",
       "4  HORN OF AFRICA/ GULF OF ADEN    SOMALIA  SUSPICIOUS ACTIVITY AT SEA   \n",
       "5                 SOUTH AMERICA  VENEZUELA          THEFT AT ANCHORAGE   \n",
       "\n",
       "            VESSEL TYPE  MAERSK? VESSEL ACTIVITY LOCATION        LAT  \\\n",
       "1        CONTAINER SHIP        0                OFF SHORE   3.000000   \n",
       "2        PRODUCT TANKER        0                OFF SHORE   2.500000   \n",
       "3        PRODUCT TANKER        0                ANCHORAGE  22.816667   \n",
       "4                   NaN        0                OFF SHORE  13.998747   \n",
       "5  GENERAL CARGO VESSEL        0                ANCHORAGE  10.267500   \n",
       "\n",
       "        LONG         TIMEZONE TIME OF DAY  ATTACKS  ATTACK SUCCESS  \n",
       "1   6.250000     Africa/Lagos     EVENING        1               0  \n",
       "2   5.750000     Africa/Lagos     EVENING        1               1  \n",
       "3  70.116667     Asia/Kolkata       NIGHT        1               0  \n",
       "4  54.112792      Asia/Riyadh     UNKNOWN        1               0  \n",
       "5 -63.432500  America/Caracas     EVENING        1               1  "
      ]
     },
     "execution_count": 48,
     "metadata": {},
     "output_type": "execute_result"
    }
   ],
   "source": [
    "data.head()"
   ]
  },
  {
   "cell_type": "markdown",
   "metadata": {},
   "source": [
    "* 'Unnamed: 0': Leave out as it's an artifact\n",
    "* 'DATETIME (LOCAL)': Leave out as it's too granular\n",
    "* 'DATETIME (UTC)': Leave out as it's too granular\n",
    "* 'DATE (LT)': Leave it in for the time being, but only focus on months as it's too granular\n",
    "* 'DATE (UTC)': Leave out, as we only need one type of date information (LT) here\n",
    "* 'REGION': Leave it in\n",
    "* 'COUNTRY': Leave it in\n",
    "* 'INCIDENT TYPE': Leave out, it constitutes data leakage\n",
    "* 'VESSEL TYPE': Leave it in\n",
    "* 'MAERSK?': Leave it out, a specific shipping company is not the focus here\n",
    "* 'VESSEL ACTIVITY LOCATION': Leave it in\n",
    "* 'LAT': Leave out as it's too granular, we have region and country for this\n",
    "* 'LONG': Leave out as it's too granular, we have region and country for this\n",
    "* 'TIMEZONE': Leave out\n",
    "* 'TIME OF DAY': leave it in, but convert to numbers\n",
    "* 'ATTACKS': could be left out as it's all ones anyway (see below), but we'll leave it in for data exploration\n",
    "* 'ATTACK SUCCESS': leave it in (this will be the target variable, it is based on 'INCIDENT TYPE')"
   ]
  },
  {
   "cell_type": "markdown",
   "metadata": {},
   "source": [
    "### Drop useless columns and leakage (incident type)\n",
    "#### Columns chosen based on common sence"
   ]
  },
  {
   "cell_type": "code",
   "execution_count": 49,
   "metadata": {},
   "outputs": [
    {
     "data": {
      "text/plain": [
       "Index(['DATETIME (LOCAL)', 'DATETIME (UTC)', 'DATE (LT)', 'DATE (UTC)',\n",
       "       'REGION', 'COUNTRY', 'INCIDENT TYPE', 'VESSEL TYPE', 'MAERSK?',\n",
       "       'VESSEL ACTIVITY LOCATION', 'LAT', 'LONG', 'TIMEZONE', 'TIME OF DAY',\n",
       "       'ATTACKS', 'ATTACK SUCCESS'],\n",
       "      dtype='object')"
      ]
     },
     "execution_count": 49,
     "metadata": {},
     "output_type": "execute_result"
    }
   ],
   "source": [
    "data.columns"
   ]
  },
  {
   "cell_type": "code",
   "execution_count": 50,
   "metadata": {
    "collapsed": false,
    "jupyter": {
     "outputs_hidden": false
    }
   },
   "outputs": [
    {
     "data": {
      "text/plain": [
       "Index(['DATE (LT)', 'REGION', 'COUNTRY', 'VESSEL TYPE',\n",
       "       'VESSEL ACTIVITY LOCATION', 'TIME OF DAY', 'ATTACKS', 'ATTACK SUCCESS'],\n",
       "      dtype='object')"
      ]
     },
     "execution_count": 50,
     "metadata": {},
     "output_type": "execute_result"
    }
   ],
   "source": [
    "data = data.drop(['DATETIME (LOCAL)',\n",
    "                  'DATETIME (UTC)',\n",
    "                  'DATE (UTC)',\n",
    "                  'MAERSK?',\n",
    "                  'LAT',\n",
    "                  'LONG',\n",
    "                  'TIMEZONE',\n",
    "                  'INCIDENT TYPE'], 1)\n",
    "data.columns"
   ]
  },
  {
   "cell_type": "markdown",
   "metadata": {},
   "source": [
    "#### Check for missing values"
   ]
  },
  {
   "cell_type": "code",
   "execution_count": 51,
   "metadata": {},
   "outputs": [
    {
     "data": {
      "text/plain": [
       "DATE (LT)                     0\n",
       "REGION                        0\n",
       "COUNTRY                       0\n",
       "VESSEL TYPE                 164\n",
       "VESSEL ACTIVITY LOCATION    126\n",
       "TIME OF DAY                   0\n",
       "ATTACKS                       0\n",
       "ATTACK SUCCESS                0\n",
       "dtype: int64"
      ]
     },
     "execution_count": 51,
     "metadata": {},
     "output_type": "execute_result"
    }
   ],
   "source": [
    "data.isna().sum()"
   ]
  },
  {
   "cell_type": "code",
   "execution_count": 52,
   "metadata": {},
   "outputs": [
    {
     "data": {
      "text/plain": [
       "(802, 8)"
      ]
     },
     "execution_count": 52,
     "metadata": {},
     "output_type": "execute_result"
    }
   ],
   "source": [
    "data.shape"
   ]
  },
  {
   "cell_type": "markdown",
   "metadata": {},
   "source": [
    "VESSEL TYPE and VESSEL ACTIVITY LOCATION have missing values (around 15%), we still can delete them. \n",
    "\n",
    "Other options would be: \n",
    "  - impute the data with one of sklearn.impute methods. Beware when impute categorical data. \n",
    "  - put NaNs into Unknown category and handle it with OneHotEncoder. \n"
   ]
  },
  {
   "cell_type": "code",
   "execution_count": 53,
   "metadata": {},
   "outputs": [],
   "source": [
    "data = data.dropna(axis=0, how='any', thresh=None, subset=None, inplace=False)"
   ]
  },
  {
   "cell_type": "code",
   "execution_count": 54,
   "metadata": {},
   "outputs": [
    {
     "data": {
      "text/plain": [
       "(617, 8)"
      ]
     },
     "execution_count": 54,
     "metadata": {},
     "output_type": "execute_result"
    }
   ],
   "source": [
    "data.shape"
   ]
  },
  {
   "cell_type": "markdown",
   "metadata": {},
   "source": [
    "#### Further feature engineering"
   ]
  },
  {
   "cell_type": "markdown",
   "metadata": {},
   "source": [
    "Which other columns we can delete? 'ATTACKS' column has only ones, so it does not provide any information. "
   ]
  },
  {
   "cell_type": "code",
   "execution_count": 55,
   "metadata": {
    "collapsed": false,
    "jupyter": {
     "outputs_hidden": false
    }
   },
   "outputs": [
    {
     "data": {
      "text/plain": [
       "1    617\n",
       "Name: ATTACKS, dtype: int64"
      ]
     },
     "execution_count": 55,
     "metadata": {},
     "output_type": "execute_result"
    }
   ],
   "source": [
    "data['ATTACKS'].value_counts()"
   ]
  },
  {
   "cell_type": "markdown",
   "metadata": {},
   "source": [
    "The 'DATE (LT)' itself also is useless, but we cab extract valuable information out of it:"
   ]
  },
  {
   "cell_type": "code",
   "execution_count": 56,
   "metadata": {},
   "outputs": [
    {
     "data": {
      "text/html": [
       "<div>\n",
       "<style scoped>\n",
       "    .dataframe tbody tr th:only-of-type {\n",
       "        vertical-align: middle;\n",
       "    }\n",
       "\n",
       "    .dataframe tbody tr th {\n",
       "        vertical-align: top;\n",
       "    }\n",
       "\n",
       "    .dataframe thead th {\n",
       "        text-align: right;\n",
       "    }\n",
       "</style>\n",
       "<table border=\"1\" class=\"dataframe\">\n",
       "  <thead>\n",
       "    <tr style=\"text-align: right;\">\n",
       "      <th></th>\n",
       "      <th>DATE (LT)</th>\n",
       "      <th>REGION</th>\n",
       "      <th>COUNTRY</th>\n",
       "      <th>VESSEL TYPE</th>\n",
       "      <th>VESSEL ACTIVITY LOCATION</th>\n",
       "      <th>TIME OF DAY</th>\n",
       "      <th>ATTACKS</th>\n",
       "      <th>ATTACK SUCCESS</th>\n",
       "      <th>MONTH</th>\n",
       "      <th>WEEKDAY</th>\n",
       "    </tr>\n",
       "  </thead>\n",
       "  <tbody>\n",
       "    <tr>\n",
       "      <th>1</th>\n",
       "      <td>2016-01-30</td>\n",
       "      <td>WEST AFRICA</td>\n",
       "      <td>NIGERIA</td>\n",
       "      <td>CONTAINER SHIP</td>\n",
       "      <td>OFF SHORE</td>\n",
       "      <td>EVENING</td>\n",
       "      <td>1</td>\n",
       "      <td>0</td>\n",
       "      <td>1</td>\n",
       "      <td>5</td>\n",
       "    </tr>\n",
       "    <tr>\n",
       "      <th>2</th>\n",
       "      <td>2016-01-29</td>\n",
       "      <td>WEST AFRICA</td>\n",
       "      <td>NIGERIA</td>\n",
       "      <td>PRODUCT TANKER</td>\n",
       "      <td>OFF SHORE</td>\n",
       "      <td>EVENING</td>\n",
       "      <td>1</td>\n",
       "      <td>1</td>\n",
       "      <td>1</td>\n",
       "      <td>4</td>\n",
       "    </tr>\n",
       "    <tr>\n",
       "      <th>3</th>\n",
       "      <td>2016-01-28</td>\n",
       "      <td>SOUTH ASIA</td>\n",
       "      <td>INDIA</td>\n",
       "      <td>PRODUCT TANKER</td>\n",
       "      <td>ANCHORAGE</td>\n",
       "      <td>NIGHT</td>\n",
       "      <td>1</td>\n",
       "      <td>0</td>\n",
       "      <td>1</td>\n",
       "      <td>3</td>\n",
       "    </tr>\n",
       "    <tr>\n",
       "      <th>5</th>\n",
       "      <td>2016-01-25</td>\n",
       "      <td>SOUTH AMERICA</td>\n",
       "      <td>VENEZUELA</td>\n",
       "      <td>GENERAL CARGO VESSEL</td>\n",
       "      <td>ANCHORAGE</td>\n",
       "      <td>EVENING</td>\n",
       "      <td>1</td>\n",
       "      <td>1</td>\n",
       "      <td>1</td>\n",
       "      <td>0</td>\n",
       "    </tr>\n",
       "    <tr>\n",
       "      <th>6</th>\n",
       "      <td>2016-01-25</td>\n",
       "      <td>SOUTH ASIA</td>\n",
       "      <td>INDIA</td>\n",
       "      <td>PRODUCT TANKER</td>\n",
       "      <td>OFF SHORE</td>\n",
       "      <td>NIGHT</td>\n",
       "      <td>1</td>\n",
       "      <td>1</td>\n",
       "      <td>1</td>\n",
       "      <td>0</td>\n",
       "    </tr>\n",
       "  </tbody>\n",
       "</table>\n",
       "</div>"
      ],
      "text/plain": [
       "    DATE (LT)         REGION    COUNTRY           VESSEL TYPE  \\\n",
       "1  2016-01-30    WEST AFRICA    NIGERIA        CONTAINER SHIP   \n",
       "2  2016-01-29    WEST AFRICA    NIGERIA        PRODUCT TANKER   \n",
       "3  2016-01-28     SOUTH ASIA      INDIA        PRODUCT TANKER   \n",
       "5  2016-01-25  SOUTH AMERICA  VENEZUELA  GENERAL CARGO VESSEL   \n",
       "6  2016-01-25     SOUTH ASIA      INDIA        PRODUCT TANKER   \n",
       "\n",
       "  VESSEL ACTIVITY LOCATION TIME OF DAY  ATTACKS  ATTACK SUCCESS MONTH WEEKDAY  \n",
       "1                OFF SHORE     EVENING        1               0     1       5  \n",
       "2                OFF SHORE     EVENING        1               1     1       4  \n",
       "3                ANCHORAGE       NIGHT        1               0     1       3  \n",
       "5                ANCHORAGE     EVENING        1               1     1       0  \n",
       "6                OFF SHORE       NIGHT        1               1     1       0  "
      ]
     },
     "execution_count": 56,
     "metadata": {},
     "output_type": "execute_result"
    }
   ],
   "source": [
    "data['MONTH'] = pd.DatetimeIndex(data['DATE (LT)']).month.astype(str)\n",
    "data['WEEKDAY'] = pd.DatetimeIndex(data['DATE (LT)']).weekday.astype(str)\n",
    "data.head()"
   ]
  },
  {
   "cell_type": "code",
   "execution_count": 57,
   "metadata": {},
   "outputs": [],
   "source": [
    "data = data.drop(['DATE (LT)'], 1)\n",
    "data = data.drop(['ATTACKS'], 1)"
   ]
  },
  {
   "cell_type": "code",
   "execution_count": 58,
   "metadata": {
    "collapsed": false,
    "jupyter": {
     "outputs_hidden": false
    }
   },
   "outputs": [
    {
     "data": {
      "text/plain": [
       "Index(['REGION', 'COUNTRY', 'VESSEL TYPE', 'VESSEL ACTIVITY LOCATION',\n",
       "       'TIME OF DAY', 'ATTACK SUCCESS', 'MONTH', 'WEEKDAY'],\n",
       "      dtype='object')"
      ]
     },
     "execution_count": 58,
     "metadata": {},
     "output_type": "execute_result"
    }
   ],
   "source": [
    "data.columns"
   ]
  },
  {
   "cell_type": "code",
   "execution_count": 60,
   "metadata": {
    "collapsed": false,
    "jupyter": {
     "outputs_hidden": false
    }
   },
   "outputs": [],
   "source": [
    "# Separate the feature variables X and the target variable y (Successful Attack):\n",
    "X = data.drop(['ATTACK SUCCESS'], 1)\n",
    "y = data['ATTACK SUCCESS']"
   ]
  },
  {
   "cell_type": "code",
   "execution_count": 61,
   "metadata": {
    "collapsed": false,
    "jupyter": {
     "outputs_hidden": false
    }
   },
   "outputs": [
    {
     "data": {
      "text/html": [
       "<div>\n",
       "<style scoped>\n",
       "    .dataframe tbody tr th:only-of-type {\n",
       "        vertical-align: middle;\n",
       "    }\n",
       "\n",
       "    .dataframe tbody tr th {\n",
       "        vertical-align: top;\n",
       "    }\n",
       "\n",
       "    .dataframe thead th {\n",
       "        text-align: right;\n",
       "    }\n",
       "</style>\n",
       "<table border=\"1\" class=\"dataframe\">\n",
       "  <thead>\n",
       "    <tr style=\"text-align: right;\">\n",
       "      <th></th>\n",
       "      <th>REGION</th>\n",
       "      <th>COUNTRY</th>\n",
       "      <th>VESSEL TYPE</th>\n",
       "      <th>VESSEL ACTIVITY LOCATION</th>\n",
       "      <th>TIME OF DAY</th>\n",
       "      <th>MONTH</th>\n",
       "      <th>WEEKDAY</th>\n",
       "    </tr>\n",
       "  </thead>\n",
       "  <tbody>\n",
       "    <tr>\n",
       "      <th>1</th>\n",
       "      <td>WEST AFRICA</td>\n",
       "      <td>NIGERIA</td>\n",
       "      <td>CONTAINER SHIP</td>\n",
       "      <td>OFF SHORE</td>\n",
       "      <td>EVENING</td>\n",
       "      <td>1</td>\n",
       "      <td>5</td>\n",
       "    </tr>\n",
       "    <tr>\n",
       "      <th>2</th>\n",
       "      <td>WEST AFRICA</td>\n",
       "      <td>NIGERIA</td>\n",
       "      <td>PRODUCT TANKER</td>\n",
       "      <td>OFF SHORE</td>\n",
       "      <td>EVENING</td>\n",
       "      <td>1</td>\n",
       "      <td>4</td>\n",
       "    </tr>\n",
       "    <tr>\n",
       "      <th>3</th>\n",
       "      <td>SOUTH ASIA</td>\n",
       "      <td>INDIA</td>\n",
       "      <td>PRODUCT TANKER</td>\n",
       "      <td>ANCHORAGE</td>\n",
       "      <td>NIGHT</td>\n",
       "      <td>1</td>\n",
       "      <td>3</td>\n",
       "    </tr>\n",
       "    <tr>\n",
       "      <th>5</th>\n",
       "      <td>SOUTH AMERICA</td>\n",
       "      <td>VENEZUELA</td>\n",
       "      <td>GENERAL CARGO VESSEL</td>\n",
       "      <td>ANCHORAGE</td>\n",
       "      <td>EVENING</td>\n",
       "      <td>1</td>\n",
       "      <td>0</td>\n",
       "    </tr>\n",
       "    <tr>\n",
       "      <th>6</th>\n",
       "      <td>SOUTH ASIA</td>\n",
       "      <td>INDIA</td>\n",
       "      <td>PRODUCT TANKER</td>\n",
       "      <td>OFF SHORE</td>\n",
       "      <td>NIGHT</td>\n",
       "      <td>1</td>\n",
       "      <td>0</td>\n",
       "    </tr>\n",
       "  </tbody>\n",
       "</table>\n",
       "</div>"
      ],
      "text/plain": [
       "          REGION    COUNTRY           VESSEL TYPE VESSEL ACTIVITY LOCATION  \\\n",
       "1    WEST AFRICA    NIGERIA        CONTAINER SHIP                OFF SHORE   \n",
       "2    WEST AFRICA    NIGERIA        PRODUCT TANKER                OFF SHORE   \n",
       "3     SOUTH ASIA      INDIA        PRODUCT TANKER                ANCHORAGE   \n",
       "5  SOUTH AMERICA  VENEZUELA  GENERAL CARGO VESSEL                ANCHORAGE   \n",
       "6     SOUTH ASIA      INDIA        PRODUCT TANKER                OFF SHORE   \n",
       "\n",
       "  TIME OF DAY MONTH WEEKDAY  \n",
       "1     EVENING     1       5  \n",
       "2     EVENING     1       4  \n",
       "3       NIGHT     1       3  \n",
       "5     EVENING     1       0  \n",
       "6       NIGHT     1       0  "
      ]
     },
     "execution_count": 61,
     "metadata": {},
     "output_type": "execute_result"
    }
   ],
   "source": [
    "X.head()"
   ]
  },
  {
   "cell_type": "code",
   "execution_count": 63,
   "metadata": {
    "collapsed": false,
    "jupyter": {
     "outputs_hidden": false
    }
   },
   "outputs": [
    {
     "data": {
      "text/plain": [
       "1    0\n",
       "2    1\n",
       "3    0\n",
       "5    1\n",
       "6    1\n",
       "Name: ATTACK SUCCESS, dtype: int64"
      ]
     },
     "execution_count": 63,
     "metadata": {},
     "output_type": "execute_result"
    }
   ],
   "source": [
    "y.head()"
   ]
  },
  {
   "cell_type": "markdown",
   "metadata": {},
   "source": [
    "### Perform Train-Test Split on the final dataset"
   ]
  },
  {
   "cell_type": "code",
   "execution_count": 64,
   "metadata": {
    "collapsed": false,
    "jupyter": {
     "outputs_hidden": false
    }
   },
   "outputs": [
    {
     "name": "stdout",
     "output_type": "stream",
     "text": [
      "(462, 7)\n",
      "(155, 7)\n",
      "(462,)\n",
      "(155,)\n"
     ]
    }
   ],
   "source": [
    "X_train, X_test, y_train, y_test = train_test_split(X, y, test_size=0.25, random_state=123)\n",
    "\n",
    "print(X_train.shape)\n",
    "print(X_test.shape)\n",
    "print(y_train.shape)\n",
    "print(y_test.shape)"
   ]
  },
  {
   "cell_type": "markdown",
   "metadata": {
    "jupyter": {
     "outputs_hidden": false
    }
   },
   "source": [
    "### Introduce Encoding "
   ]
  },
  {
   "cell_type": "code",
   "execution_count": 77,
   "metadata": {},
   "outputs": [],
   "source": [
    "from sklearn.pipeline import Pipeline\n",
    "from sklearn.model_selection import cross_val_score\n",
    "\n",
    "ohe = preprocessing.OneHotEncoder(handle_unknown='ignore')"
   ]
  },
  {
   "cell_type": "markdown",
   "metadata": {},
   "source": [
    "#  Running models"
   ]
  },
  {
   "cell_type": "markdown",
   "metadata": {},
   "source": [
    "## KNN"
   ]
  },
  {
   "cell_type": "code",
   "execution_count": 105,
   "metadata": {
    "collapsed": false,
    "jupyter": {
     "outputs_hidden": false
    }
   },
   "outputs": [],
   "source": [
    "from sklearn.neighbors import KNeighborsClassifier\n",
    "\n",
    "#Call model into variable\n",
    "knn = KNeighborsClassifier(n_neighbors=1)\n",
    "knn = Pipeline([('one_hot_enc', ohe), ('estimator', knn)])"
   ]
  },
  {
   "cell_type": "code",
   "execution_count": 106,
   "metadata": {},
   "outputs": [
    {
     "data": {
      "text/plain": [
       "0.6361864260778891"
      ]
     },
     "execution_count": 106,
     "metadata": {},
     "output_type": "execute_result"
    }
   ],
   "source": [
    "knn_score = np.mean(\n",
    "    cross_val_score(knn,\n",
    "                    X_train,\n",
    "                    y_train,\n",
    "                    scoring = 'f1',\n",
    "                    cv=4))\n",
    "knn_score"
   ]
  },
  {
   "cell_type": "markdown",
   "metadata": {},
   "source": [
    "## Naive Bayes"
   ]
  },
  {
   "cell_type": "code",
   "execution_count": 107,
   "metadata": {
    "collapsed": false,
    "jupyter": {
     "outputs_hidden": false
    }
   },
   "outputs": [],
   "source": [
    "#Choosing Bernoulli, as input variables are binary after One-Hot-Encoding\n",
    "from sklearn.naive_bayes import BernoulliNB\n",
    "\n",
    "#Call model into variable\n",
    "nb = BernoulliNB()\n",
    "\n",
    "nb = Pipeline([('one_hot_enc', ohe), ('estimator', nb)])"
   ]
  },
  {
   "cell_type": "code",
   "execution_count": 108,
   "metadata": {},
   "outputs": [
    {
     "data": {
      "text/plain": [
       "0.6389140725321543"
      ]
     },
     "execution_count": 108,
     "metadata": {},
     "output_type": "execute_result"
    }
   ],
   "source": [
    "nb_score = np.mean(\n",
    "    cross_val_score(nb,\n",
    "                    X_train,\n",
    "                    y_train,\n",
    "                    scoring = 'f1',\n",
    "                    cv=4))\n",
    "nb_score"
   ]
  },
  {
   "cell_type": "markdown",
   "metadata": {},
   "source": [
    "## SVM"
   ]
  },
  {
   "cell_type": "markdown",
   "metadata": {},
   "source": [
    "### Linear Support Vector Classification"
   ]
  },
  {
   "cell_type": "code",
   "execution_count": 109,
   "metadata": {
    "collapsed": false,
    "jupyter": {
     "outputs_hidden": false
    }
   },
   "outputs": [],
   "source": [
    "\n",
    "from sklearn.svm import LinearSVC\n",
    "\n",
    "#Call model into variable\n",
    "svm = LinearSVC()\n",
    "svm = Pipeline([('one_hot_enc', ohe), ('estimator', svm)])"
   ]
  },
  {
   "cell_type": "code",
   "execution_count": 110,
   "metadata": {},
   "outputs": [
    {
     "data": {
      "text/plain": [
       "0.641906733077042"
      ]
     },
     "execution_count": 110,
     "metadata": {},
     "output_type": "execute_result"
    }
   ],
   "source": [
    "svm_score =  np.mean(\n",
    "    cross_val_score(svm,\n",
    "                    X_train,\n",
    "                    y_train,\n",
    "                    scoring = 'f1',\n",
    "                    cv=4))\n",
    "svm_score  "
   ]
  },
  {
   "cell_type": "markdown",
   "metadata": {},
   "source": [
    "### Support Vector Classification with Radial Basis Function"
   ]
  },
  {
   "cell_type": "code",
   "execution_count": 111,
   "metadata": {},
   "outputs": [],
   "source": [
    "from sklearn.svm import SVC\n",
    "\n",
    "#Call model into variable\n",
    "svm_rbf = SVC(kernel='rbf',gamma='scale')\n",
    "svm_rbf = Pipeline([('one_hot_enc', ohe), ('estimator', svm_rbf)])\n"
   ]
  },
  {
   "cell_type": "code",
   "execution_count": 112,
   "metadata": {},
   "outputs": [
    {
     "data": {
      "text/plain": [
       "0.7151401670626374"
      ]
     },
     "execution_count": 112,
     "metadata": {},
     "output_type": "execute_result"
    }
   ],
   "source": [
    "svm_rbf_score =  np.mean(\n",
    "    cross_val_score(svm_rbf,\n",
    "                    X_train,\n",
    "                    y_train,\n",
    "                    scoring = 'f1',\n",
    "                    cv=4))\n",
    "svm_rbf_score  "
   ]
  },
  {
   "cell_type": "markdown",
   "metadata": {},
   "source": [
    "## Let's find the best model "
   ]
  },
  {
   "cell_type": "code",
   "execution_count": 118,
   "metadata": {},
   "outputs": [],
   "source": [
    "models = ['knn', 'nb', 'svm', 'svm_rbf']"
   ]
  },
  {
   "cell_type": "code",
   "execution_count": 120,
   "metadata": {},
   "outputs": [
    {
     "data": {
      "image/png": "[encoded data removed]",
      "text/plain": [
       "<Figure size 432x288 with 1 Axes>"
      ]
     },
     "metadata": {
      "needs_background": "light"
     },
     "output_type": "display_data"
    }
   ],
   "source": [
    "plt.plot(models,[knn_score, nb_score, svm_score, svm_rbf_score]);"
   ]
  },
  {
   "cell_type": "markdown",
   "metadata": {},
   "source": [
    "# Results of the best model"
   ]
  },
  {
   "cell_type": "markdown",
   "metadata": {},
   "source": [
    "## Classification report"
   ]
  },
  {
   "cell_type": "code",
   "execution_count": 103,
   "metadata": {
    "collapsed": false,
    "jupyter": {
     "outputs_hidden": false
    }
   },
   "outputs": [
    {
     "name": "stdout",
     "output_type": "stream",
     "text": [
      "Pipeline(memory=None,\n",
      "         steps=[('one_hot_enc',\n",
      "                 OneHotEncoder(categorical_features=None, categories=None,\n",
      "                               drop=None, dtype=<class 'numpy.float64'>,\n",
      "                               handle_unknown='ignore', n_values=None,\n",
      "                               sparse=True)),\n",
      "                ('estimator',\n",
      "                 SVC(C=1.0, cache_size=200, class_weight=None, coef0=0.0,\n",
      "                     decision_function_shape='ovr', degree=3, gamma='scale',\n",
      "                     kernel='rbf', max_iter=-1, probability=False,\n",
      "                     random_state=None, shrinking=True, tol=0.001,\n",
      "                     verbose=False))],\n",
      "         verbose=False)\n",
      "-------------------------------------------------------------\n",
      "[[17 44]\n",
      " [11 83]]\n",
      "-------------------------------------------------------------\n",
      "              precision    recall  f1-score   support\n",
      "\n",
      "           0       0.61      0.28      0.38        61\n",
      "           1       0.65      0.88      0.75        94\n",
      "\n",
      "    accuracy                           0.65       155\n",
      "   macro avg       0.63      0.58      0.57       155\n",
      "weighted avg       0.64      0.65      0.61       155\n",
      "\n",
      "-------------------------------------------------------------\n",
      "0.6451612903225806\n"
     ]
    }
   ],
   "source": [
    "#Train model\n",
    "svm_rbf.fit(X_train,y_train)\n",
    "print(svm)\n",
    "\n",
    "#SVM predict\n",
    "svm_predictions = svm_rbf.predict(X_test)\n",
    "\n",
    "print(\"-------------------------------------------------------------\")\n",
    "svm_rbf_cm = confusion_matrix(y_test,svm_predictions)\n",
    "print(svm_rbf_cm)\n",
    "\n",
    "print(\"-------------------------------------------------------------\")\n",
    "print(classification_report(y_test,svm_predictions))\n",
    "\n",
    "print(\"-------------------------------------------------------------\")\n",
    "print(svm_rbf.score(X_test,y_test))"
   ]
  },
  {
   "cell_type": "markdown",
   "metadata": {},
   "source": [
    "using radial basis function is slightly worse, so probably not a good kernel for this data set"
   ]
  },
  {
   "cell_type": "code",
   "execution_count": null,
   "metadata": {},
   "outputs": [],
   "source": []
  }
 ],
 "metadata": {
  "kernelspec": {
   "display_name": "Python 3",
   "language": "python",
   "name": "python3"
  },
  "language_info": {
   "codemirror_mode": {
    "name": "ipython",
    "version": 3
   },
   "file_extension": ".py",
   "mimetype": "text/x-python",
   "name": "python",
   "nbconvert_exporter": "python",
   "pygments_lexer": "ipython3",
   "version": "3.7.4"
  },
  "toc": {
   "base_numbering": 1,
   "nav_menu": {},
   "number_sections": true,
   "sideBar": true,
   "skip_h1_title": false,
   "title_cell": "Table of Contents",
   "title_sidebar": "Contents",
   "toc_cell": false,
   "toc_position": {},
   "toc_section_display": true,
   "toc_window_display": false
  },
  "varInspector": {
   "cols": {
    "lenName": 16,
    "lenType": 16,
    "lenVar": 40
   },
   "kernels_config": {
    "python": {
     "delete_cmd_postfix": "",
     "delete_cmd_prefix": "del ",
     "library": "var_list.py",
     "varRefreshCmd": "print(var_dic_list())"
    },
    "r": {
     "delete_cmd_postfix": ") ",
     "delete_cmd_prefix": "rm(",
     "library": "var_list.r",
     "varRefreshCmd": "cat(var_dic_list()) "
    }
   },
   "types_to_exclude": [
    "module",
    "function",
    "builtin_function_or_method",
    "instance",
    "_Feature"
   ],
   "window_display": false
  }
 },
 "nbformat": 4,
 "nbformat_minor": 4
}
