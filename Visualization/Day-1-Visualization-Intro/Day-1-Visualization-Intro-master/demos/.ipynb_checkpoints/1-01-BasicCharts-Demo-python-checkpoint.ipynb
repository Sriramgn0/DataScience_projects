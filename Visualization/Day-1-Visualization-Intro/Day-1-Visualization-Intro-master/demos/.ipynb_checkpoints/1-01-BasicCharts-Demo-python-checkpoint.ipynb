{
 "cells": [
  {
   "cell_type": "code",
   "execution_count": 1,
   "metadata": {},
   "outputs": [],
   "source": [
    "import pandas as pd\n",
    "import numpy as np\n",
    "\n",
    "import matplotlib\n",
    "%matplotlib inline\n",
    "import matplotlib.pyplot as plt"
   ]
  },
  {
   "cell_type": "markdown",
   "metadata": {},
   "source": [
    "# Contents\n",
    "## Line Charts\n",
    "- Using *matplotlib.plot* (+ axis labels)\n",
    "- Using *pandas.plot*\n",
    "- Using semantic indices with *pandas.set_index*\n",
    "- Styling with *plt.style.use* and *plt.style.context*\n",
    "\n",
    "## Boxplots\n",
    "- Using *plot.box* (pandas)\n",
    "\n",
    "## Scatterplots\n",
    "- Using *plot.scatter* (pandas)\n",
    "\n",
    "## Barcharts\n",
    "- Using *plot.bar* (pandas)"
   ]
  },
  {
   "cell_type": "code",
   "execution_count": 2,
   "metadata": {
    "scrolled": true
   },
   "outputs": [
    {
     "data": {
      "text/html": [
       "<div>\n",
       "<style scoped>\n",
       "    .dataframe tbody tr th:only-of-type {\n",
       "        vertical-align: middle;\n",
       "    }\n",
       "\n",
       "    .dataframe tbody tr th {\n",
       "        vertical-align: top;\n",
       "    }\n",
       "\n",
       "    .dataframe thead th {\n",
       "        text-align: right;\n",
       "    }\n",
       "</style>\n",
       "<table border=\"1\" class=\"dataframe\">\n",
       "  <thead>\n",
       "    <tr style=\"text-align: right;\">\n",
       "      <th></th>\n",
       "      <th>Date</th>\n",
       "      <th>D0</th>\n",
       "      <th>Value</th>\n",
       "    </tr>\n",
       "  </thead>\n",
       "  <tbody>\n",
       "    <tr>\n",
       "      <th>0</th>\n",
       "      <td>1988-01</td>\n",
       "      <td>1J</td>\n",
       "      <td>2.887</td>\n",
       "    </tr>\n",
       "    <tr>\n",
       "      <th>1</th>\n",
       "      <td>1988-01</td>\n",
       "      <td>2J</td>\n",
       "      <td>3.218</td>\n",
       "    </tr>\n",
       "    <tr>\n",
       "      <th>2</th>\n",
       "      <td>1988-01</td>\n",
       "      <td>3J</td>\n",
       "      <td>3.393</td>\n",
       "    </tr>\n",
       "    <tr>\n",
       "      <th>3</th>\n",
       "      <td>1988-01</td>\n",
       "      <td>4J</td>\n",
       "      <td>3.554</td>\n",
       "    </tr>\n",
       "    <tr>\n",
       "      <th>4</th>\n",
       "      <td>1988-01</td>\n",
       "      <td>5J</td>\n",
       "      <td>3.695</td>\n",
       "    </tr>\n",
       "  </tbody>\n",
       "</table>\n",
       "</div>"
      ],
      "text/plain": [
       "      Date  D0  Value\n",
       "0  1988-01  1J  2.887\n",
       "1  1988-01  2J  3.218\n",
       "2  1988-01  3J  3.393\n",
       "3  1988-01  4J  3.554\n",
       "4  1988-01  5J  3.695"
      ]
     },
     "execution_count": 2,
     "metadata": {},
     "output_type": "execute_result"
    }
   ],
   "source": [
    "df = pd.read_csv(\"../data/snb-data-rendoblim-en-all-20170502_1430.csv\")\n",
    "df.head()"
   ]
  },
  {
   "cell_type": "code",
   "execution_count": 3,
   "metadata": {},
   "outputs": [
    {
     "data": {
      "text/plain": [
       "(4224,\n",
       " 352,\n",
       " 12,\n",
       " array(['1J', '2J', '3J', '4J', '5J', '6J', '7J', '8J', '9J', '10J', '20J',\n",
       "        '30J'], dtype=object))"
      ]
     },
     "execution_count": 3,
     "metadata": {},
     "output_type": "execute_result"
    }
   ],
   "source": [
    "len(df), len(pd.unique(df['Date'])), len(pd.unique(df['D0'])), pd.unique(df['D0'])"
   ]
  },
  {
   "cell_type": "markdown",
   "metadata": {},
   "source": [
    "# Line plots of 1Y bond yields"
   ]
  },
  {
   "cell_type": "markdown",
   "metadata": {},
   "source": [
    "## Indexed by row, matplotlib"
   ]
  },
  {
   "cell_type": "code",
   "execution_count": 4,
   "metadata": {},
   "outputs": [
    {
     "data": {
      "text/html": [
       "<div>\n",
       "<style scoped>\n",
       "    .dataframe tbody tr th:only-of-type {\n",
       "        vertical-align: middle;\n",
       "    }\n",
       "\n",
       "    .dataframe tbody tr th {\n",
       "        vertical-align: top;\n",
       "    }\n",
       "\n",
       "    .dataframe thead th {\n",
       "        text-align: right;\n",
       "    }\n",
       "</style>\n",
       "<table border=\"1\" class=\"dataframe\">\n",
       "  <thead>\n",
       "    <tr style=\"text-align: right;\">\n",
       "      <th></th>\n",
       "      <th>Date</th>\n",
       "      <th>D0</th>\n",
       "      <th>Value</th>\n",
       "    </tr>\n",
       "  </thead>\n",
       "  <tbody>\n",
       "    <tr>\n",
       "      <th>0</th>\n",
       "      <td>1988-01</td>\n",
       "      <td>1J</td>\n",
       "      <td>2.887</td>\n",
       "    </tr>\n",
       "    <tr>\n",
       "      <th>12</th>\n",
       "      <td>1988-02</td>\n",
       "      <td>1J</td>\n",
       "      <td>2.638</td>\n",
       "    </tr>\n",
       "    <tr>\n",
       "      <th>24</th>\n",
       "      <td>1988-03</td>\n",
       "      <td>1J</td>\n",
       "      <td>2.641</td>\n",
       "    </tr>\n",
       "    <tr>\n",
       "      <th>36</th>\n",
       "      <td>1988-04</td>\n",
       "      <td>1J</td>\n",
       "      <td>2.800</td>\n",
       "    </tr>\n",
       "    <tr>\n",
       "      <th>48</th>\n",
       "      <td>1988-05</td>\n",
       "      <td>1J</td>\n",
       "      <td>3.191</td>\n",
       "    </tr>\n",
       "  </tbody>\n",
       "</table>\n",
       "</div>"
      ],
      "text/plain": [
       "       Date  D0  Value\n",
       "0   1988-01  1J  2.887\n",
       "12  1988-02  1J  2.638\n",
       "24  1988-03  1J  2.641\n",
       "36  1988-04  1J  2.800\n",
       "48  1988-05  1J  3.191"
      ]
     },
     "execution_count": 4,
     "metadata": {},
     "output_type": "execute_result"
    }
   ],
   "source": [
    "# Basic line plot\n",
    "one_year_df = df[df['D0'] == '1J']\n",
    "one_year_df.head()"
   ]
  },
  {
   "cell_type": "code",
   "execution_count": 5,
   "metadata": {},
   "outputs": [
    {
     "data": {
      "text/plain": [
       "[<matplotlib.lines.Line2D at 0x117681978>]"
      ]
     },
     "execution_count": 5,
     "metadata": {},
     "output_type": "execute_result"
    },
    {
     "data": {
      "image/png": "[encoded data removed]",
      "text/plain": [
       "<Figure size 432x288 with 1 Axes>"
      ]
     },
     "metadata": {
      "needs_background": "light"
     },
     "output_type": "display_data"
    }
   ],
   "source": [
    "fig, ax = plt.subplots()\n",
    "ax.plot(range(0, len(one_year_df.index)), one_year_df['Value'])"
   ]
  },
  {
   "cell_type": "code",
   "execution_count": 6,
   "metadata": {},
   "outputs": [
    {
     "name": "stderr",
     "output_type": "stream",
     "text": [
      "No handles with labels found to put in legend.\n"
     ]
    },
    {
     "data": {
      "image/png": "[encoded data removed]",
      "text/plain": [
       "<Figure size 432x288 with 1 Axes>"
      ]
     },
     "metadata": {
      "needs_background": "light"
     },
     "output_type": "display_data"
    }
   ],
   "source": [
    "# Line plot with better x-axis labels\n",
    "from matplotlib.ticker import FuncFormatter\n",
    "def date_format(x, pos):\n",
    "    idx = one_year_df['Date']\n",
    "    if x >= len(idx):\n",
    "        return \"\"\n",
    "    return idx.iloc[int(x)]\n",
    "formatter = FuncFormatter(date_format)\n",
    "\n",
    "fig, ax = plt.subplots()\n",
    "ax.plot(range(0, len(one_year_df.index)), one_year_df['Value'])\n",
    "ax.xaxis.set_major_formatter(formatter)\n",
    "ax.set_xlim(0, len(one_year_df.index))\n",
    "ax.legend()\n",
    "None"
   ]
  },
  {
   "cell_type": "code",
   "execution_count": 7,
   "metadata": {},
   "outputs": [
    {
     "data": {
      "image/png": "[encoded data removed]",
      "text/plain": [
       "<Figure size 432x288 with 1 Axes>"
      ]
     },
     "metadata": {
      "needs_background": "light"
     },
     "output_type": "display_data"
    }
   ],
   "source": [
    "# Line plot with axis labels and series label\n",
    "fig, ax = plt.subplots()\n",
    "ax.plot(range(0, len(one_year_df.index)), one_year_df['Value'], label='1Y yield')\n",
    "ax.xaxis.set_major_formatter(formatter)\n",
    "ax.set_xlim(0, len(one_year_df.index))\n",
    "ax.legend()\n",
    "None"
   ]
  },
  {
   "cell_type": "markdown",
   "metadata": {},
   "source": [
    "## Indexed by row, pandas"
   ]
  },
  {
   "cell_type": "code",
   "execution_count": 8,
   "metadata": {},
   "outputs": [
    {
     "data": {
      "text/plain": [
       "<matplotlib.axes._subplots.AxesSubplot at 0x117e25320>"
      ]
     },
     "execution_count": 8,
     "metadata": {},
     "output_type": "execute_result"
    },
    {
     "data": {
      "image/png": "[encoded data removed]",
      "text/plain": [
       "<Figure size 432x288 with 1 Axes>"
      ]
     },
     "metadata": {
      "needs_background": "light"
     },
     "output_type": "display_data"
    }
   ],
   "source": [
    "df[df['D0'] == '1J'].plot(x='Date', y='Value', label='1Y yield')"
   ]
  },
  {
   "cell_type": "markdown",
   "metadata": {},
   "source": [
    "## Indexed by date/series"
   ]
  },
  {
   "cell_type": "code",
   "execution_count": 9,
   "metadata": {},
   "outputs": [
    {
     "data": {
      "text/html": [
       "<div>\n",
       "<style scoped>\n",
       "    .dataframe tbody tr th:only-of-type {\n",
       "        vertical-align: middle;\n",
       "    }\n",
       "\n",
       "    .dataframe tbody tr th {\n",
       "        vertical-align: top;\n",
       "    }\n",
       "\n",
       "    .dataframe thead th {\n",
       "        text-align: right;\n",
       "    }\n",
       "</style>\n",
       "<table border=\"1\" class=\"dataframe\">\n",
       "  <thead>\n",
       "    <tr style=\"text-align: right;\">\n",
       "      <th></th>\n",
       "      <th></th>\n",
       "      <th>Value</th>\n",
       "    </tr>\n",
       "    <tr>\n",
       "      <th>Date</th>\n",
       "      <th>D0</th>\n",
       "      <th></th>\n",
       "    </tr>\n",
       "  </thead>\n",
       "  <tbody>\n",
       "    <tr>\n",
       "      <th rowspan=\"5\" valign=\"top\">1988-01-01</th>\n",
       "      <th>10J</th>\n",
       "      <td>4.092</td>\n",
       "    </tr>\n",
       "    <tr>\n",
       "      <th>1J</th>\n",
       "      <td>2.887</td>\n",
       "    </tr>\n",
       "    <tr>\n",
       "      <th>20J</th>\n",
       "      <td>4.326</td>\n",
       "    </tr>\n",
       "    <tr>\n",
       "      <th>2J</th>\n",
       "      <td>3.218</td>\n",
       "    </tr>\n",
       "    <tr>\n",
       "      <th>30J</th>\n",
       "      <td>NaN</td>\n",
       "    </tr>\n",
       "  </tbody>\n",
       "</table>\n",
       "</div>"
      ],
      "text/plain": [
       "                Value\n",
       "Date       D0        \n",
       "1988-01-01 10J  4.092\n",
       "           1J   2.887\n",
       "           20J  4.326\n",
       "           2J   3.218\n",
       "           30J    NaN"
      ]
     },
     "execution_count": 9,
     "metadata": {},
     "output_type": "execute_result"
    }
   ],
   "source": [
    "df = pd.read_csv(\"../data/snb-data-rendoblim-en-all-20170502_1430.csv\")\n",
    "df['Date'] = pd.to_datetime(df['Date'])\n",
    "df.set_index(['Date', 'D0'], inplace=True)\n",
    "df.sort_index(inplace=True)\n",
    "df.head()"
   ]
  },
  {
   "cell_type": "code",
   "execution_count": 10,
   "metadata": {},
   "outputs": [
    {
     "data": {
      "text/html": [
       "<div>\n",
       "<style scoped>\n",
       "    .dataframe tbody tr th:only-of-type {\n",
       "        vertical-align: middle;\n",
       "    }\n",
       "\n",
       "    .dataframe tbody tr th {\n",
       "        vertical-align: top;\n",
       "    }\n",
       "\n",
       "    .dataframe thead th {\n",
       "        text-align: right;\n",
       "    }\n",
       "</style>\n",
       "<table border=\"1\" class=\"dataframe\">\n",
       "  <thead>\n",
       "    <tr style=\"text-align: right;\">\n",
       "      <th></th>\n",
       "      <th></th>\n",
       "      <th>Value</th>\n",
       "    </tr>\n",
       "    <tr>\n",
       "      <th>Date</th>\n",
       "      <th>D0</th>\n",
       "      <th></th>\n",
       "    </tr>\n",
       "  </thead>\n",
       "  <tbody>\n",
       "    <tr>\n",
       "      <th>1988-01-01</th>\n",
       "      <th>1J</th>\n",
       "      <td>2.887</td>\n",
       "    </tr>\n",
       "    <tr>\n",
       "      <th>1988-02-01</th>\n",
       "      <th>1J</th>\n",
       "      <td>2.638</td>\n",
       "    </tr>\n",
       "    <tr>\n",
       "      <th>1988-03-01</th>\n",
       "      <th>1J</th>\n",
       "      <td>2.641</td>\n",
       "    </tr>\n",
       "    <tr>\n",
       "      <th>1988-04-01</th>\n",
       "      <th>1J</th>\n",
       "      <td>2.800</td>\n",
       "    </tr>\n",
       "    <tr>\n",
       "      <th>1988-05-01</th>\n",
       "      <th>1J</th>\n",
       "      <td>3.191</td>\n",
       "    </tr>\n",
       "  </tbody>\n",
       "</table>\n",
       "</div>"
      ],
      "text/plain": [
       "               Value\n",
       "Date       D0       \n",
       "1988-01-01 1J  2.887\n",
       "1988-02-01 1J  2.638\n",
       "1988-03-01 1J  2.641\n",
       "1988-04-01 1J  2.800\n",
       "1988-05-01 1J  3.191"
      ]
     },
     "execution_count": 10,
     "metadata": {},
     "output_type": "execute_result"
    }
   ],
   "source": [
    "one_year_df = df.loc[(slice(None), '1J'), :]\n",
    "one_year_df.head()"
   ]
  },
  {
   "cell_type": "code",
   "execution_count": 11,
   "metadata": {},
   "outputs": [
    {
     "data": {
      "text/html": [
       "<div>\n",
       "<style scoped>\n",
       "    .dataframe tbody tr th:only-of-type {\n",
       "        vertical-align: middle;\n",
       "    }\n",
       "\n",
       "    .dataframe tbody tr th {\n",
       "        vertical-align: top;\n",
       "    }\n",
       "\n",
       "    .dataframe thead th {\n",
       "        text-align: right;\n",
       "    }\n",
       "</style>\n",
       "<table border=\"1\" class=\"dataframe\">\n",
       "  <thead>\n",
       "    <tr style=\"text-align: right;\">\n",
       "      <th></th>\n",
       "      <th>Date</th>\n",
       "      <th>D0</th>\n",
       "      <th>Value</th>\n",
       "    </tr>\n",
       "  </thead>\n",
       "  <tbody>\n",
       "    <tr>\n",
       "      <th>0</th>\n",
       "      <td>1988-01-01</td>\n",
       "      <td>1J</td>\n",
       "      <td>2.887</td>\n",
       "    </tr>\n",
       "    <tr>\n",
       "      <th>1</th>\n",
       "      <td>1988-02-01</td>\n",
       "      <td>1J</td>\n",
       "      <td>2.638</td>\n",
       "    </tr>\n",
       "    <tr>\n",
       "      <th>2</th>\n",
       "      <td>1988-03-01</td>\n",
       "      <td>1J</td>\n",
       "      <td>2.641</td>\n",
       "    </tr>\n",
       "    <tr>\n",
       "      <th>3</th>\n",
       "      <td>1988-04-01</td>\n",
       "      <td>1J</td>\n",
       "      <td>2.800</td>\n",
       "    </tr>\n",
       "    <tr>\n",
       "      <th>4</th>\n",
       "      <td>1988-05-01</td>\n",
       "      <td>1J</td>\n",
       "      <td>3.191</td>\n",
       "    </tr>\n",
       "  </tbody>\n",
       "</table>\n",
       "</div>"
      ],
      "text/plain": [
       "        Date  D0  Value\n",
       "0 1988-01-01  1J  2.887\n",
       "1 1988-02-01  1J  2.638\n",
       "2 1988-03-01  1J  2.641\n",
       "3 1988-04-01  1J  2.800\n",
       "4 1988-05-01  1J  3.191"
      ]
     },
     "execution_count": 11,
     "metadata": {},
     "output_type": "execute_result"
    }
   ],
   "source": [
    "tdf = one_year_df.reset_index()\n",
    "tdf.head()"
   ]
  },
  {
   "cell_type": "code",
   "execution_count": 12,
   "metadata": {},
   "outputs": [
    {
     "data": {
      "image/png": "[encoded data removed]",
      "text/plain": [
       "<Figure size 432x288 with 1 Axes>"
      ]
     },
     "metadata": {
      "needs_background": "light"
     },
     "output_type": "display_data"
    }
   ],
   "source": [
    "# Plot data, getting labels from the index\n",
    "fig, ax = plt.subplots()\n",
    "tdf = one_year_df.reset_index(1)\n",
    "ax.plot(tdf.index, tdf['Value'], label='1Y yield')\n",
    "ax.set_xlim(tdf.index[0], tdf.index[-1])\n",
    "ax.legend()\n",
    "None"
   ]
  },
  {
   "cell_type": "code",
   "execution_count": 13,
   "metadata": {},
   "outputs": [
    {
     "data": {
      "image/png": "[encoded data removed]",
      "text/plain": [
       "<Figure size 432x288 with 1 Axes>"
      ]
     },
     "metadata": {
      "needs_background": "light"
     },
     "output_type": "display_data"
    }
   ],
   "source": [
    "# Notice the more intelligent labling of x-axis\n",
    "ax = one_year_df.reset_index(1).plot(y='Value', label='1Y yield')"
   ]
  },
  {
   "cell_type": "markdown",
   "metadata": {},
   "source": [
    "# Styling"
   ]
  },
  {
   "cell_type": "code",
   "execution_count": 14,
   "metadata": {},
   "outputs": [
    {
     "data": {
      "text/plain": [
       "['seaborn-dark',\n",
       " 'seaborn-darkgrid',\n",
       " 'seaborn-ticks',\n",
       " 'fivethirtyeight',\n",
       " 'seaborn-whitegrid',\n",
       " 'classic',\n",
       " '_classic_test',\n",
       " 'fast',\n",
       " 'seaborn-talk',\n",
       " 'seaborn-dark-palette',\n",
       " 'seaborn-bright',\n",
       " 'seaborn-pastel',\n",
       " 'grayscale',\n",
       " 'seaborn-notebook',\n",
       " 'ggplot',\n",
       " 'seaborn-colorblind',\n",
       " 'seaborn-muted',\n",
       " 'seaborn',\n",
       " 'Solarize_Light2',\n",
       " 'seaborn-paper',\n",
       " 'bmh',\n",
       " 'tableau-colorblind10',\n",
       " 'seaborn-white',\n",
       " 'dark_background',\n",
       " 'seaborn-poster',\n",
       " 'seaborn-deep',\n",
       " 'ciyer']"
      ]
     },
     "execution_count": 14,
     "metadata": {},
     "output_type": "execute_result"
    }
   ],
   "source": [
    "plt.style.available"
   ]
  },
  {
   "cell_type": "code",
   "execution_count": 15,
   "metadata": {},
   "outputs": [
    {
     "data": {
      "image/png": "[encoded data removed]",
      "text/plain": [
       "<Figure size 432x288 with 1 Axes>"
      ]
     },
     "metadata": {},
     "output_type": "display_data"
    }
   ],
   "source": [
    "# plt.style.use('fivethirtyeight')\n",
    "with plt.style.context(('fivethirtyeight')):\n",
    "    one_year_df.reset_index(1).plot(y='Value', label='1Y yield')"
   ]
  },
  {
   "cell_type": "code",
   "execution_count": 16,
   "metadata": {},
   "outputs": [
    {
     "data": {
      "image/png": "[encoded data removed]",
      "text/plain": [
       "<Figure size 432x288 with 1 Axes>"
      ]
     },
     "metadata": {},
     "output_type": "display_data"
    }
   ],
   "source": [
    "with plt.style.context(('ggplot')):\n",
    "    one_year_df.reset_index(1).plot(y='Value', label='1Y yield')"
   ]
  },
  {
   "cell_type": "code",
   "execution_count": 17,
   "metadata": {},
   "outputs": [
    {
     "data": {
      "image/png": "[encoded data removed]",
      "text/plain": [
       "<Figure size 432x288 with 1 Axes>"
      ]
     },
     "metadata": {},
     "output_type": "display_data"
    }
   ],
   "source": [
    "import seaborn as sns\n",
    "with plt.style.context(('seaborn-darkgrid')):\n",
    "    ax = one_year_df.reset_index(1).plot(y='Value', label='1Y yield')"
   ]
  },
  {
   "cell_type": "code",
   "execution_count": 18,
   "metadata": {},
   "outputs": [
    {
     "data": {
      "image/png": "[encoded data removed]",
      "text/plain": [
       "<Figure size 432x288 with 1 Axes>"
      ]
     },
     "metadata": {},
     "output_type": "display_data"
    }
   ],
   "source": [
    "sns.set()\n",
    "ax = one_year_df.reset_index(1).plot(y='Value', label='1Y yield')\n",
    "ax.set_title(\"Swiss Bond Yields\")\n",
    "None"
   ]
  },
  {
   "cell_type": "markdown",
   "metadata": {},
   "source": [
    "# Boxplots"
   ]
  },
  {
   "cell_type": "code",
   "execution_count": 19,
   "metadata": {},
   "outputs": [
    {
     "data": {
      "text/html": [
       "<div>\n",
       "<style scoped>\n",
       "    .dataframe tbody tr th:only-of-type {\n",
       "        vertical-align: middle;\n",
       "    }\n",
       "\n",
       "    .dataframe tbody tr th {\n",
       "        vertical-align: top;\n",
       "    }\n",
       "\n",
       "    .dataframe thead th {\n",
       "        text-align: right;\n",
       "    }\n",
       "</style>\n",
       "<table border=\"1\" class=\"dataframe\">\n",
       "  <thead>\n",
       "    <tr style=\"text-align: right;\">\n",
       "      <th></th>\n",
       "      <th></th>\n",
       "      <th>Value</th>\n",
       "    </tr>\n",
       "    <tr>\n",
       "      <th>Date</th>\n",
       "      <th>D0</th>\n",
       "      <th></th>\n",
       "    </tr>\n",
       "  </thead>\n",
       "  <tbody>\n",
       "    <tr>\n",
       "      <th rowspan=\"5\" valign=\"top\">1988-01-01</th>\n",
       "      <th>10J</th>\n",
       "      <td>4.092</td>\n",
       "    </tr>\n",
       "    <tr>\n",
       "      <th>1J</th>\n",
       "      <td>2.887</td>\n",
       "    </tr>\n",
       "    <tr>\n",
       "      <th>20J</th>\n",
       "      <td>4.326</td>\n",
       "    </tr>\n",
       "    <tr>\n",
       "      <th>2J</th>\n",
       "      <td>3.218</td>\n",
       "    </tr>\n",
       "    <tr>\n",
       "      <th>30J</th>\n",
       "      <td>NaN</td>\n",
       "    </tr>\n",
       "  </tbody>\n",
       "</table>\n",
       "</div>"
      ],
      "text/plain": [
       "                Value\n",
       "Date       D0        \n",
       "1988-01-01 10J  4.092\n",
       "           1J   2.887\n",
       "           20J  4.326\n",
       "           2J   3.218\n",
       "           30J    NaN"
      ]
     },
     "execution_count": 19,
     "metadata": {},
     "output_type": "execute_result"
    }
   ],
   "source": [
    "df.head()"
   ]
  },
  {
   "cell_type": "code",
   "execution_count": 20,
   "metadata": {
    "scrolled": true
   },
   "outputs": [
    {
     "data": {
      "text/plain": [
       "<matplotlib.axes._subplots.AxesSubplot at 0x1181459b0>"
      ]
     },
     "execution_count": 20,
     "metadata": {},
     "output_type": "execute_result"
    },
    {
     "data": {
      "image/png": "[encoded data removed]",
      "text/plain": [
       "<Figure size 432x288 with 1 Axes>"
      ]
     },
     "metadata": {},
     "output_type": "display_data"
    },
    {
     "data": {
      "image/png": "[encoded data removed]",
      "text/plain": [
       "<Figure size 432x288 with 1 Axes>"
      ]
     },
     "metadata": {},
     "output_type": "display_data"
    }
   ],
   "source": [
    "df.loc[(slice(None), '1J'), :].plot.box(y='Value', label='1Y yield')\n",
    "df.loc[(slice(None), '1J'), :].plot.box(y='Value', label='2Y yield')"
   ]
  },
  {
   "cell_type": "code",
   "execution_count": 21,
   "metadata": {},
   "outputs": [
    {
     "data": {
      "text/html": [
       "<div>\n",
       "<style scoped>\n",
       "    .dataframe tbody tr th:only-of-type {\n",
       "        vertical-align: middle;\n",
       "    }\n",
       "\n",
       "    .dataframe tbody tr th {\n",
       "        vertical-align: top;\n",
       "    }\n",
       "\n",
       "    .dataframe thead th {\n",
       "        text-align: right;\n",
       "    }\n",
       "</style>\n",
       "<table border=\"1\" class=\"dataframe\">\n",
       "  <thead>\n",
       "    <tr style=\"text-align: right;\">\n",
       "      <th>D0</th>\n",
       "      <th>10J</th>\n",
       "      <th>1J</th>\n",
       "      <th>20J</th>\n",
       "      <th>2J</th>\n",
       "      <th>30J</th>\n",
       "      <th>3J</th>\n",
       "      <th>4J</th>\n",
       "      <th>5J</th>\n",
       "      <th>6J</th>\n",
       "      <th>7J</th>\n",
       "      <th>8J</th>\n",
       "      <th>9J</th>\n",
       "    </tr>\n",
       "    <tr>\n",
       "      <th>Date</th>\n",
       "      <th></th>\n",
       "      <th></th>\n",
       "      <th></th>\n",
       "      <th></th>\n",
       "      <th></th>\n",
       "      <th></th>\n",
       "      <th></th>\n",
       "      <th></th>\n",
       "      <th></th>\n",
       "      <th></th>\n",
       "      <th></th>\n",
       "      <th></th>\n",
       "    </tr>\n",
       "  </thead>\n",
       "  <tbody>\n",
       "    <tr>\n",
       "      <th>1988-01-01</th>\n",
       "      <td>4.092</td>\n",
       "      <td>2.887</td>\n",
       "      <td>4.326</td>\n",
       "      <td>3.218</td>\n",
       "      <td>NaN</td>\n",
       "      <td>3.393</td>\n",
       "      <td>3.554</td>\n",
       "      <td>3.695</td>\n",
       "      <td>3.810</td>\n",
       "      <td>3.904</td>\n",
       "      <td>3.980</td>\n",
       "      <td>4.041</td>\n",
       "    </tr>\n",
       "    <tr>\n",
       "      <th>1988-02-01</th>\n",
       "      <td>4.098</td>\n",
       "      <td>2.638</td>\n",
       "      <td>4.332</td>\n",
       "      <td>2.990</td>\n",
       "      <td>NaN</td>\n",
       "      <td>3.271</td>\n",
       "      <td>3.498</td>\n",
       "      <td>3.672</td>\n",
       "      <td>3.804</td>\n",
       "      <td>3.905</td>\n",
       "      <td>3.984</td>\n",
       "      <td>4.047</td>\n",
       "    </tr>\n",
       "    <tr>\n",
       "      <th>1988-03-01</th>\n",
       "      <td>3.998</td>\n",
       "      <td>2.641</td>\n",
       "      <td>4.255</td>\n",
       "      <td>3.263</td>\n",
       "      <td>NaN</td>\n",
       "      <td>3.573</td>\n",
       "      <td>3.734</td>\n",
       "      <td>3.823</td>\n",
       "      <td>3.878</td>\n",
       "      <td>3.916</td>\n",
       "      <td>3.946</td>\n",
       "      <td>3.972</td>\n",
       "    </tr>\n",
       "    <tr>\n",
       "      <th>1988-04-01</th>\n",
       "      <td>3.965</td>\n",
       "      <td>2.800</td>\n",
       "      <td>4.200</td>\n",
       "      <td>3.250</td>\n",
       "      <td>NaN</td>\n",
       "      <td>3.467</td>\n",
       "      <td>3.594</td>\n",
       "      <td>3.684</td>\n",
       "      <td>3.757</td>\n",
       "      <td>3.819</td>\n",
       "      <td>3.874</td>\n",
       "      <td>3.923</td>\n",
       "    </tr>\n",
       "    <tr>\n",
       "      <th>1988-05-01</th>\n",
       "      <td>4.127</td>\n",
       "      <td>3.191</td>\n",
       "      <td>4.247</td>\n",
       "      <td>3.602</td>\n",
       "      <td>NaN</td>\n",
       "      <td>3.802</td>\n",
       "      <td>3.909</td>\n",
       "      <td>3.974</td>\n",
       "      <td>4.019</td>\n",
       "      <td>4.054</td>\n",
       "      <td>4.082</td>\n",
       "      <td>4.106</td>\n",
       "    </tr>\n",
       "  </tbody>\n",
       "</table>\n",
       "</div>"
      ],
      "text/plain": [
       "D0            10J     1J    20J     2J  30J     3J     4J     5J     6J  \\\n",
       "Date                                                                      \n",
       "1988-01-01  4.092  2.887  4.326  3.218  NaN  3.393  3.554  3.695  3.810   \n",
       "1988-02-01  4.098  2.638  4.332  2.990  NaN  3.271  3.498  3.672  3.804   \n",
       "1988-03-01  3.998  2.641  4.255  3.263  NaN  3.573  3.734  3.823  3.878   \n",
       "1988-04-01  3.965  2.800  4.200  3.250  NaN  3.467  3.594  3.684  3.757   \n",
       "1988-05-01  4.127  3.191  4.247  3.602  NaN  3.802  3.909  3.974  4.019   \n",
       "\n",
       "D0             7J     8J     9J  \n",
       "Date                             \n",
       "1988-01-01  3.904  3.980  4.041  \n",
       "1988-02-01  3.905  3.984  4.047  \n",
       "1988-03-01  3.916  3.946  3.972  \n",
       "1988-04-01  3.819  3.874  3.923  \n",
       "1988-05-01  4.054  4.082  4.106  "
      ]
     },
     "execution_count": 21,
     "metadata": {},
     "output_type": "execute_result"
    }
   ],
   "source": [
    "df = df.unstack()['Value']\n",
    "df.head()"
   ]
  },
  {
   "cell_type": "code",
   "execution_count": 22,
   "metadata": {},
   "outputs": [
    {
     "data": {
      "image/png": "[encoded data removed]",
      "text/plain": [
       "<Figure size 432x288 with 1 Axes>"
      ]
     },
     "metadata": {},
     "output_type": "display_data"
    }
   ],
   "source": [
    "# Exercise: Fix the x-axis labels -- they should say 1Y, 2Y, etc.\n",
    "cols = [\"{}J\".format(idx) for idx in range(1, 11)]\n",
    "cols.extend(['20J', '30J'])\n",
    "ax = df.boxplot(column=cols)\n",
    "ax.set_title('Yield')\n",
    "None"
   ]
  },
  {
   "cell_type": "markdown",
   "metadata": {},
   "source": [
    "# Scatterplots"
   ]
  },
  {
   "cell_type": "code",
   "execution_count": 23,
   "metadata": {},
   "outputs": [
    {
     "name": "stderr",
     "output_type": "stream",
     "text": [
      "'c' argument looks like a single numeric RGB or RGBA sequence, which should be avoided as value-mapping will have precedence in case its length matches with 'x' & 'y'.  Please use a 2-D array with a single row if you really want to specify the same RGB or RGBA value for all points.\n"
     ]
    },
    {
     "data": {
      "text/plain": [
       "<matplotlib.axes._subplots.AxesSubplot at 0x1a1a172940>"
      ]
     },
     "execution_count": 23,
     "metadata": {},
     "output_type": "execute_result"
    },
    {
     "data": {
      "image/png": "[encoded data removed]",
      "text/plain": [
       "<Figure size 432x288 with 1 Axes>"
      ]
     },
     "metadata": {},
     "output_type": "display_data"
    }
   ],
   "source": [
    "df.plot.scatter(x='1J', y='2J', label='1Y vs 2Y yield')"
   ]
  },
  {
   "cell_type": "code",
   "execution_count": 24,
   "metadata": {},
   "outputs": [
    {
     "name": "stderr",
     "output_type": "stream",
     "text": [
      "'c' argument looks like a single numeric RGB or RGBA sequence, which should be avoided as value-mapping will have precedence in case its length matches with 'x' & 'y'.  Please use a 2-D array with a single row if you really want to specify the same RGB or RGBA value for all points.\n"
     ]
    },
    {
     "data": {
      "image/png": "[encoded data removed]",
      "text/plain": [
       "<Figure size 432x288 with 1 Axes>"
      ]
     },
     "metadata": {},
     "output_type": "display_data"
    }
   ],
   "source": [
    "# Q: Why is x axis different in the vs. above plot?\n",
    "ax = df.plot.scatter(x='1J', y='30J', label='1Y vs 30Y yield')\n",
    "ax.xaxis.label.set_text('1Y')\n",
    "ax.yaxis.label.set_text('30Y')"
   ]
  },
  {
   "cell_type": "markdown",
   "metadata": {},
   "source": [
    "# Bar Charts"
   ]
  },
  {
   "cell_type": "code",
   "execution_count": 25,
   "metadata": {},
   "outputs": [
    {
     "data": {
      "text/plain": [
       "<matplotlib.axes._subplots.AxesSubplot at 0x1a1a1d4588>"
      ]
     },
     "execution_count": 25,
     "metadata": {},
     "output_type": "execute_result"
    },
    {
     "data": {
      "image/png": "[encoded data removed]",
      "text/plain": [
       "<Figure size 432x288 with 1 Axes>"
      ]
     },
     "metadata": {},
     "output_type": "display_data"
    }
   ],
   "source": [
    "tdf = pd.DataFrame(df)\n",
    "tdf['year'] = [x.year for x in tdf.index]\n",
    "tdf.groupby('year').mean()['1J'].plot.bar(color=sns.color_palette()[0])"
   ]
  },
  {
   "cell_type": "markdown",
   "metadata": {},
   "source": [
    "# Heatmaps (with Seaborn)"
   ]
  },
  {
   "cell_type": "code",
   "execution_count": 26,
   "metadata": {},
   "outputs": [],
   "source": [
    "import seaborn as sns"
   ]
  },
  {
   "cell_type": "code",
   "execution_count": 27,
   "metadata": {},
   "outputs": [
    {
     "data": {
      "text/html": [
       "<div>\n",
       "<style scoped>\n",
       "    .dataframe tbody tr th:only-of-type {\n",
       "        vertical-align: middle;\n",
       "    }\n",
       "\n",
       "    .dataframe tbody tr th {\n",
       "        vertical-align: top;\n",
       "    }\n",
       "\n",
       "    .dataframe thead th {\n",
       "        text-align: right;\n",
       "    }\n",
       "</style>\n",
       "<table border=\"1\" class=\"dataframe\">\n",
       "  <thead>\n",
       "    <tr style=\"text-align: right;\">\n",
       "      <th>Yield</th>\n",
       "      <th>1J</th>\n",
       "      <th>2J</th>\n",
       "      <th>3J</th>\n",
       "      <th>4J</th>\n",
       "      <th>5J</th>\n",
       "      <th>6J</th>\n",
       "      <th>7J</th>\n",
       "      <th>8J</th>\n",
       "      <th>9J</th>\n",
       "      <th>10J</th>\n",
       "      <th>20J</th>\n",
       "      <th>30J</th>\n",
       "    </tr>\n",
       "    <tr>\n",
       "      <th>Date</th>\n",
       "      <th></th>\n",
       "      <th></th>\n",
       "      <th></th>\n",
       "      <th></th>\n",
       "      <th></th>\n",
       "      <th></th>\n",
       "      <th></th>\n",
       "      <th></th>\n",
       "      <th></th>\n",
       "      <th></th>\n",
       "      <th></th>\n",
       "      <th></th>\n",
       "    </tr>\n",
       "  </thead>\n",
       "  <tbody>\n",
       "    <tr>\n",
       "      <th>1988-01-01</th>\n",
       "      <td>2.887</td>\n",
       "      <td>3.218</td>\n",
       "      <td>3.393</td>\n",
       "      <td>3.554</td>\n",
       "      <td>3.695</td>\n",
       "      <td>3.810</td>\n",
       "      <td>3.904</td>\n",
       "      <td>3.980</td>\n",
       "      <td>4.041</td>\n",
       "      <td>4.092</td>\n",
       "      <td>4.326</td>\n",
       "      <td>NaN</td>\n",
       "    </tr>\n",
       "    <tr>\n",
       "      <th>1988-02-01</th>\n",
       "      <td>2.638</td>\n",
       "      <td>2.990</td>\n",
       "      <td>3.271</td>\n",
       "      <td>3.498</td>\n",
       "      <td>3.672</td>\n",
       "      <td>3.804</td>\n",
       "      <td>3.905</td>\n",
       "      <td>3.984</td>\n",
       "      <td>4.047</td>\n",
       "      <td>4.098</td>\n",
       "      <td>4.332</td>\n",
       "      <td>NaN</td>\n",
       "    </tr>\n",
       "    <tr>\n",
       "      <th>1988-03-01</th>\n",
       "      <td>2.641</td>\n",
       "      <td>3.263</td>\n",
       "      <td>3.573</td>\n",
       "      <td>3.734</td>\n",
       "      <td>3.823</td>\n",
       "      <td>3.878</td>\n",
       "      <td>3.916</td>\n",
       "      <td>3.946</td>\n",
       "      <td>3.972</td>\n",
       "      <td>3.998</td>\n",
       "      <td>4.255</td>\n",
       "      <td>NaN</td>\n",
       "    </tr>\n",
       "    <tr>\n",
       "      <th>1988-04-01</th>\n",
       "      <td>2.800</td>\n",
       "      <td>3.250</td>\n",
       "      <td>3.467</td>\n",
       "      <td>3.594</td>\n",
       "      <td>3.684</td>\n",
       "      <td>3.757</td>\n",
       "      <td>3.819</td>\n",
       "      <td>3.874</td>\n",
       "      <td>3.923</td>\n",
       "      <td>3.965</td>\n",
       "      <td>4.200</td>\n",
       "      <td>NaN</td>\n",
       "    </tr>\n",
       "    <tr>\n",
       "      <th>1988-05-01</th>\n",
       "      <td>3.191</td>\n",
       "      <td>3.602</td>\n",
       "      <td>3.802</td>\n",
       "      <td>3.909</td>\n",
       "      <td>3.974</td>\n",
       "      <td>4.019</td>\n",
       "      <td>4.054</td>\n",
       "      <td>4.082</td>\n",
       "      <td>4.106</td>\n",
       "      <td>4.127</td>\n",
       "      <td>4.247</td>\n",
       "      <td>NaN</td>\n",
       "    </tr>\n",
       "  </tbody>\n",
       "</table>\n",
       "</div>"
      ],
      "text/plain": [
       "Yield          1J     2J     3J     4J     5J     6J     7J     8J     9J  \\\n",
       "Date                                                                        \n",
       "1988-01-01  2.887  3.218  3.393  3.554  3.695  3.810  3.904  3.980  4.041   \n",
       "1988-02-01  2.638  2.990  3.271  3.498  3.672  3.804  3.905  3.984  4.047   \n",
       "1988-03-01  2.641  3.263  3.573  3.734  3.823  3.878  3.916  3.946  3.972   \n",
       "1988-04-01  2.800  3.250  3.467  3.594  3.684  3.757  3.819  3.874  3.923   \n",
       "1988-05-01  3.191  3.602  3.802  3.909  3.974  4.019  4.054  4.082  4.106   \n",
       "\n",
       "Yield         10J    20J  30J  \n",
       "Date                           \n",
       "1988-01-01  4.092  4.326  NaN  \n",
       "1988-02-01  4.098  4.332  NaN  \n",
       "1988-03-01  3.998  4.255  NaN  \n",
       "1988-04-01  3.965  4.200  NaN  \n",
       "1988-05-01  4.127  4.247  NaN  "
      ]
     },
     "execution_count": 27,
     "metadata": {},
     "output_type": "execute_result"
    }
   ],
   "source": [
    "df = pd.read_csv(\"../data/snb-data-rendoblim-en-all-20170502_1430.csv\")\n",
    "df['Date'] = pd.to_datetime(df['Date'])\n",
    "df.set_index(['Date', 'D0'], inplace=True)\n",
    "df.sort_index(inplace=True)\n",
    "df = df.unstack()['Value']\n",
    "cols = [\"{}J\".format(idx) for idx in range(1, 11)]\n",
    "cols.extend(['20J', '30J'])\n",
    "df = df[cols]\n",
    "df.columns.name='Yield'\n",
    "df.head()"
   ]
  },
  {
   "cell_type": "markdown",
   "metadata": {},
   "source": [
    "# Heatmap"
   ]
  },
  {
   "cell_type": "code",
   "execution_count": 28,
   "metadata": {},
   "outputs": [
    {
     "data": {
      "image/png": "[encoded data removed]",
      "text/plain": [
       "<Figure size 432x288 with 2 Axes>"
      ]
     },
     "metadata": {},
     "output_type": "display_data"
    }
   ],
   "source": [
    "labels = [t.strftime(\"%Y-%m\") if i%12 == 0 else \"\" for i, t in enumerate(df.index)]\n",
    "ax = sns.heatmap(df, yticklabels=labels)"
   ]
  },
  {
   "cell_type": "code",
   "execution_count": 29,
   "metadata": {},
   "outputs": [
    {
     "data": {
      "image/png": "[encoded data removed]",
      "text/plain": [
       "<Figure size 432x288 with 2 Axes>"
      ]
     },
     "metadata": {},
     "output_type": "display_data"
    }
   ],
   "source": [
    "# Exercise: fix the x labels -- they should be 1Y, 2Y, etc\n",
    "labels = [t.strftime(\"%Y-%m\") if i%12 == 0 else \"\" for i, t in enumerate(df.index)]\n",
    "ax = sns.heatmap(df, yticklabels=labels, center=df.stack().mean())"
   ]
  },
  {
   "cell_type": "code",
   "execution_count": 30,
   "metadata": {},
   "outputs": [
    {
     "data": {
      "image/png": "[encoded data removed]",
      "text/plain": [
       "<Figure size 432x288 with 2 Axes>"
      ]
     },
     "metadata": {},
     "output_type": "display_data"
    }
   ],
   "source": [
    "# Exercise: fix the x labels -- they should be 1Y, 2Y, etc\n",
    "labels = [t.strftime(\"%Y-%m\") if i%12 == 0 else \"\" for i, t in enumerate(df.index)]\n",
    "ax = sns.heatmap(df, yticklabels=labels, center=df.stack().mean(), cmap='RdBu_r')"
   ]
  },
  {
   "cell_type": "markdown",
   "metadata": {},
   "source": [
    "# Clustermap"
   ]
  },
  {
   "cell_type": "code",
   "execution_count": 31,
   "metadata": {},
   "outputs": [
    {
     "data": {
      "image/png": "[encoded data removed]",
      "text/plain": [
       "<Figure size 576x2880 with 4 Axes>"
      ]
     },
     "metadata": {},
     "output_type": "display_data"
    }
   ],
   "source": [
    "labels = [t.strftime(\"%Y-%m\") for t in df.index]\n",
    "cg = sns.clustermap(df.dropna(), yticklabels=labels, robust=True, figsize=(8, 40))\n",
    "plt.setp(cg.ax_heatmap.yaxis.get_majorticklabels(), rotation=0)\n",
    "None"
   ]
  },
  {
   "cell_type": "markdown",
   "metadata": {},
   "source": [
    "# Boxplot"
   ]
  },
  {
   "cell_type": "code",
   "execution_count": 32,
   "metadata": {},
   "outputs": [
    {
     "data": {
      "image/png": "[encoded data removed]",
      "text/plain": [
       "<Figure size 432x288 with 1 Axes>"
      ]
     },
     "metadata": {},
     "output_type": "display_data"
    }
   ],
   "source": [
    "ax = sns.boxplot(data=df)"
   ]
  },
  {
   "cell_type": "code",
   "execution_count": 33,
   "metadata": {},
   "outputs": [
    {
     "data": {
      "image/png": "[encoded data removed]",
      "text/plain": [
       "<Figure size 432x288 with 1 Axes>"
      ]
     },
     "metadata": {},
     "output_type": "display_data"
    }
   ],
   "source": [
    "ax = sns.boxplot(data=df, color='steelblue')"
   ]
  },
  {
   "cell_type": "markdown",
   "metadata": {},
   "source": [
    "# Scatterplot"
   ]
  },
  {
   "cell_type": "code",
   "execution_count": 34,
   "metadata": {},
   "outputs": [
    {
     "data": {
      "image/png": "[encoded data removed]",
      "text/plain": [
       "<Figure size 432x288 with 1 Axes>"
      ]
     },
     "metadata": {},
     "output_type": "display_data"
    }
   ],
   "source": [
    "ax = sns.regplot(x='1J', y='2J', data=df)"
   ]
  },
  {
   "cell_type": "code",
   "execution_count": 35,
   "metadata": {},
   "outputs": [
    {
     "data": {
      "image/png": "[encoded data removed]",
      "text/plain": [
       "<Figure size 432x288 with 1 Axes>"
      ]
     },
     "metadata": {},
     "output_type": "display_data"
    }
   ],
   "source": [
    "# Q: Why is x axis different in the vs. above plot?\n",
    "ax = sns.regplot(x='1J', y='30J', data=df)"
   ]
  },
  {
   "cell_type": "code",
   "execution_count": 36,
   "metadata": {},
   "outputs": [
    {
     "data": {
      "text/plain": [
       "<matplotlib.axes._subplots.AxesSubplot at 0x1a1a117080>"
      ]
     },
     "execution_count": 36,
     "metadata": {},
     "output_type": "execute_result"
    },
    {
     "data": {
      "image/png": "[encoded data removed]",
      "text/plain": [
       "<Figure size 432x288 with 1 Axes>"
      ]
     },
     "metadata": {},
     "output_type": "display_data"
    }
   ],
   "source": [
    "sns.regplot(x='1J', y='30J', lowess=True, data=df)"
   ]
  },
  {
   "cell_type": "markdown",
   "metadata": {},
   "source": [
    "# Barplot"
   ]
  },
  {
   "cell_type": "code",
   "execution_count": 37,
   "metadata": {},
   "outputs": [
    {
     "data": {
      "image/png": "[encoded data removed]",
      "text/plain": [
       "<Figure size 432x288 with 1 Axes>"
      ]
     },
     "metadata": {},
     "output_type": "display_data"
    }
   ],
   "source": [
    "tdf = pd.DataFrame(df)\n",
    "tdf['Year'] = [x.year for x in tdf.index]\n",
    "fig, ax = plt.subplots()\n",
    "sns.barplot(x='Year', y='1J', color=\"steelblue\", data=df, ax=ax)\n",
    "plt.setp(ax.xaxis.get_majorticklabels(), rotation=90)\n",
    "None"
   ]
  },
  {
   "cell_type": "markdown",
   "metadata": {},
   "source": [
    "# Altair"
   ]
  },
  {
   "cell_type": "code",
   "execution_count": 38,
   "metadata": {},
   "outputs": [],
   "source": [
    "import altair as alt"
   ]
  },
  {
   "cell_type": "code",
   "execution_count": 39,
   "metadata": {},
   "outputs": [
    {
     "data": {
      "text/html": [
       "<div>\n",
       "<style scoped>\n",
       "    .dataframe tbody tr th:only-of-type {\n",
       "        vertical-align: middle;\n",
       "    }\n",
       "\n",
       "    .dataframe tbody tr th {\n",
       "        vertical-align: top;\n",
       "    }\n",
       "\n",
       "    .dataframe thead th {\n",
       "        text-align: right;\n",
       "    }\n",
       "</style>\n",
       "<table border=\"1\" class=\"dataframe\">\n",
       "  <thead>\n",
       "    <tr style=\"text-align: right;\">\n",
       "      <th></th>\n",
       "      <th>Date</th>\n",
       "      <th>D0</th>\n",
       "      <th>Value</th>\n",
       "    </tr>\n",
       "  </thead>\n",
       "  <tbody>\n",
       "    <tr>\n",
       "      <th>0</th>\n",
       "      <td>1988-01</td>\n",
       "      <td>1J</td>\n",
       "      <td>2.887</td>\n",
       "    </tr>\n",
       "    <tr>\n",
       "      <th>1</th>\n",
       "      <td>1988-01</td>\n",
       "      <td>2J</td>\n",
       "      <td>3.218</td>\n",
       "    </tr>\n",
       "    <tr>\n",
       "      <th>2</th>\n",
       "      <td>1988-01</td>\n",
       "      <td>3J</td>\n",
       "      <td>3.393</td>\n",
       "    </tr>\n",
       "    <tr>\n",
       "      <th>3</th>\n",
       "      <td>1988-01</td>\n",
       "      <td>4J</td>\n",
       "      <td>3.554</td>\n",
       "    </tr>\n",
       "    <tr>\n",
       "      <th>4</th>\n",
       "      <td>1988-01</td>\n",
       "      <td>5J</td>\n",
       "      <td>3.695</td>\n",
       "    </tr>\n",
       "  </tbody>\n",
       "</table>\n",
       "</div>"
      ],
      "text/plain": [
       "      Date  D0  Value\n",
       "0  1988-01  1J  2.887\n",
       "1  1988-01  2J  3.218\n",
       "2  1988-01  3J  3.393\n",
       "3  1988-01  4J  3.554\n",
       "4  1988-01  5J  3.695"
      ]
     },
     "execution_count": 39,
     "metadata": {},
     "output_type": "execute_result"
    }
   ],
   "source": [
    "df = pd.read_csv(\"../data/snb-data-rendoblim-en-all-20170502_1430.csv\")\n",
    "df.head()"
   ]
  },
  {
   "cell_type": "code",
   "execution_count": 40,
   "metadata": {},
   "outputs": [
    {
     "data": {
      "application/vnd.vegalite.v2+json": {
       "$schema": "https://vega.github.io/schema/vega-lite/v2.6.0.json",
       "config": {
        "view": {
         "height": 300,
         "width": 400
        }
       },
       "data": {
        "name": "data-7e04f2be882335432fdcc1724f9001fa"
       },
       "datasets": {
        "data-7e04f2be882335432fdcc1724f9001fa": [
         {
          "Date": "1988-01-01T00:00:00",
          "Duration": "1J",
          "Value": 2.887
         },
         {
          "Date": "1988-02-01T00:00:00",
          "Duration": "1J",
          "Value": 2.638
         },
         {
          "Date": "1988-03-01T00:00:00",
          "Duration": "1J",
          "Value": 2.641
         },
         {
          "Date": "1988-04-01T00:00:00",
          "Duration": "1J",
          "Value": 2.8
         },
         {
          "Date": "1988-05-01T00:00:00",
          "Duration": "1J",
          "Value": 3.1910000000000003
         },
         {
          "Date": "1988-06-01T00:00:00",
          "Duration": "1J",
          "Value": 3.642
         },
         {
          "Date": "1988-07-01T00:00:00",
          "Duration": "1J",
          "Value": 4.1610000000000005
         },
         {
          "Date": "1988-08-01T00:00:00",
          "Duration": "1J",
          "Value": 4.044
         },
         {
          "Date": "1988-09-01T00:00:00",
          "Duration": "1J",
          "Value": 3.814
         },
         {
          "Date": "1988-10-01T00:00:00",
          "Duration": "1J",
          "Value": 4.1080000000000005
         },
         {
          "Date": "1988-11-01T00:00:00",
          "Duration": "1J",
          "Value": 4.506
         },
         {
          "Date": "1988-12-01T00:00:00",
          "Duration": "1J",
          "Value": 4.691
         },
         {
          "Date": "1989-01-01T00:00:00",
          "Duration": "1J",
          "Value": 5.651
         },
         {
          "Date": "1989-02-01T00:00:00",
          "Duration": "1J",
          "Value": 6.079
         },
         {
          "Date": "1989-03-01T00:00:00",
          "Duration": "1J",
          "Value": 5.9929999999999986
         },
         {
          "Date": "1989-04-01T00:00:00",
          "Duration": "1J",
          "Value": 6.443
         },
         {
          "Date": "1989-05-01T00:00:00",
          "Duration": "1J",
          "Value": 7.4460000000000015
         },
         {
          "Date": "1989-06-01T00:00:00",
          "Duration": "1J",
          "Value": 6.9220000000000015
         },
         {
          "Date": "1989-07-01T00:00:00",
          "Duration": "1J",
          "Value": 6.397
         },
         {
          "Date": "1989-08-01T00:00:00",
          "Duration": "1J",
          "Value": 7.07
         },
         {
          "Date": "1989-09-01T00:00:00",
          "Duration": "1J",
          "Value": 7.606
         },
         {
          "Date": "1989-10-01T00:00:00",
          "Duration": "1J",
          "Value": 7.534
         },
         {
          "Date": "1989-11-01T00:00:00",
          "Duration": "1J",
          "Value": 7.456
         },
         {
          "Date": "1989-12-01T00:00:00",
          "Duration": "1J",
          "Value": 8.068999999999999
         },
         {
          "Date": "1990-01-01T00:00:00",
          "Duration": "1J",
          "Value": 9.093
         },
         {
          "Date": "1990-02-01T00:00:00",
          "Duration": "1J",
          "Value": 8.788
         },
         {
          "Date": "1990-03-01T00:00:00",
          "Duration": "1J",
          "Value": 8.683
         },
         {
          "Date": "1990-04-01T00:00:00",
          "Duration": "1J",
          "Value": 8.971
         },
         {
          "Date": "1990-05-01T00:00:00",
          "Duration": "1J",
          "Value": 8.014
         },
         {
          "Date": "1990-06-01T00:00:00",
          "Duration": "1J",
          "Value": 8.123
         },
         {
          "Date": "1990-07-01T00:00:00",
          "Duration": "1J",
          "Value": 8.263
         },
         {
          "Date": "1990-08-01T00:00:00",
          "Duration": "1J",
          "Value": 8.321
         },
         {
          "Date": "1990-09-01T00:00:00",
          "Duration": "1J",
          "Value": 7.952000000000001
         },
         {
          "Date": "1990-10-01T00:00:00",
          "Duration": "1J",
          "Value": 7.796
         },
         {
          "Date": "1990-11-01T00:00:00",
          "Duration": "1J",
          "Value": 8.36
         },
         {
          "Date": "1990-12-01T00:00:00",
          "Duration": "1J",
          "Value": 8.152000000000001
         },
         {
          "Date": "1991-01-01T00:00:00",
          "Duration": "1J",
          "Value": 7.755
         },
         {
          "Date": "1991-02-01T00:00:00",
          "Duration": "1J",
          "Value": 7.66
         },
         {
          "Date": "1991-03-01T00:00:00",
          "Duration": "1J",
          "Value": 7.629
         },
         {
          "Date": "1991-04-01T00:00:00",
          "Duration": "1J",
          "Value": 7.81
         },
         {
          "Date": "1991-05-01T00:00:00",
          "Duration": "1J",
          "Value": 7.544
         },
         {
          "Date": "1991-06-01T00:00:00",
          "Duration": "1J",
          "Value": 7.644
         },
         {
          "Date": "1991-07-01T00:00:00",
          "Duration": "1J",
          "Value": 7.451
         },
         {
          "Date": "1991-08-01T00:00:00",
          "Duration": "1J",
          "Value": 7.501
         },
         {
          "Date": "1991-09-01T00:00:00",
          "Duration": "1J",
          "Value": 7.39
         },
         {
          "Date": "1991-10-01T00:00:00",
          "Duration": "1J",
          "Value": 7.838999999999999
         },
         {
          "Date": "1991-11-01T00:00:00",
          "Duration": "1J",
          "Value": 7.636
         },
         {
          "Date": "1991-12-01T00:00:00",
          "Duration": "1J",
          "Value": 7.415
         },
         {
          "Date": "1992-01-01T00:00:00",
          "Duration": "1J",
          "Value": 7.22
         },
         {
          "Date": "1992-02-01T00:00:00",
          "Duration": "1J",
          "Value": 7.242000000000001
         },
         {
          "Date": "1992-03-01T00:00:00",
          "Duration": "1J",
          "Value": 7.917000000000002
         },
         {
          "Date": "1992-04-01T00:00:00",
          "Duration": "1J",
          "Value": 8.104
         },
         {
          "Date": "1992-05-01T00:00:00",
          "Duration": "1J",
          "Value": 8.494
         },
         {
          "Date": "1992-06-01T00:00:00",
          "Duration": "1J",
          "Value": 8.513
         },
         {
          "Date": "1992-07-01T00:00:00",
          "Duration": "1J",
          "Value": 8.322000000000001
         },
         {
          "Date": "1992-08-01T00:00:00",
          "Duration": "1J",
          "Value": 7.7
         },
         {
          "Date": "1992-09-01T00:00:00",
          "Duration": "1J",
          "Value": 6.959
         },
         {
          "Date": "1992-10-01T00:00:00",
          "Duration": "1J",
          "Value": 5.95
         },
         {
          "Date": "1992-11-01T00:00:00",
          "Duration": "1J",
          "Value": 6.064
         },
         {
          "Date": "1992-12-01T00:00:00",
          "Duration": "1J",
          "Value": 5.7970000000000015
         },
         {
          "Date": "1993-01-01T00:00:00",
          "Duration": "1J",
          "Value": 5.1389999999999985
         },
         {
          "Date": "1993-02-01T00:00:00",
          "Duration": "1J",
          "Value": 4.894
         },
         {
          "Date": "1993-03-01T00:00:00",
          "Duration": "1J",
          "Value": 4.509
         },
         {
          "Date": "1993-04-01T00:00:00",
          "Duration": "1J",
          "Value": 4.47
         },
         {
          "Date": "1993-05-01T00:00:00",
          "Duration": "1J",
          "Value": 4.626
         },
         {
          "Date": "1993-06-01T00:00:00",
          "Duration": "1J",
          "Value": 4.54
         },
         {
          "Date": "1993-07-01T00:00:00",
          "Duration": "1J",
          "Value": 4.317
         },
         {
          "Date": "1993-08-01T00:00:00",
          "Duration": "1J",
          "Value": 4.336
         },
         {
          "Date": "1993-09-01T00:00:00",
          "Duration": "1J",
          "Value": 4.213
         },
         {
          "Date": "1993-10-01T00:00:00",
          "Duration": "1J",
          "Value": 3.999
         },
         {
          "Date": "1993-11-01T00:00:00",
          "Duration": "1J",
          "Value": 3.867
         },
         {
          "Date": "1993-12-01T00:00:00",
          "Duration": "1J",
          "Value": 3.552
         },
         {
          "Date": "1994-01-01T00:00:00",
          "Duration": "1J",
          "Value": 3.653
         },
         {
          "Date": "1994-02-01T00:00:00",
          "Duration": "1J",
          "Value": 3.806
         },
         {
          "Date": "1994-03-01T00:00:00",
          "Duration": "1J",
          "Value": 3.941
         },
         {
          "Date": "1994-04-01T00:00:00",
          "Duration": "1J",
          "Value": 4.033
         },
         {
          "Date": "1994-05-01T00:00:00",
          "Duration": "1J",
          "Value": 4.045
         },
         {
          "Date": "1994-06-01T00:00:00",
          "Duration": "1J",
          "Value": 4.367
         },
         {
          "Date": "1994-07-01T00:00:00",
          "Duration": "1J",
          "Value": 4.452
         },
         {
          "Date": "1994-08-01T00:00:00",
          "Duration": "1J",
          "Value": 4.605
         },
         {
          "Date": "1994-09-01T00:00:00",
          "Duration": "1J",
          "Value": 4.535
         },
         {
          "Date": "1994-10-01T00:00:00",
          "Duration": "1J",
          "Value": 4.336
         },
         {
          "Date": "1994-11-01T00:00:00",
          "Duration": "1J",
          "Value": 4.424
         },
         {
          "Date": "1994-12-01T00:00:00",
          "Duration": "1J",
          "Value": 4.586
         },
         {
          "Date": "1995-01-01T00:00:00",
          "Duration": "1J",
          "Value": 4.423
         },
         {
          "Date": "1995-02-01T00:00:00",
          "Duration": "1J",
          "Value": 4.259
         },
         {
          "Date": "1995-03-01T00:00:00",
          "Duration": "1J",
          "Value": 3.812
         },
         {
          "Date": "1995-04-01T00:00:00",
          "Duration": "1J",
          "Value": 3.644
         },
         {
          "Date": "1995-05-01T00:00:00",
          "Duration": "1J",
          "Value": 3.48
         },
         {
          "Date": "1995-06-01T00:00:00",
          "Duration": "1J",
          "Value": 3.322
         },
         {
          "Date": "1995-07-01T00:00:00",
          "Duration": "1J",
          "Value": 3.034
         },
         {
          "Date": "1995-08-01T00:00:00",
          "Duration": "1J",
          "Value": 3.065
         },
         {
          "Date": "1995-09-01T00:00:00",
          "Duration": "1J",
          "Value": 2.58
         },
         {
          "Date": "1995-10-01T00:00:00",
          "Duration": "1J",
          "Value": 2.187
         },
         {
          "Date": "1995-11-01T00:00:00",
          "Duration": "1J",
          "Value": 1.896
         },
         {
          "Date": "1995-12-01T00:00:00",
          "Duration": "1J",
          "Value": 1.783
         },
         {
          "Date": "1996-01-01T00:00:00",
          "Duration": "1J",
          "Value": 1.798
         },
         {
          "Date": "1996-02-01T00:00:00",
          "Duration": "1J",
          "Value": 1.883
         },
         {
          "Date": "1996-03-01T00:00:00",
          "Duration": "1J",
          "Value": 1.829
         },
         {
          "Date": "1996-04-01T00:00:00",
          "Duration": "1J",
          "Value": 1.867
         },
         {
          "Date": "1996-05-01T00:00:00",
          "Duration": "1J",
          "Value": 2.649
         },
         {
          "Date": "1996-06-01T00:00:00",
          "Duration": "1J",
          "Value": 2.594
         },
         {
          "Date": "1996-07-01T00:00:00",
          "Duration": "1J",
          "Value": 2.517
         },
         {
          "Date": "1996-08-01T00:00:00",
          "Duration": "1J",
          "Value": 2.206
         },
         {
          "Date": "1996-09-01T00:00:00",
          "Duration": "1J",
          "Value": 1.7719999999999998
         },
         {
          "Date": "1996-10-01T00:00:00",
          "Duration": "1J",
          "Value": 1.7480000000000002
         },
         {
          "Date": "1996-11-01T00:00:00",
          "Duration": "1J",
          "Value": 2.067
         },
         {
          "Date": "1996-12-01T00:00:00",
          "Duration": "1J",
          "Value": 1.723
         },
         {
          "Date": "1997-01-01T00:00:00",
          "Duration": "1J",
          "Value": 1.6869999999999998
         },
         {
          "Date": "1997-02-01T00:00:00",
          "Duration": "1J",
          "Value": 1.571
         },
         {
          "Date": "1997-03-01T00:00:00",
          "Duration": "1J",
          "Value": 1.72
         },
         {
          "Date": "1997-04-01T00:00:00",
          "Duration": "1J",
          "Value": 1.7719999999999998
         },
         {
          "Date": "1997-05-01T00:00:00",
          "Duration": "1J",
          "Value": 1.287
         },
         {
          "Date": "1997-06-01T00:00:00",
          "Duration": "1J",
          "Value": 1.406
         },
         {
          "Date": "1997-07-01T00:00:00",
          "Duration": "1J",
          "Value": 1.5519999999999998
         },
         {
          "Date": "1997-08-01T00:00:00",
          "Duration": "1J",
          "Value": 1.608
         },
         {
          "Date": "1997-09-01T00:00:00",
          "Duration": "1J",
          "Value": 1.7180000000000002
         },
         {
          "Date": "1997-10-01T00:00:00",
          "Duration": "1J",
          "Value": 2.006
         },
         {
          "Date": "1997-11-01T00:00:00",
          "Duration": "1J",
          "Value": 1.953
         },
         {
          "Date": "1997-12-01T00:00:00",
          "Duration": "1J",
          "Value": 1.658
         },
         {
          "Date": "1998-01-01T00:00:00",
          "Duration": "1J",
          "Value": 1.4069999999999998
         },
         {
          "Date": "1998-02-01T00:00:00",
          "Duration": "1J",
          "Value": 1.128
         },
         {
          "Date": "1998-03-01T00:00:00",
          "Duration": "1J",
          "Value": 1.568
         },
         {
          "Date": "1998-04-01T00:00:00",
          "Duration": "1J",
          "Value": 1.715
         },
         {
          "Date": "1998-05-01T00:00:00",
          "Duration": "1J",
          "Value": 1.72
         },
         {
          "Date": "1998-06-01T00:00:00",
          "Duration": "1J",
          "Value": 2.117
         },
         {
          "Date": "1998-07-01T00:00:00",
          "Duration": "1J",
          "Value": 1.982
         },
         {
          "Date": "1998-08-01T00:00:00",
          "Duration": "1J",
          "Value": 1.59
         },
         {
          "Date": "1998-09-01T00:00:00",
          "Duration": "1J",
          "Value": 1.722
         },
         {
          "Date": "1998-10-01T00:00:00",
          "Duration": "1J",
          "Value": 1.398
         },
         {
          "Date": "1998-11-01T00:00:00",
          "Duration": "1J",
          "Value": 1.6840000000000002
         },
         {
          "Date": "1998-12-01T00:00:00",
          "Duration": "1J",
          "Value": 1.753
         },
         {
          "Date": "1999-01-01T00:00:00",
          "Duration": "1J",
          "Value": 1.381
         },
         {
          "Date": "1999-02-01T00:00:00",
          "Duration": "1J",
          "Value": 1.293
         },
         {
          "Date": "1999-03-01T00:00:00",
          "Duration": "1J",
          "Value": 1.375
         },
         {
          "Date": "1999-04-01T00:00:00",
          "Duration": "1J",
          "Value": 1.171
         },
         {
          "Date": "1999-05-01T00:00:00",
          "Duration": "1J",
          "Value": 1.17
         },
         {
          "Date": "1999-06-01T00:00:00",
          "Duration": "1J",
          "Value": 1.588
         },
         {
          "Date": "1999-07-01T00:00:00",
          "Duration": "1J",
          "Value": 1.676
         },
         {
          "Date": "1999-08-01T00:00:00",
          "Duration": "1J",
          "Value": 1.72
         },
         {
          "Date": "1999-09-01T00:00:00",
          "Duration": "1J",
          "Value": 2.11
         },
         {
          "Date": "1999-10-01T00:00:00",
          "Duration": "1J",
          "Value": 2.536
         },
         {
          "Date": "1999-11-01T00:00:00",
          "Duration": "1J",
          "Value": 2.435
         },
         {
          "Date": "1999-12-01T00:00:00",
          "Duration": "1J",
          "Value": 2.17
         },
         {
          "Date": "2000-01-01T00:00:00",
          "Duration": "1J",
          "Value": 2.5380000000000003
         },
         {
          "Date": "2000-02-01T00:00:00",
          "Duration": "1J",
          "Value": 2.984
         },
         {
          "Date": "2000-03-01T00:00:00",
          "Duration": "1J",
          "Value": 3.459
         },
         {
          "Date": "2000-04-01T00:00:00",
          "Duration": "1J",
          "Value": 3.612
         },
         {
          "Date": "2000-05-01T00:00:00",
          "Duration": "1J",
          "Value": 3.721
         },
         {
          "Date": "2000-06-01T00:00:00",
          "Duration": "1J",
          "Value": 3.738
         },
         {
          "Date": "2000-07-01T00:00:00",
          "Duration": "1J",
          "Value": 3.901
         },
         {
          "Date": "2000-08-01T00:00:00",
          "Duration": "1J",
          "Value": 3.843
         },
         {
          "Date": "2000-09-01T00:00:00",
          "Duration": "1J",
          "Value": 3.633
         },
         {
          "Date": "2000-10-01T00:00:00",
          "Duration": "1J",
          "Value": 3.5980000000000003
         },
         {
          "Date": "2000-11-01T00:00:00",
          "Duration": "1J",
          "Value": 3.607
         },
         {
          "Date": "2000-12-01T00:00:00",
          "Duration": "1J",
          "Value": 3.277
         },
         {
          "Date": "2001-01-01T00:00:00",
          "Duration": "1J",
          "Value": 3.225
         },
         {
          "Date": "2001-02-01T00:00:00",
          "Duration": "1J",
          "Value": 3.253
         },
         {
          "Date": "2001-03-01T00:00:00",
          "Duration": "1J",
          "Value": 3.0380000000000003
         },
         {
          "Date": "2001-04-01T00:00:00",
          "Duration": "1J",
          "Value": 3.143
         },
         {
          "Date": "2001-05-01T00:00:00",
          "Duration": "1J",
          "Value": 3.167
         },
         {
          "Date": "2001-06-01T00:00:00",
          "Duration": "1J",
          "Value": 3.128
         },
         {
          "Date": "2001-07-01T00:00:00",
          "Duration": "1J",
          "Value": 3.0980000000000003
         },
         {
          "Date": "2001-08-01T00:00:00",
          "Duration": "1J",
          "Value": 2.807
         },
         {
          "Date": "2001-09-01T00:00:00",
          "Duration": "1J",
          "Value": 2.261
         },
         {
          "Date": "2001-10-01T00:00:00",
          "Duration": "1J",
          "Value": 1.856
         },
         {
          "Date": "2001-11-01T00:00:00",
          "Duration": "1J",
          "Value": 2.147
         },
         {
          "Date": "2001-12-01T00:00:00",
          "Duration": "1J",
          "Value": 2.107
         },
         {
          "Date": "2002-01-01T00:00:00",
          "Duration": "1J",
          "Value": 2.117
         },
         {
          "Date": "2002-02-01T00:00:00",
          "Duration": "1J",
          "Value": 2.128
         },
         {
          "Date": "2002-03-01T00:00:00",
          "Duration": "1J",
          "Value": 2.112
         },
         {
          "Date": "2002-04-01T00:00:00",
          "Duration": "1J",
          "Value": 2.011
         },
         {
          "Date": "2002-05-01T00:00:00",
          "Duration": "1J",
          "Value": 1.73
         },
         {
          "Date": "2002-06-01T00:00:00",
          "Duration": "1J",
          "Value": 1.659
         },
         {
          "Date": "2002-07-01T00:00:00",
          "Duration": "1J",
          "Value": 1.078
         },
         {
          "Date": "2002-08-01T00:00:00",
          "Duration": "1J",
          "Value": 0.934
         },
         {
          "Date": "2002-09-01T00:00:00",
          "Duration": "1J",
          "Value": 0.979
         },
         {
          "Date": "2002-10-01T00:00:00",
          "Duration": "1J",
          "Value": 0.71
         },
         {
          "Date": "2002-11-01T00:00:00",
          "Duration": "1J",
          "Value": 0.923
         },
         {
          "Date": "2002-12-01T00:00:00",
          "Duration": "1J",
          "Value": 0.5589999999999999
         },
         {
          "Date": "2003-01-01T00:00:00",
          "Duration": "1J",
          "Value": 0.601
         },
         {
          "Date": "2003-02-01T00:00:00",
          "Duration": "1J",
          "Value": 0.478
         },
         {
          "Date": "2003-03-01T00:00:00",
          "Duration": "1J",
          "Value": 0.445
         },
         {
          "Date": "2003-04-01T00:00:00",
          "Duration": "1J",
          "Value": 0.44
         },
         {
          "Date": "2003-05-01T00:00:00",
          "Duration": "1J",
          "Value": 0.299
         },
         {
          "Date": "2003-06-01T00:00:00",
          "Duration": "1J",
          "Value": 0.341
         },
         {
          "Date": "2003-07-01T00:00:00",
          "Duration": "1J",
          "Value": 0.35700000000000004
         },
         {
          "Date": "2003-08-01T00:00:00",
          "Duration": "1J",
          "Value": 0.388
         },
         {
          "Date": "2003-09-01T00:00:00",
          "Duration": "1J",
          "Value": 0.315
         },
         {
          "Date": "2003-10-01T00:00:00",
          "Duration": "1J",
          "Value": 0.462
         },
         {
          "Date": "2003-11-01T00:00:00",
          "Duration": "1J",
          "Value": 0.55
         },
         {
          "Date": "2003-12-01T00:00:00",
          "Duration": "1J",
          "Value": 0.484
         },
         {
          "Date": "2004-01-01T00:00:00",
          "Duration": "1J",
          "Value": 0.462
         },
         {
          "Date": "2004-02-01T00:00:00",
          "Duration": "1J",
          "Value": 0.377
         },
         {
          "Date": "2004-03-01T00:00:00",
          "Duration": "1J",
          "Value": 0.39
         },
         {
          "Date": "2004-04-01T00:00:00",
          "Duration": "1J",
          "Value": 0.68
         },
         {
          "Date": "2004-05-01T00:00:00",
          "Duration": "1J",
          "Value": 0.7340000000000001
         },
         {
          "Date": "2004-06-01T00:00:00",
          "Duration": "1J",
          "Value": 1.028
         },
         {
          "Date": "2004-07-01T00:00:00",
          "Duration": "1J",
          "Value": 0.96
         },
         {
          "Date": "2004-08-01T00:00:00",
          "Duration": "1J",
          "Value": 0.847
         },
         {
          "Date": "2004-09-01T00:00:00",
          "Duration": "1J",
          "Value": 0.964
         },
         {
          "Date": "2004-10-01T00:00:00",
          "Duration": "1J",
          "Value": 0.888
         },
         {
          "Date": "2004-11-01T00:00:00",
          "Duration": "1J",
          "Value": 1.013
         },
         {
          "Date": "2004-12-01T00:00:00",
          "Duration": "1J",
          "Value": 0.885
         },
         {
          "Date": "2005-01-01T00:00:00",
          "Duration": "1J",
          "Value": 0.887
         },
         {
          "Date": "2005-02-01T00:00:00",
          "Duration": "1J",
          "Value": 0.899
         },
         {
          "Date": "2005-03-01T00:00:00",
          "Duration": "1J",
          "Value": 0.872
         },
         {
          "Date": "2005-04-01T00:00:00",
          "Duration": "1J",
          "Value": 0.769
         },
         {
          "Date": "2005-05-01T00:00:00",
          "Duration": "1J",
          "Value": 0.772
         },
         {
          "Date": "2005-06-01T00:00:00",
          "Duration": "1J",
          "Value": 0.688
         },
         {
          "Date": "2005-07-01T00:00:00",
          "Duration": "1J",
          "Value": 0.772
         },
         {
          "Date": "2005-08-01T00:00:00",
          "Duration": "1J",
          "Value": 0.818
         },
         {
          "Date": "2005-09-01T00:00:00",
          "Duration": "1J",
          "Value": 0.897
         },
         {
          "Date": "2005-10-01T00:00:00",
          "Duration": "1J",
          "Value": 1.074
         },
         {
          "Date": "2005-11-01T00:00:00",
          "Duration": "1J",
          "Value": 1.361
         },
         {
          "Date": "2005-12-01T00:00:00",
          "Duration": "1J",
          "Value": 1.248
         },
         {
          "Date": "2006-01-01T00:00:00",
          "Duration": "1J",
          "Value": 1.294
         },
         {
          "Date": "2006-02-01T00:00:00",
          "Duration": "1J",
          "Value": 1.476
         },
         {
          "Date": "2006-03-01T00:00:00",
          "Duration": "1J",
          "Value": 1.565
         },
         {
          "Date": "2006-04-01T00:00:00",
          "Duration": "1J",
          "Value": 1.668
         },
         {
          "Date": "2006-05-01T00:00:00",
          "Duration": "1J",
          "Value": 1.754
         },
         {
          "Date": "2006-06-01T00:00:00",
          "Duration": "1J",
          "Value": 1.896
         },
         {
          "Date": "2006-07-01T00:00:00",
          "Duration": "1J",
          "Value": 1.877
         },
         {
          "Date": "2006-08-01T00:00:00",
          "Duration": "1J",
          "Value": 1.934
         },
         {
          "Date": "2006-09-01T00:00:00",
          "Duration": "1J",
          "Value": 1.947
         },
         {
          "Date": "2006-10-01T00:00:00",
          "Duration": "1J",
          "Value": 2.043
         },
         {
          "Date": "2006-11-01T00:00:00",
          "Duration": "1J",
          "Value": 2.095
         },
         {
          "Date": "2006-12-01T00:00:00",
          "Duration": "1J",
          "Value": 2.278
         },
         {
          "Date": "2007-01-01T00:00:00",
          "Duration": "1J",
          "Value": 2.379
         },
         {
          "Date": "2007-02-01T00:00:00",
          "Duration": "1J",
          "Value": 2.338
         },
         {
          "Date": "2007-03-01T00:00:00",
          "Duration": "1J",
          "Value": 2.412
         },
         {
          "Date": "2007-04-01T00:00:00",
          "Duration": "1J",
          "Value": 2.475
         },
         {
          "Date": "2007-05-01T00:00:00",
          "Duration": "1J",
          "Value": 2.71
         },
         {
          "Date": "2007-06-01T00:00:00",
          "Duration": "1J",
          "Value": 2.863
         },
         {
          "Date": "2007-07-01T00:00:00",
          "Duration": "1J",
          "Value": 2.841
         },
         {
          "Date": "2007-08-01T00:00:00",
          "Duration": "1J",
          "Value": 2.753
         },
         {
          "Date": "2007-09-01T00:00:00",
          "Duration": "1J",
          "Value": 2.697
         },
         {
          "Date": "2007-10-01T00:00:00",
          "Duration": "1J",
          "Value": 2.71
         },
         {
          "Date": "2007-11-01T00:00:00",
          "Duration": "1J",
          "Value": 2.594
         },
         {
          "Date": "2007-12-01T00:00:00",
          "Duration": "1J",
          "Value": 2.72
         },
         {
          "Date": "2008-01-01T00:00:00",
          "Duration": "1J",
          "Value": 2.386
         },
         {
          "Date": "2008-02-01T00:00:00",
          "Duration": "1J",
          "Value": 2.484
         },
         {
          "Date": "2008-03-01T00:00:00",
          "Duration": "1J",
          "Value": 2.455
         },
         {
          "Date": "2008-04-01T00:00:00",
          "Duration": "1J",
          "Value": 2.5
         },
         {
          "Date": "2008-05-01T00:00:00",
          "Duration": "1J",
          "Value": 2.462
         },
         {
          "Date": "2008-06-01T00:00:00",
          "Duration": "1J",
          "Value": 2.5380000000000003
         },
         {
          "Date": "2008-07-01T00:00:00",
          "Duration": "1J",
          "Value": 2.45
         },
         {
          "Date": "2008-08-01T00:00:00",
          "Duration": "1J",
          "Value": 2.717
         },
         {
          "Date": "2008-09-01T00:00:00",
          "Duration": "1J",
          "Value": 2.472
         },
         {
          "Date": "2008-10-01T00:00:00",
          "Duration": "1J",
          "Value": 2.002
         },
         {
          "Date": "2008-11-01T00:00:00",
          "Duration": "1J",
          "Value": 0.899
         },
         {
          "Date": "2008-12-01T00:00:00",
          "Duration": "1J",
          "Value": 0.407
         },
         {
          "Date": "2009-01-01T00:00:00",
          "Duration": "1J",
          "Value": 0.293
         },
         {
          "Date": "2009-02-01T00:00:00",
          "Duration": "1J",
          "Value": 0.407
         },
         {
          "Date": "2009-03-01T00:00:00",
          "Duration": "1J",
          "Value": 0.325
         },
         {
          "Date": "2009-04-01T00:00:00",
          "Duration": "1J",
          "Value": 0.294
         },
         {
          "Date": "2009-05-01T00:00:00",
          "Duration": "1J",
          "Value": 0.248
         },
         {
          "Date": "2009-06-01T00:00:00",
          "Duration": "1J",
          "Value": 0.255
         },
         {
          "Date": "2009-07-01T00:00:00",
          "Duration": "1J",
          "Value": 0.248
         },
         {
          "Date": "2009-08-01T00:00:00",
          "Duration": "1J",
          "Value": 0.28800000000000003
         },
         {
          "Date": "2009-09-01T00:00:00",
          "Duration": "1J",
          "Value": 0.313
         },
         {
          "Date": "2009-10-01T00:00:00",
          "Duration": "1J",
          "Value": 0.332
         },
         {
          "Date": "2009-11-01T00:00:00",
          "Duration": "1J",
          "Value": 0.269
         },
         {
          "Date": "2009-12-01T00:00:00",
          "Duration": "1J",
          "Value": 0.281
         },
         {
          "Date": "2010-01-01T00:00:00",
          "Duration": "1J",
          "Value": 0.253
         },
         {
          "Date": "2010-02-01T00:00:00",
          "Duration": "1J",
          "Value": 0.179
         },
         {
          "Date": "2010-03-01T00:00:00",
          "Duration": "1J",
          "Value": 0.25
         },
         {
          "Date": "2010-04-01T00:00:00",
          "Duration": "1J",
          "Value": 0.259
         },
         {
          "Date": "2010-05-01T00:00:00",
          "Duration": "1J",
          "Value": 0.177
         },
         {
          "Date": "2010-06-01T00:00:00",
          "Duration": "1J",
          "Value": 0.177
         },
         {
          "Date": "2010-07-01T00:00:00",
          "Duration": "1J",
          "Value": 0.337
         },
         {
          "Date": "2010-08-01T00:00:00",
          "Duration": "1J",
          "Value": 0.448
         },
         {
          "Date": "2010-09-01T00:00:00",
          "Duration": "1J",
          "Value": 0.507
         },
         {
          "Date": "2010-10-01T00:00:00",
          "Duration": "1J",
          "Value": 0.499
         },
         {
          "Date": "2010-11-01T00:00:00",
          "Duration": "1J",
          "Value": 0.477
         },
         {
          "Date": "2010-12-01T00:00:00",
          "Duration": "1J",
          "Value": 0.44
         },
         {
          "Date": "2011-01-01T00:00:00",
          "Duration": "1J",
          "Value": 0.428
         },
         {
          "Date": "2011-02-01T00:00:00",
          "Duration": "1J",
          "Value": 0.365
         },
         {
          "Date": "2011-03-01T00:00:00",
          "Duration": "1J",
          "Value": 0.415
         },
         {
          "Date": "2011-04-01T00:00:00",
          "Duration": "1J",
          "Value": 0.479
         },
         {
          "Date": "2011-05-01T00:00:00",
          "Duration": "1J",
          "Value": 0.339
         },
         {
          "Date": "2011-06-01T00:00:00",
          "Duration": "1J",
          "Value": 0.35200000000000004
         },
         {
          "Date": "2011-07-01T00:00:00",
          "Duration": "1J",
          "Value": 0.318
         },
         {
          "Date": "2011-08-01T00:00:00",
          "Duration": "1J",
          "Value": 0.045
         },
         {
          "Date": "2011-09-01T00:00:00",
          "Duration": "1J",
          "Value": 0.139
         },
         {
          "Date": "2011-10-01T00:00:00",
          "Duration": "1J",
          "Value": 0.127
         },
         {
          "Date": "2011-11-01T00:00:00",
          "Duration": "1J",
          "Value": 0.149
         },
         {
          "Date": "2011-12-01T00:00:00",
          "Duration": "1J",
          "Value": 0.155
         },
         {
          "Date": "2012-01-01T00:00:00",
          "Duration": "1J",
          "Value": 0.191
         },
         {
          "Date": "2012-02-01T00:00:00",
          "Duration": "1J",
          "Value": 0.189
         },
         {
          "Date": "2012-03-01T00:00:00",
          "Duration": "1J",
          "Value": 0.225
         },
         {
          "Date": "2012-04-01T00:00:00",
          "Duration": "1J",
          "Value": 0.205
         },
         {
          "Date": "2012-05-01T00:00:00",
          "Duration": "1J",
          "Value": 0.122
         },
         {
          "Date": "2012-06-01T00:00:00",
          "Duration": "1J",
          "Value": 0.012
         },
         {
          "Date": "2012-07-01T00:00:00",
          "Duration": "1J",
          "Value": 0.038
         },
         {
          "Date": "2012-08-01T00:00:00",
          "Duration": "1J",
          "Value": 0.025
         },
         {
          "Date": "2012-09-01T00:00:00",
          "Duration": "1J",
          "Value": 0.124
         },
         {
          "Date": "2012-10-01T00:00:00",
          "Duration": "1J",
          "Value": 0.146
         },
         {
          "Date": "2012-11-01T00:00:00",
          "Duration": "1J",
          "Value": 0.117
         },
         {
          "Date": "2012-12-01T00:00:00",
          "Duration": "1J",
          "Value": 0.059
         },
         {
          "Date": "2013-01-01T00:00:00",
          "Duration": "1J",
          "Value": 0.14
         },
         {
          "Date": "2013-02-01T00:00:00",
          "Duration": "1J",
          "Value": 0.13699999999999998
         },
         {
          "Date": "2013-03-01T00:00:00",
          "Duration": "1J",
          "Value": 0.119
         },
         {
          "Date": "2013-04-01T00:00:00",
          "Duration": "1J",
          "Value": 0.079
         },
         {
          "Date": "2013-05-01T00:00:00",
          "Duration": "1J",
          "Value": 0.07829818
         },
         {
          "Date": "2013-06-01T00:00:00",
          "Duration": "1J",
          "Value": 0.07265734
         },
         {
          "Date": "2013-07-01T00:00:00",
          "Duration": "1J",
          "Value": 0.07649304
         },
         {
          "Date": "2013-08-01T00:00:00",
          "Duration": "1J",
          "Value": 0.09603539
         },
         {
          "Date": "2013-09-01T00:00:00",
          "Duration": "1J",
          "Value": 0.09619763
         },
         {
          "Date": "2013-10-01T00:00:00",
          "Duration": "1J",
          "Value": 0.1008528
         },
         {
          "Date": "2013-11-01T00:00:00",
          "Duration": "1J",
          "Value": 0.06378918
         },
         {
          "Date": "2013-12-01T00:00:00",
          "Duration": "1J",
          "Value": 0.04519943
         },
         {
          "Date": "2014-01-01T00:00:00",
          "Duration": "1J",
          "Value": 0.04356279
         },
         {
          "Date": "2014-02-01T00:00:00",
          "Duration": "1J",
          "Value": 0.04947024
         },
         {
          "Date": "2014-03-01T00:00:00",
          "Duration": "1J",
          "Value": 0.08511609
         },
         {
          "Date": "2014-04-01T00:00:00",
          "Duration": "1J",
          "Value": 0.10388926
         },
         {
          "Date": "2014-05-01T00:00:00",
          "Duration": "1J",
          "Value": 0.06972802
         },
         {
          "Date": "2014-06-01T00:00:00",
          "Duration": "1J",
          "Value": 0.09187296
         },
         {
          "Date": "2014-07-01T00:00:00",
          "Duration": "1J",
          "Value": 0.10910633
         },
         {
          "Date": "2014-08-01T00:00:00",
          "Duration": "1J",
          "Value": 0.07810612
         },
         {
          "Date": "2014-09-01T00:00:00",
          "Duration": "1J",
          "Value": 0.05646349
         },
         {
          "Date": "2014-10-01T00:00:00",
          "Duration": "1J",
          "Value": 0.03614148
         },
         {
          "Date": "2014-11-01T00:00:00",
          "Duration": "1J",
          "Value": -0.02185726
         },
         {
          "Date": "2014-12-01T00:00:00",
          "Duration": "1J",
          "Value": -0.09425039999999997
         },
         {
          "Date": "2015-01-01T00:00:00",
          "Duration": "1J",
          "Value": -0.6938551
         },
         {
          "Date": "2015-02-01T00:00:00",
          "Duration": "1J",
          "Value": -0.85310771
         },
         {
          "Date": "2015-03-01T00:00:00",
          "Duration": "1J",
          "Value": -0.74270215
         },
         {
          "Date": "2015-04-01T00:00:00",
          "Duration": "1J",
          "Value": -0.82939553
         },
         {
          "Date": "2015-05-01T00:00:00",
          "Duration": "1J",
          "Value": -0.83892421
         },
         {
          "Date": "2015-06-01T00:00:00",
          "Duration": "1J",
          "Value": -0.9006511
         },
         {
          "Date": "2015-07-01T00:00:00",
          "Duration": "1J",
          "Value": -0.81920267
         },
         {
          "Date": "2015-08-01T00:00:00",
          "Duration": "1J",
          "Value": -0.78366347
         },
         {
          "Date": "2015-09-01T00:00:00",
          "Duration": "1J",
          "Value": -0.82084831
         },
         {
          "Date": "2015-10-01T00:00:00",
          "Duration": "1J",
          "Value": -0.86584416
         },
         {
          "Date": "2015-11-01T00:00:00",
          "Duration": "1J",
          "Value": -0.97926764
         },
         {
          "Date": "2015-12-01T00:00:00",
          "Duration": "1J",
          "Value": -0.81482743
         },
         {
          "Date": "2016-01-01T00:00:00",
          "Duration": "1J",
          "Value": -0.85791026
         },
         {
          "Date": "2016-02-01T00:00:00",
          "Duration": "1J",
          "Value": -0.95787193
         },
         {
          "Date": "2016-03-01T00:00:00",
          "Duration": "1J",
          "Value": -0.85718832
         },
         {
          "Date": "2016-04-01T00:00:00",
          "Duration": "1J",
          "Value": -0.65447807
         },
         {
          "Date": "2016-05-01T00:00:00",
          "Duration": "1J",
          "Value": -0.65539102
         },
         {
          "Date": "2016-06-01T00:00:00",
          "Duration": "1J",
          "Value": -0.77364615
         },
         {
          "Date": "2016-07-01T00:00:00",
          "Duration": "1J",
          "Value": -0.710088
         },
         {
          "Date": "2016-08-01T00:00:00",
          "Duration": "1J",
          "Value": -0.70069374
         },
         {
          "Date": "2016-09-01T00:00:00",
          "Duration": "1J",
          "Value": -0.74157999
         },
         {
          "Date": "2016-10-01T00:00:00",
          "Duration": "1J",
          "Value": -0.6159477
         },
         {
          "Date": "2016-11-01T00:00:00",
          "Duration": "1J",
          "Value": -0.65332042
         },
         {
          "Date": "2016-12-01T00:00:00",
          "Duration": "1J",
          "Value": -0.63456941
         },
         {
          "Date": "2017-01-01T00:00:00",
          "Duration": "1J",
          "Value": -0.65100887
         },
         {
          "Date": "2017-02-01T00:00:00",
          "Duration": "1J",
          "Value": -0.66859121
         },
         {
          "Date": "2017-03-01T00:00:00",
          "Duration": "1J",
          "Value": -0.62924707
         },
         {
          "Date": "2017-04-01T00:00:00",
          "Duration": "1J",
          "Value": -0.63740533
         }
        ]
       },
       "encoding": {
        "x": {
         "field": "Date",
         "type": "temporal"
        },
        "y": {
         "field": "Value",
         "type": "quantitative"
        }
       },
       "mark": "line"
      },
      "image/png": "[encoded data removed]",
      "text/plain": [
       "<VegaLite 2 object>\n",
       "\n",
       "If you see this message, it means the renderer has not been properly enabled\n",
       "for the frontend that you are using. For more information, see\n",
       "https://altair-viz.github.io/user_guide/troubleshooting.html\n"
      ]
     },
     "execution_count": 40,
     "metadata": {},
     "output_type": "execute_result"
    }
   ],
   "source": [
    "df = pd.read_csv(\"../data/snb-data-rendoblim-en-all-20170502_1430.csv\")\n",
    "df['Date'] = pd.to_datetime(df['Date'])\n",
    "df.rename(columns={'D0':'Duration'}, inplace=True)\n",
    "df_1y = df[df['Duration'] == '1J']\n",
    "alt.Chart(df_1y).mark_line().encode(\n",
    "    x='Date',\n",
    "    y='Value'\n",
    ")"
   ]
  },
  {
   "cell_type": "markdown",
   "metadata": {},
   "source": [
    "# Bokeh"
   ]
  },
  {
   "cell_type": "code",
   "execution_count": 1,
   "metadata": {},
   "outputs": [
    {
     "data": {
      "text/html": [
       "\n",
       "    <div class=\"bk-root\">\n",
       "        <a href=\"https://bokeh.pydata.org\" target=\"_blank\" class=\"bk-logo bk-logo-small bk-logo-notebook\"></a>\n",
       "        <span id=\"1001\">Loading BokehJS ...</span>\n",
       "    </div>"
      ]
     },
     "metadata": {},
     "output_type": "display_data"
    },
    {
     "data": {
      "application/javascript": [
       "\n",
       "(function(root) {\n",
       "  function now() {\n",
       "    return new Date();\n",
       "  }\n",
       "\n",
       "  var force = true;\n",
       "\n",
       "  if (typeof root._bokeh_onload_callbacks === \"undefined\" || force === true) {\n",
       "    root._bokeh_onload_callbacks = [];\n",
       "    root._bokeh_is_loading = undefined;\n",
       "  }\n",
       "\n",
       "  var JS_MIME_TYPE = 'application/javascript';\n",
       "  var HTML_MIME_TYPE = 'text/html';\n",
       "  var EXEC_MIME_TYPE = 'application/vnd.bokehjs_exec.v0+json';\n",
       "  var CLASS_NAME = 'output_bokeh rendered_html';\n",
       "\n",
       "  /**\n",
       "   * Render data to the DOM node\n",
       "   */\n",
       "  function render(props, node) {\n",
       "    var script = document.createElement(\"script\");\n",
       "    node.appendChild(script);\n",
       "  }\n",
       "\n",
       "  /**\n",
       "   * Handle when an output is cleared or removed\n",
       "   */\n",
       "  function handleClearOutput(event, handle) {\n",
       "    var cell = handle.cell;\n",
       "\n",
       "    var id = cell.output_area._bokeh_element_id;\n",
       "    var server_id = cell.output_area._bokeh_server_id;\n",
       "    // Clean up Bokeh references\n",
       "    if (id != null && id in Bokeh.index) {\n",
       "      Bokeh.index[id].model.document.clear();\n",
       "      delete Bokeh.index[id];\n",
       "    }\n",
       "\n",
       "    if (server_id !== undefined) {\n",
       "      // Clean up Bokeh references\n",
       "      var cmd = \"from bokeh.io.state import curstate; print(curstate().uuid_to_server['\" + server_id + \"'].get_sessions()[0].document.roots[0]._id)\";\n",
       "      cell.notebook.kernel.execute(cmd, {\n",
       "        iopub: {\n",
       "          output: function(msg) {\n",
       "            var id = msg.content.text.trim();\n",
       "            if (id in Bokeh.index) {\n",
       "              Bokeh.index[id].model.document.clear();\n",
       "              delete Bokeh.index[id];\n",
       "            }\n",
       "          }\n",
       "        }\n",
       "      });\n",
       "      // Destroy server and session\n",
       "      var cmd = \"import bokeh.io.notebook as ion; ion.destroy_server('\" + server_id + \"')\";\n",
       "      cell.notebook.kernel.execute(cmd);\n",
       "    }\n",
       "  }\n",
       "\n",
       "  /**\n",
       "   * Handle when a new output is added\n",
       "   */\n",
       "  function handleAddOutput(event, handle) {\n",
       "    var output_area = handle.output_area;\n",
       "    var output = handle.output;\n",
       "\n",
       "    // limit handleAddOutput to display_data with EXEC_MIME_TYPE content only\n",
       "    if ((output.output_type != \"display_data\") || (!output.data.hasOwnProperty(EXEC_MIME_TYPE))) {\n",
       "      return\n",
       "    }\n",
       "\n",
       "    var toinsert = output_area.element.find(\".\" + CLASS_NAME.split(' ')[0]);\n",
       "\n",
       "    if (output.metadata[EXEC_MIME_TYPE][\"id\"] !== undefined) {\n",
       "      toinsert[toinsert.length - 1].firstChild.textContent = output.data[JS_MIME_TYPE];\n",
       "      // store reference to embed id on output_area\n",
       "      output_area._bokeh_element_id = output.metadata[EXEC_MIME_TYPE][\"id\"];\n",
       "    }\n",
       "    if (output.metadata[EXEC_MIME_TYPE][\"server_id\"] !== undefined) {\n",
       "      var bk_div = document.createElement(\"div\");\n",
       "      bk_div.innerHTML = output.data[HTML_MIME_TYPE];\n",
       "      var script_attrs = bk_div.children[0].attributes;\n",
       "      for (var i = 0; i < script_attrs.length; i++) {\n",
       "        toinsert[toinsert.length - 1].firstChild.setAttribute(script_attrs[i].name, script_attrs[i].value);\n",
       "      }\n",
       "      // store reference to server id on output_area\n",
       "      output_area._bokeh_server_id = output.metadata[EXEC_MIME_TYPE][\"server_id\"];\n",
       "    }\n",
       "  }\n",
       "\n",
       "  function register_renderer(events, OutputArea) {\n",
       "\n",
       "    function append_mime(data, metadata, element) {\n",
       "      // create a DOM node to render to\n",
       "      var toinsert = this.create_output_subarea(\n",
       "        metadata,\n",
       "        CLASS_NAME,\n",
       "        EXEC_MIME_TYPE\n",
       "      );\n",
       "      this.keyboard_manager.register_events(toinsert);\n",
       "      // Render to node\n",
       "      var props = {data: data, metadata: metadata[EXEC_MIME_TYPE]};\n",
       "      render(props, toinsert[toinsert.length - 1]);\n",
       "      element.append(toinsert);\n",
       "      return toinsert\n",
       "    }\n",
       "\n",
       "    /* Handle when an output is cleared or removed */\n",
       "    events.on('clear_output.CodeCell', handleClearOutput);\n",
       "    events.on('delete.Cell', handleClearOutput);\n",
       "\n",
       "    /* Handle when a new output is added */\n",
       "    events.on('output_added.OutputArea', handleAddOutput);\n",
       "\n",
       "    /**\n",
       "     * Register the mime type and append_mime function with output_area\n",
       "     */\n",
       "    OutputArea.prototype.register_mime_type(EXEC_MIME_TYPE, append_mime, {\n",
       "      /* Is output safe? */\n",
       "      safe: true,\n",
       "      /* Index of renderer in `output_area.display_order` */\n",
       "      index: 0\n",
       "    });\n",
       "  }\n",
       "\n",
       "  // register the mime type if in Jupyter Notebook environment and previously unregistered\n",
       "  if (root.Jupyter !== undefined) {\n",
       "    var events = require('base/js/events');\n",
       "    var OutputArea = require('notebook/js/outputarea').OutputArea;\n",
       "\n",
       "    if (OutputArea.prototype.mime_types().indexOf(EXEC_MIME_TYPE) == -1) {\n",
       "      register_renderer(events, OutputArea);\n",
       "    }\n",
       "  }\n",
       "\n",
       "  \n",
       "  if (typeof (root._bokeh_timeout) === \"undefined\" || force === true) {\n",
       "    root._bokeh_timeout = Date.now() + 5000;\n",
       "    root._bokeh_failed_load = false;\n",
       "  }\n",
       "\n",
       "  var NB_LOAD_WARNING = {'data': {'text/html':\n",
       "     \"<div style='background-color: #fdd'>\\n\"+\n",
       "     \"<p>\\n\"+\n",
       "     \"BokehJS does not appear to have successfully loaded. If loading BokehJS from CDN, this \\n\"+\n",
       "     \"may be due to a slow or bad network connection. Possible fixes:\\n\"+\n",
       "     \"</p>\\n\"+\n",
       "     \"<ul>\\n\"+\n",
       "     \"<li>re-rerun `output_notebook()` to attempt to load from CDN again, or</li>\\n\"+\n",
       "     \"<li>use INLINE resources instead, as so:</li>\\n\"+\n",
       "     \"</ul>\\n\"+\n",
       "     \"<code>\\n\"+\n",
       "     \"from bokeh.resources import INLINE\\n\"+\n",
       "     \"output_notebook(resources=INLINE)\\n\"+\n",
       "     \"</code>\\n\"+\n",
       "     \"</div>\"}};\n",
       "\n",
       "  function display_loaded() {\n",
       "    var el = document.getElementById(\"1001\");\n",
       "    if (el != null) {\n",
       "      el.textContent = \"BokehJS is loading...\";\n",
       "    }\n",
       "    if (root.Bokeh !== undefined) {\n",
       "      if (el != null) {\n",
       "        el.textContent = \"BokehJS \" + root.Bokeh.version + \" successfully loaded.\";\n",
       "      }\n",
       "    } else if (Date.now() < root._bokeh_timeout) {\n",
       "      setTimeout(display_loaded, 100)\n",
       "    }\n",
       "  }\n",
       "\n",
       "\n",
       "  function run_callbacks() {\n",
       "    try {\n",
       "      root._bokeh_onload_callbacks.forEach(function(callback) {\n",
       "        if (callback != null)\n",
       "          callback();\n",
       "      });\n",
       "    } finally {\n",
       "      delete root._bokeh_onload_callbacks\n",
       "    }\n",
       "    console.debug(\"Bokeh: all callbacks have finished\");\n",
       "  }\n",
       "\n",
       "  function load_libs(css_urls, js_urls, callback) {\n",
       "    if (css_urls == null) css_urls = [];\n",
       "    if (js_urls == null) js_urls = [];\n",
       "\n",
       "    root._bokeh_onload_callbacks.push(callback);\n",
       "    if (root._bokeh_is_loading > 0) {\n",
       "      console.debug(\"Bokeh: BokehJS is being loaded, scheduling callback at\", now());\n",
       "      return null;\n",
       "    }\n",
       "    if (js_urls == null || js_urls.length === 0) {\n",
       "      run_callbacks();\n",
       "      return null;\n",
       "    }\n",
       "    console.debug(\"Bokeh: BokehJS not loaded, scheduling load and callback at\", now());\n",
       "    root._bokeh_is_loading = css_urls.length + js_urls.length;\n",
       "\n",
       "    function on_load() {\n",
       "      root._bokeh_is_loading--;\n",
       "      if (root._bokeh_is_loading === 0) {\n",
       "        console.debug(\"Bokeh: all BokehJS libraries/stylesheets loaded\");\n",
       "        run_callbacks()\n",
       "      }\n",
       "    }\n",
       "\n",
       "    function on_error() {\n",
       "      console.error(\"failed to load \" + url);\n",
       "    }\n",
       "\n",
       "    for (var i = 0; i < css_urls.length; i++) {\n",
       "      var url = css_urls[i];\n",
       "      const element = document.createElement(\"link\");\n",
       "      element.onload = on_load;\n",
       "      element.onerror = on_error;\n",
       "      element.rel = \"stylesheet\";\n",
       "      element.type = \"text/css\";\n",
       "      element.href = url;\n",
       "      console.debug(\"Bokeh: injecting link tag for BokehJS stylesheet: \", url);\n",
       "      document.body.appendChild(element);\n",
       "    }\n",
       "\n",
       "    for (var i = 0; i < js_urls.length; i++) {\n",
       "      var url = js_urls[i];\n",
       "      var element = document.createElement('script');\n",
       "      element.onload = on_load;\n",
       "      element.onerror = on_error;\n",
       "      element.async = false;\n",
       "      element.src = url;\n",
       "      console.debug(\"Bokeh: injecting script tag for BokehJS library: \", url);\n",
       "      document.head.appendChild(element);\n",
       "    }\n",
       "  };var element = document.getElementById(\"1001\");\n",
       "  if (element == null) {\n",
       "    console.error(\"Bokeh: ERROR: autoload.js configured with elementid '1001' but no matching script tag was found. \")\n",
       "    return false;\n",
       "  }\n",
       "\n",
       "  function inject_raw_css(css) {\n",
       "    const element = document.createElement(\"style\");\n",
       "    element.appendChild(document.createTextNode(css));\n",
       "    document.body.appendChild(element);\n",
       "  }\n",
       "\n",
       "  var js_urls = [\"https://cdn.pydata.org/bokeh/release/bokeh-1.2.0.min.js\", \"https://cdn.pydata.org/bokeh/release/bokeh-widgets-1.2.0.min.js\", \"https://cdn.pydata.org/bokeh/release/bokeh-tables-1.2.0.min.js\", \"https://cdn.pydata.org/bokeh/release/bokeh-gl-1.2.0.min.js\"];\n",
       "  var css_urls = [\"https://cdn.pydata.org/bokeh/release/bokeh-1.2.0.min.css\", \"https://cdn.pydata.org/bokeh/release/bokeh-widgets-1.2.0.min.css\", \"https://cdn.pydata.org/bokeh/release/bokeh-tables-1.2.0.min.css\"];\n",
       "\n",
       "  var inline_js = [\n",
       "    function(Bokeh) {\n",
       "      Bokeh.set_log_level(\"info\");\n",
       "    },\n",
       "    \n",
       "    function(Bokeh) {\n",
       "      \n",
       "    },\n",
       "    function(Bokeh) {} // ensure no trailing comma for IE\n",
       "  ];\n",
       "\n",
       "  function run_inline_js() {\n",
       "    \n",
       "    if ((root.Bokeh !== undefined) || (force === true)) {\n",
       "      for (var i = 0; i < inline_js.length; i++) {\n",
       "        inline_js[i].call(root, root.Bokeh);\n",
       "      }if (force === true) {\n",
       "        display_loaded();\n",
       "      }} else if (Date.now() < root._bokeh_timeout) {\n",
       "      setTimeout(run_inline_js, 100);\n",
       "    } else if (!root._bokeh_failed_load) {\n",
       "      console.log(\"Bokeh: BokehJS failed to load within specified timeout.\");\n",
       "      root._bokeh_failed_load = true;\n",
       "    } else if (force !== true) {\n",
       "      var cell = $(document.getElementById(\"1001\")).parents('.cell').data().cell;\n",
       "      cell.output_area.append_execute_result(NB_LOAD_WARNING)\n",
       "    }\n",
       "\n",
       "  }\n",
       "\n",
       "  if (root._bokeh_is_loading === 0) {\n",
       "    console.debug(\"Bokeh: BokehJS loaded, going straight to plotting\");\n",
       "    run_inline_js();\n",
       "  } else {\n",
       "    load_libs(css_urls, js_urls, function() {\n",
       "      console.debug(\"Bokeh: BokehJS plotting callback run at\", now());\n",
       "      run_inline_js();\n",
       "    });\n",
       "  }\n",
       "}(window));"
      ],
      "application/vnd.bokehjs_load.v0+json": "\n(function(root) {\n  function now() {\n    return new Date();\n  }\n\n  var force = true;\n\n  if (typeof root._bokeh_onload_callbacks === \"undefined\" || force === true) {\n    root._bokeh_onload_callbacks = [];\n    root._bokeh_is_loading = undefined;\n  }\n\n  \n\n  \n  if (typeof (root._bokeh_timeout) === \"undefined\" || force === true) {\n    root._bokeh_timeout = Date.now() + 5000;\n    root._bokeh_failed_load = false;\n  }\n\n  var NB_LOAD_WARNING = {'data': {'text/html':\n     \"<div style='background-color: #fdd'>\\n\"+\n     \"<p>\\n\"+\n     \"BokehJS does not appear to have successfully loaded. If loading BokehJS from CDN, this \\n\"+\n     \"may be due to a slow or bad network connection. Possible fixes:\\n\"+\n     \"</p>\\n\"+\n     \"<ul>\\n\"+\n     \"<li>re-rerun `output_notebook()` to attempt to load from CDN again, or</li>\\n\"+\n     \"<li>use INLINE resources instead, as so:</li>\\n\"+\n     \"</ul>\\n\"+\n     \"<code>\\n\"+\n     \"from bokeh.resources import INLINE\\n\"+\n     \"output_notebook(resources=INLINE)\\n\"+\n     \"</code>\\n\"+\n     \"</div>\"}};\n\n  function display_loaded() {\n    var el = document.getElementById(\"1001\");\n    if (el != null) {\n      el.textContent = \"BokehJS is loading...\";\n    }\n    if (root.Bokeh !== undefined) {\n      if (el != null) {\n        el.textContent = \"BokehJS \" + root.Bokeh.version + \" successfully loaded.\";\n      }\n    } else if (Date.now() < root._bokeh_timeout) {\n      setTimeout(display_loaded, 100)\n    }\n  }\n\n\n  function run_callbacks() {\n    try {\n      root._bokeh_onload_callbacks.forEach(function(callback) {\n        if (callback != null)\n          callback();\n      });\n    } finally {\n      delete root._bokeh_onload_callbacks\n    }\n    console.debug(\"Bokeh: all callbacks have finished\");\n  }\n\n  function load_libs(css_urls, js_urls, callback) {\n    if (css_urls == null) css_urls = [];\n    if (js_urls == null) js_urls = [];\n\n    root._bokeh_onload_callbacks.push(callback);\n    if (root._bokeh_is_loading > 0) {\n      console.debug(\"Bokeh: BokehJS is being loaded, scheduling callback at\", now());\n      return null;\n    }\n    if (js_urls == null || js_urls.length === 0) {\n      run_callbacks();\n      return null;\n    }\n    console.debug(\"Bokeh: BokehJS not loaded, scheduling load and callback at\", now());\n    root._bokeh_is_loading = css_urls.length + js_urls.length;\n\n    function on_load() {\n      root._bokeh_is_loading--;\n      if (root._bokeh_is_loading === 0) {\n        console.debug(\"Bokeh: all BokehJS libraries/stylesheets loaded\");\n        run_callbacks()\n      }\n    }\n\n    function on_error() {\n      console.error(\"failed to load \" + url);\n    }\n\n    for (var i = 0; i < css_urls.length; i++) {\n      var url = css_urls[i];\n      const element = document.createElement(\"link\");\n      element.onload = on_load;\n      element.onerror = on_error;\n      element.rel = \"stylesheet\";\n      element.type = \"text/css\";\n      element.href = url;\n      console.debug(\"Bokeh: injecting link tag for BokehJS stylesheet: \", url);\n      document.body.appendChild(element);\n    }\n\n    for (var i = 0; i < js_urls.length; i++) {\n      var url = js_urls[i];\n      var element = document.createElement('script');\n      element.onload = on_load;\n      element.onerror = on_error;\n      element.async = false;\n      element.src = url;\n      console.debug(\"Bokeh: injecting script tag for BokehJS library: \", url);\n      document.head.appendChild(element);\n    }\n  };var element = document.getElementById(\"1001\");\n  if (element == null) {\n    console.error(\"Bokeh: ERROR: autoload.js configured with elementid '1001' but no matching script tag was found. \")\n    return false;\n  }\n\n  function inject_raw_css(css) {\n    const element = document.createElement(\"style\");\n    element.appendChild(document.createTextNode(css));\n    document.body.appendChild(element);\n  }\n\n  var js_urls = [\"https://cdn.pydata.org/bokeh/release/bokeh-1.2.0.min.js\", \"https://cdn.pydata.org/bokeh/release/bokeh-widgets-1.2.0.min.js\", \"https://cdn.pydata.org/bokeh/release/bokeh-tables-1.2.0.min.js\", \"https://cdn.pydata.org/bokeh/release/bokeh-gl-1.2.0.min.js\"];\n  var css_urls = [\"https://cdn.pydata.org/bokeh/release/bokeh-1.2.0.min.css\", \"https://cdn.pydata.org/bokeh/release/bokeh-widgets-1.2.0.min.css\", \"https://cdn.pydata.org/bokeh/release/bokeh-tables-1.2.0.min.css\"];\n\n  var inline_js = [\n    function(Bokeh) {\n      Bokeh.set_log_level(\"info\");\n    },\n    \n    function(Bokeh) {\n      \n    },\n    function(Bokeh) {} // ensure no trailing comma for IE\n  ];\n\n  function run_inline_js() {\n    \n    if ((root.Bokeh !== undefined) || (force === true)) {\n      for (var i = 0; i < inline_js.length; i++) {\n        inline_js[i].call(root, root.Bokeh);\n      }if (force === true) {\n        display_loaded();\n      }} else if (Date.now() < root._bokeh_timeout) {\n      setTimeout(run_inline_js, 100);\n    } else if (!root._bokeh_failed_load) {\n      console.log(\"Bokeh: BokehJS failed to load within specified timeout.\");\n      root._bokeh_failed_load = true;\n    } else if (force !== true) {\n      var cell = $(document.getElementById(\"1001\")).parents('.cell').data().cell;\n      cell.output_area.append_execute_result(NB_LOAD_WARNING)\n    }\n\n  }\n\n  if (root._bokeh_is_loading === 0) {\n    console.debug(\"Bokeh: BokehJS loaded, going straight to plotting\");\n    run_inline_js();\n  } else {\n    load_libs(css_urls, js_urls, function() {\n      console.debug(\"Bokeh: BokehJS plotting callback run at\", now());\n      run_inline_js();\n    });\n  }\n}(window));"
     },
     "metadata": {},
     "output_type": "display_data"
    }
   ],
   "source": [
    "import bokeh\n",
    "from bokeh.plotting import figure, show\n",
    "from bokeh.io import output_notebook\n",
    "from bokeh.models import ColumnDataSource\n",
    "output_notebook()"
   ]
  },
  {
   "cell_type": "code",
   "execution_count": 42,
   "metadata": {},
   "outputs": [],
   "source": [
    "df = pd.read_csv(\"../data/snb-data-rendoblim-en-all-20170502_1430.csv\")\n",
    "df['Date'] = pd.to_datetime(df['Date'])\n",
    "df.rename(columns={'D0':'Duration'}, inplace=True)"
   ]
  },
  {
   "cell_type": "code",
   "execution_count": 43,
   "metadata": {},
   "outputs": [
    {
     "data": {
      "text/html": [
       "\n",
       "\n",
       "\n",
       "\n",
       "\n",
       "\n",
       "  <div class=\"bk-root\" id=\"1db00d1b-40f2-4bec-97a2-2fed96f65e79\" data-root-id=\"1002\"></div>\n"
      ]
     },
     "metadata": {},
     "output_type": "display_data"
    },
    {
     "data": {
      "application/javascript": [
       "(function(root) {\n",
       "  function embed_document(root) {\n",
       "    \n",
       "  var docs_json = {\"7b47d4bc-fc03-461f-9162-7d2947d19636\":{\"roots\":{\"references\":[{\"attributes\":{\"below\":[{\"id\":\"1011\",\"type\":\"DatetimeAxis\"}],\"center\":[{\"id\":\"1015\",\"type\":\"Grid\"},{\"id\":\"1020\",\"type\":\"Grid\"}],\"left\":[{\"id\":\"1016\",\"type\":\"LinearAxis\"}],\"renderers\":[{\"id\":\"1037\",\"type\":\"GlyphRenderer\"}],\"title\":{\"id\":\"1040\",\"type\":\"Title\"},\"toolbar\":{\"id\":\"1027\",\"type\":\"Toolbar\"},\"x_range\":{\"id\":\"1003\",\"type\":\"DataRange1d\"},\"x_scale\":{\"id\":\"1007\",\"type\":\"LinearScale\"},\"y_range\":{\"id\":\"1005\",\"type\":\"DataRange1d\"},\"y_scale\":{\"id\":\"1009\",\"type\":\"LinearScale\"}},\"id\":\"1002\",\"subtype\":\"Figure\",\"type\":\"Plot\"},{\"attributes\":{},\"id\":\"1017\",\"type\":\"BasicTicker\"},{\"attributes\":{},\"id\":\"1044\",\"type\":\"DatetimeTickFormatter\"},{\"attributes\":{\"months\":[0,1,2,3,4,5,6,7,8,9,10,11]},\"id\":\"1052\",\"type\":\"MonthsTicker\"},{\"attributes\":{},\"id\":\"1024\",\"type\":\"SaveTool\"},{\"attributes\":{},\"id\":\"1042\",\"type\":\"BasicTickFormatter\"},{\"attributes\":{\"months\":[0,2,4,6,8,10]},\"id\":\"1053\",\"type\":\"MonthsTicker\"},{\"attributes\":{\"line_color\":\"#1f77b4\",\"x\":{\"field\":\"x\"},\"y\":{\"field\":\"y\"}},\"id\":\"1035\",\"type\":\"Line\"},{\"attributes\":{\"callback\":null},\"id\":\"1003\",\"type\":\"DataRange1d\"},{\"attributes\":{\"text\":\"\"},\"id\":\"1040\",\"type\":\"Title\"},{\"attributes\":{\"months\":[0,4,8]},\"id\":\"1054\",\"type\":\"MonthsTicker\"},{\"attributes\":{\"months\":[0,6]},\"id\":\"1055\",\"type\":\"MonthsTicker\"},{\"attributes\":{\"source\":{\"id\":\"1034\",\"type\":\"ColumnDataSource\"}},\"id\":\"1038\",\"type\":\"CDSView\"},{\"attributes\":{\"formatter\":{\"id\":\"1042\",\"type\":\"BasicTickFormatter\"},\"ticker\":{\"id\":\"1017\",\"type\":\"BasicTicker\"}},\"id\":\"1016\",\"type\":\"LinearAxis\"},{\"attributes\":{},\"id\":\"1056\",\"type\":\"YearsTicker\"},{\"attributes\":{\"data_source\":{\"id\":\"1034\",\"type\":\"ColumnDataSource\"},\"glyph\":{\"id\":\"1035\",\"type\":\"Line\"},\"hover_glyph\":null,\"muted_glyph\":null,\"nonselection_glyph\":{\"id\":\"1036\",\"type\":\"Line\"},\"selection_glyph\":null,\"view\":{\"id\":\"1038\",\"type\":\"CDSView\"}},\"id\":\"1037\",\"type\":\"GlyphRenderer\"},{\"attributes\":{},\"id\":\"1057\",\"type\":\"Selection\"},{\"attributes\":{},\"id\":\"1025\",\"type\":\"ResetTool\"},{\"attributes\":{},\"id\":\"1058\",\"type\":\"UnionRenderers\"},{\"attributes\":{\"ticker\":{\"id\":\"1012\",\"type\":\"DatetimeTicker\"}},\"id\":\"1015\",\"type\":\"Grid\"},{\"attributes\":{\"bottom_units\":\"screen\",\"fill_alpha\":{\"value\":0.5},\"fill_color\":{\"value\":\"lightgrey\"},\"left_units\":\"screen\",\"level\":\"overlay\",\"line_alpha\":{\"value\":1.0},\"line_color\":{\"value\":\"black\"},\"line_dash\":[4,4],\"line_width\":{\"value\":2},\"render_mode\":\"css\",\"right_units\":\"screen\",\"top_units\":\"screen\"},\"id\":\"1059\",\"type\":\"BoxAnnotation\"},{\"attributes\":{\"num_minor_ticks\":5,\"tickers\":[{\"id\":\"1045\",\"type\":\"AdaptiveTicker\"},{\"id\":\"1046\",\"type\":\"AdaptiveTicker\"},{\"id\":\"1047\",\"type\":\"AdaptiveTicker\"},{\"id\":\"1048\",\"type\":\"DaysTicker\"},{\"id\":\"1049\",\"type\":\"DaysTicker\"},{\"id\":\"1050\",\"type\":\"DaysTicker\"},{\"id\":\"1051\",\"type\":\"DaysTicker\"},{\"id\":\"1052\",\"type\":\"MonthsTicker\"},{\"id\":\"1053\",\"type\":\"MonthsTicker\"},{\"id\":\"1054\",\"type\":\"MonthsTicker\"},{\"id\":\"1055\",\"type\":\"MonthsTicker\"},{\"id\":\"1056\",\"type\":\"YearsTicker\"}]},\"id\":\"1012\",\"type\":\"DatetimeTicker\"},{\"attributes\":{\"base\":60,\"mantissas\":[1,2,5,10,15,20,30],\"max_interval\":1800000.0,\"min_interval\":1000.0,\"num_minor_ticks\":0},\"id\":\"1046\",\"type\":\"AdaptiveTicker\"},{\"attributes\":{\"formatter\":{\"id\":\"1044\",\"type\":\"DatetimeTickFormatter\"},\"ticker\":{\"id\":\"1012\",\"type\":\"DatetimeTicker\"}},\"id\":\"1011\",\"type\":\"DatetimeAxis\"},{\"attributes\":{\"mantissas\":[1,2,5],\"max_interval\":500.0,\"num_minor_ticks\":0},\"id\":\"1045\",\"type\":\"AdaptiveTicker\"},{\"attributes\":{},\"id\":\"1026\",\"type\":\"HelpTool\"},{\"attributes\":{\"callback\":null,\"data\":{\"x\":{\"__ndarray__\":\"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\",\"dtype\":\"float64\",\"shape\":[352]},\"y\":{\"__ndarray__\":\"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\",\"dtype\":\"float64\",\"shape\":[352]}},\"selected\":{\"id\":\"1057\",\"type\":\"Selection\"},\"selection_policy\":{\"id\":\"1058\",\"type\":\"UnionRenderers\"}},\"id\":\"1034\",\"type\":\"ColumnDataSource\"},{\"attributes\":{\"overlay\":{\"id\":\"1059\",\"type\":\"BoxAnnotation\"}},\"id\":\"1023\",\"type\":\"BoxZoomTool\"},{\"attributes\":{},\"id\":\"1009\",\"type\":\"LinearScale\"},{\"attributes\":{\"base\":24,\"mantissas\":[1,2,4,6,8,12],\"max_interval\":43200000.0,\"min_interval\":3600000.0,\"num_minor_ticks\":0},\"id\":\"1047\",\"type\":\"AdaptiveTicker\"},{\"attributes\":{},\"id\":\"1007\",\"type\":\"LinearScale\"},{\"attributes\":{\"days\":[1,2,3,4,5,6,7,8,9,10,11,12,13,14,15,16,17,18,19,20,21,22,23,24,25,26,27,28,29,30,31]},\"id\":\"1048\",\"type\":\"DaysTicker\"},{\"attributes\":{\"callback\":null},\"id\":\"1005\",\"type\":\"DataRange1d\"},{\"attributes\":{\"dimension\":1,\"ticker\":{\"id\":\"1017\",\"type\":\"BasicTicker\"}},\"id\":\"1020\",\"type\":\"Grid\"},{\"attributes\":{\"days\":[1,4,7,10,13,16,19,22,25,28]},\"id\":\"1049\",\"type\":\"DaysTicker\"},{\"attributes\":{},\"id\":\"1022\",\"type\":\"WheelZoomTool\"},{\"attributes\":{\"days\":[1,8,15,22]},\"id\":\"1050\",\"type\":\"DaysTicker\"},{\"attributes\":{},\"id\":\"1021\",\"type\":\"PanTool\"},{\"attributes\":{\"active_drag\":\"auto\",\"active_inspect\":\"auto\",\"active_multi\":null,\"active_scroll\":\"auto\",\"active_tap\":\"auto\",\"tools\":[{\"id\":\"1021\",\"type\":\"PanTool\"},{\"id\":\"1022\",\"type\":\"WheelZoomTool\"},{\"id\":\"1023\",\"type\":\"BoxZoomTool\"},{\"id\":\"1024\",\"type\":\"SaveTool\"},{\"id\":\"1025\",\"type\":\"ResetTool\"},{\"id\":\"1026\",\"type\":\"HelpTool\"}]},\"id\":\"1027\",\"type\":\"Toolbar\"},{\"attributes\":{\"days\":[1,15]},\"id\":\"1051\",\"type\":\"DaysTicker\"},{\"attributes\":{\"line_alpha\":0.1,\"line_color\":\"#1f77b4\",\"x\":{\"field\":\"x\"},\"y\":{\"field\":\"y\"}},\"id\":\"1036\",\"type\":\"Line\"}],\"root_ids\":[\"1002\"]},\"title\":\"Bokeh Application\",\"version\":\"1.3.4\"}};\n",
       "  var render_items = [{\"docid\":\"7b47d4bc-fc03-461f-9162-7d2947d19636\",\"roots\":{\"1002\":\"1db00d1b-40f2-4bec-97a2-2fed96f65e79\"}}];\n",
       "  root.Bokeh.embed.embed_items_notebook(docs_json, render_items);\n",
       "\n",
       "  }\n",
       "  if (root.Bokeh !== undefined) {\n",
       "    embed_document(root);\n",
       "  } else {\n",
       "    var attempts = 0;\n",
       "    var timer = setInterval(function(root) {\n",
       "      if (root.Bokeh !== undefined) {\n",
       "        embed_document(root);\n",
       "        clearInterval(timer);\n",
       "      }\n",
       "      attempts++;\n",
       "      if (attempts > 100) {\n",
       "        console.log(\"Bokeh: ERROR: Unable to run BokehJS code because BokehJS library is missing\");\n",
       "        clearInterval(timer);\n",
       "      }\n",
       "    }, 10, root)\n",
       "  }\n",
       "})(window);"
      ],
      "application/vnd.bokehjs_exec.v0+json": ""
     },
     "metadata": {
      "application/vnd.bokehjs_exec.v0+json": {
       "id": "1002"
      }
     },
     "output_type": "display_data"
    }
   ],
   "source": [
    "tdf = df.pivot(index='Date', columns='Duration', values='Value').reset_index()\n",
    "p = figure(x_axis_type=\"datetime\")\n",
    "p.line(x=tdf['Date'], y=tdf['1J'])\n",
    "show(p)"
   ]
  }
 ],
 "metadata": {
  "kernelspec": {
   "display_name": "Python 3",
   "language": "python",
   "name": "python3"
  },
  "language_info": {
   "codemirror_mode": {
    "name": "ipython",
    "version": 3
   },
   "file_extension": ".py",
   "mimetype": "text/x-python",
   "name": "python",
   "nbconvert_exporter": "python",
   "pygments_lexer": "ipython3",
   "version": "3.7.3"
  }
 },
 "nbformat": 4,
 "nbformat_minor": 4
}
